{
 "cells": [
  {
   "cell_type": "markdown",
   "metadata": {},
   "source": [
    "Problem Statement: A Chinese automobile company Geely Auto wants to understand the factors on which the price of the car depends in the American market because they aspire to enter the US market.\n",
    "\n",
    "To Determine: Which variables are significant in predicting the price of a car How well those variables describe the price "
   ]
  },
  {
   "cell_type": "code",
   "execution_count": 1,
   "metadata": {},
   "outputs": [],
   "source": [
    "import numpy as np\n",
    "import pandas as pd\n",
    "import matplotlib.pyplot as plt\n",
    "import seaborn as sns\n",
    "\n",
    "\n",
    "# reading the raw data available into a python dataframe\n",
    "carData = pd.read_csv('CarPrice_Assignment.csv', encoding = 'palmos')"
   ]
  },
  {
   "cell_type": "code",
   "execution_count": 2,
   "metadata": {},
   "outputs": [
    {
     "data": {
      "text/html": [
       "<div>\n",
       "<style scoped>\n",
       "    .dataframe tbody tr th:only-of-type {\n",
       "        vertical-align: middle;\n",
       "    }\n",
       "\n",
       "    .dataframe tbody tr th {\n",
       "        vertical-align: top;\n",
       "    }\n",
       "\n",
       "    .dataframe thead th {\n",
       "        text-align: right;\n",
       "    }\n",
       "</style>\n",
       "<table border=\"1\" class=\"dataframe\">\n",
       "  <thead>\n",
       "    <tr style=\"text-align: right;\">\n",
       "      <th></th>\n",
       "      <th>car_ID</th>\n",
       "      <th>symboling</th>\n",
       "      <th>CarName</th>\n",
       "      <th>fueltype</th>\n",
       "      <th>aspiration</th>\n",
       "      <th>doornumber</th>\n",
       "      <th>carbody</th>\n",
       "      <th>drivewheel</th>\n",
       "      <th>enginelocation</th>\n",
       "      <th>wheelbase</th>\n",
       "      <th>...</th>\n",
       "      <th>enginesize</th>\n",
       "      <th>fuelsystem</th>\n",
       "      <th>boreratio</th>\n",
       "      <th>stroke</th>\n",
       "      <th>compressionratio</th>\n",
       "      <th>horsepower</th>\n",
       "      <th>peakrpm</th>\n",
       "      <th>citympg</th>\n",
       "      <th>highwaympg</th>\n",
       "      <th>price</th>\n",
       "    </tr>\n",
       "  </thead>\n",
       "  <tbody>\n",
       "    <tr>\n",
       "      <th>0</th>\n",
       "      <td>1</td>\n",
       "      <td>3</td>\n",
       "      <td>alfa-romero giulia</td>\n",
       "      <td>gas</td>\n",
       "      <td>std</td>\n",
       "      <td>two</td>\n",
       "      <td>convertible</td>\n",
       "      <td>rwd</td>\n",
       "      <td>front</td>\n",
       "      <td>88.6</td>\n",
       "      <td>...</td>\n",
       "      <td>130</td>\n",
       "      <td>mpfi</td>\n",
       "      <td>3.47</td>\n",
       "      <td>2.68</td>\n",
       "      <td>9.0</td>\n",
       "      <td>111</td>\n",
       "      <td>5000</td>\n",
       "      <td>21</td>\n",
       "      <td>27</td>\n",
       "      <td>13495.0</td>\n",
       "    </tr>\n",
       "    <tr>\n",
       "      <th>1</th>\n",
       "      <td>2</td>\n",
       "      <td>3</td>\n",
       "      <td>alfa-romero stelvio</td>\n",
       "      <td>gas</td>\n",
       "      <td>std</td>\n",
       "      <td>two</td>\n",
       "      <td>convertible</td>\n",
       "      <td>rwd</td>\n",
       "      <td>front</td>\n",
       "      <td>88.6</td>\n",
       "      <td>...</td>\n",
       "      <td>130</td>\n",
       "      <td>mpfi</td>\n",
       "      <td>3.47</td>\n",
       "      <td>2.68</td>\n",
       "      <td>9.0</td>\n",
       "      <td>111</td>\n",
       "      <td>5000</td>\n",
       "      <td>21</td>\n",
       "      <td>27</td>\n",
       "      <td>16500.0</td>\n",
       "    </tr>\n",
       "    <tr>\n",
       "      <th>2</th>\n",
       "      <td>3</td>\n",
       "      <td>1</td>\n",
       "      <td>alfa-romero Quadrifoglio</td>\n",
       "      <td>gas</td>\n",
       "      <td>std</td>\n",
       "      <td>two</td>\n",
       "      <td>hatchback</td>\n",
       "      <td>rwd</td>\n",
       "      <td>front</td>\n",
       "      <td>94.5</td>\n",
       "      <td>...</td>\n",
       "      <td>152</td>\n",
       "      <td>mpfi</td>\n",
       "      <td>2.68</td>\n",
       "      <td>3.47</td>\n",
       "      <td>9.0</td>\n",
       "      <td>154</td>\n",
       "      <td>5000</td>\n",
       "      <td>19</td>\n",
       "      <td>26</td>\n",
       "      <td>16500.0</td>\n",
       "    </tr>\n",
       "    <tr>\n",
       "      <th>3</th>\n",
       "      <td>4</td>\n",
       "      <td>2</td>\n",
       "      <td>audi 100 ls</td>\n",
       "      <td>gas</td>\n",
       "      <td>std</td>\n",
       "      <td>four</td>\n",
       "      <td>sedan</td>\n",
       "      <td>fwd</td>\n",
       "      <td>front</td>\n",
       "      <td>99.8</td>\n",
       "      <td>...</td>\n",
       "      <td>109</td>\n",
       "      <td>mpfi</td>\n",
       "      <td>3.19</td>\n",
       "      <td>3.40</td>\n",
       "      <td>10.0</td>\n",
       "      <td>102</td>\n",
       "      <td>5500</td>\n",
       "      <td>24</td>\n",
       "      <td>30</td>\n",
       "      <td>13950.0</td>\n",
       "    </tr>\n",
       "    <tr>\n",
       "      <th>4</th>\n",
       "      <td>5</td>\n",
       "      <td>2</td>\n",
       "      <td>audi 100ls</td>\n",
       "      <td>gas</td>\n",
       "      <td>std</td>\n",
       "      <td>four</td>\n",
       "      <td>sedan</td>\n",
       "      <td>4wd</td>\n",
       "      <td>front</td>\n",
       "      <td>99.4</td>\n",
       "      <td>...</td>\n",
       "      <td>136</td>\n",
       "      <td>mpfi</td>\n",
       "      <td>3.19</td>\n",
       "      <td>3.40</td>\n",
       "      <td>8.0</td>\n",
       "      <td>115</td>\n",
       "      <td>5500</td>\n",
       "      <td>18</td>\n",
       "      <td>22</td>\n",
       "      <td>17450.0</td>\n",
       "    </tr>\n",
       "  </tbody>\n",
       "</table>\n",
       "<p>5 rows × 26 columns</p>\n",
       "</div>"
      ],
      "text/plain": [
       "   car_ID  symboling                   CarName fueltype aspiration doornumber  \\\n",
       "0       1          3        alfa-romero giulia      gas        std        two   \n",
       "1       2          3       alfa-romero stelvio      gas        std        two   \n",
       "2       3          1  alfa-romero Quadrifoglio      gas        std        two   \n",
       "3       4          2               audi 100 ls      gas        std       four   \n",
       "4       5          2                audi 100ls      gas        std       four   \n",
       "\n",
       "       carbody drivewheel enginelocation  wheelbase   ...     enginesize  \\\n",
       "0  convertible        rwd          front       88.6   ...            130   \n",
       "1  convertible        rwd          front       88.6   ...            130   \n",
       "2    hatchback        rwd          front       94.5   ...            152   \n",
       "3        sedan        fwd          front       99.8   ...            109   \n",
       "4        sedan        4wd          front       99.4   ...            136   \n",
       "\n",
       "   fuelsystem  boreratio  stroke compressionratio horsepower  peakrpm citympg  \\\n",
       "0        mpfi       3.47    2.68              9.0        111     5000      21   \n",
       "1        mpfi       3.47    2.68              9.0        111     5000      21   \n",
       "2        mpfi       2.68    3.47              9.0        154     5000      19   \n",
       "3        mpfi       3.19    3.40             10.0        102     5500      24   \n",
       "4        mpfi       3.19    3.40              8.0        115     5500      18   \n",
       "\n",
       "   highwaympg    price  \n",
       "0          27  13495.0  \n",
       "1          27  16500.0  \n",
       "2          26  16500.0  \n",
       "3          30  13950.0  \n",
       "4          22  17450.0  \n",
       "\n",
       "[5 rows x 26 columns]"
      ]
     },
     "execution_count": 2,
     "metadata": {},
     "output_type": "execute_result"
    }
   ],
   "source": [
    "# Understand the data\n",
    "carData.head(5)"
   ]
  },
  {
   "cell_type": "code",
   "execution_count": 3,
   "metadata": {},
   "outputs": [
    {
     "name": "stdout",
     "output_type": "stream",
     "text": [
      "<class 'pandas.core.frame.DataFrame'>\n",
      "RangeIndex: 205 entries, 0 to 204\n",
      "Data columns (total 26 columns):\n",
      "car_ID              205 non-null int64\n",
      "symboling           205 non-null int64\n",
      "CarName             205 non-null object\n",
      "fueltype            205 non-null object\n",
      "aspiration          205 non-null object\n",
      "doornumber          205 non-null object\n",
      "carbody             205 non-null object\n",
      "drivewheel          205 non-null object\n",
      "enginelocation      205 non-null object\n",
      "wheelbase           205 non-null float64\n",
      "carlength           205 non-null float64\n",
      "carwidth            205 non-null float64\n",
      "carheight           205 non-null float64\n",
      "curbweight          205 non-null int64\n",
      "enginetype          205 non-null object\n",
      "cylindernumber      205 non-null object\n",
      "enginesize          205 non-null int64\n",
      "fuelsystem          205 non-null object\n",
      "boreratio           205 non-null float64\n",
      "stroke              205 non-null float64\n",
      "compressionratio    205 non-null float64\n",
      "horsepower          205 non-null int64\n",
      "peakrpm             205 non-null int64\n",
      "citympg             205 non-null int64\n",
      "highwaympg          205 non-null int64\n",
      "price               205 non-null float64\n",
      "dtypes: float64(8), int64(8), object(10)\n",
      "memory usage: 41.7+ KB\n"
     ]
    }
   ],
   "source": [
    "# What type of values are stored in the columns?\n",
    "carData.info()"
   ]
  },
  {
   "cell_type": "markdown",
   "metadata": {},
   "source": [
    "From the info we can see that there are total 26 columns; out of which price is the dependent variable and we need to analyse 25 independent variables with respect to their significance in predicting the price"
   ]
  },
  {
   "cell_type": "code",
   "execution_count": 4,
   "metadata": {},
   "outputs": [
    {
     "name": "stdout",
     "output_type": "stream",
     "text": [
      "Total number of records 205\n",
      "Count of unique values in each column\n",
      "car_ID              205\n",
      "symboling             6\n",
      "CarName             147\n",
      "fueltype              2\n",
      "aspiration            2\n",
      "doornumber            2\n",
      "carbody               5\n",
      "drivewheel            3\n",
      "enginelocation        2\n",
      "wheelbase            53\n",
      "carlength            75\n",
      "carwidth             44\n",
      "carheight            49\n",
      "curbweight          171\n",
      "enginetype            7\n",
      "cylindernumber        7\n",
      "enginesize           44\n",
      "fuelsystem            8\n",
      "boreratio            38\n",
      "stroke               37\n",
      "compressionratio     32\n",
      "horsepower           59\n",
      "peakrpm              23\n",
      "citympg              29\n",
      "highwaympg           30\n",
      "price               189\n",
      "dtype: int64\n",
      "car_ID is unique\n"
     ]
    }
   ],
   "source": [
    "#Determine Key of the data set\n",
    "lenOfData = len(carData)\n",
    "print(\"Total number of records\", lenOfData)\n",
    "print(\"Count of unique values in each column\")\n",
    "print(carData.nunique())\n",
    "#Looking at the nunique results find the keys\n",
    "#check if the car_ID is unique \n",
    "uniqueIDInCarData = carData.car_ID.unique()\n",
    "if len(uniqueIDInCarData) == lenOfData:\n",
    "    print(\"car_ID is unique\")\n",
    "else:\n",
    "    print(\"car_ID is not unique\")"
   ]
  },
  {
   "cell_type": "code",
   "execution_count": 5,
   "metadata": {},
   "outputs": [
    {
     "name": "stdout",
     "output_type": "stream",
     "text": [
      "Data Cleaning\n",
      "Number of rows with all the missing attributes is 0\n",
      "Percentage of missing data \n",
      " car_ID              0.0\n",
      "symboling           0.0\n",
      "CarName             0.0\n",
      "fueltype            0.0\n",
      "aspiration          0.0\n",
      "doornumber          0.0\n",
      "carbody             0.0\n",
      "drivewheel          0.0\n",
      "enginelocation      0.0\n",
      "wheelbase           0.0\n",
      "carlength           0.0\n",
      "carwidth            0.0\n",
      "carheight           0.0\n",
      "curbweight          0.0\n",
      "enginetype          0.0\n",
      "cylindernumber      0.0\n",
      "enginesize          0.0\n",
      "fuelsystem          0.0\n",
      "boreratio           0.0\n",
      "stroke              0.0\n",
      "compressionratio    0.0\n",
      "horsepower          0.0\n",
      "peakrpm             0.0\n",
      "citympg             0.0\n",
      "highwaympg          0.0\n",
      "price               0.0\n",
      "dtype: float64\n"
     ]
    }
   ],
   "source": [
    "# Analysing the data for DATA ClEANING\n",
    "print(\"Data Cleaning\")\n",
    "\n",
    "# Step 1: Check if there is any row where every attribute is missing\n",
    "missingDataCount = carData.isnull().all(axis=1).sum()\n",
    "print(\"Number of rows with all the missing attributes is\", missingDataCount)\n",
    "\n",
    "# Step 2: percentage of missing value in each column\n",
    "missingDataCount = round((carData.isnull().sum()/lenOfData)*100,2)\n",
    "print(\"Percentage of missing data \\n\", missingDataCount)"
   ]
  },
  {
   "cell_type": "markdown",
   "metadata": {},
   "source": [
    "It is clear from the above results that there is no missing value in the dataset\n",
    "\n",
    "Let's analyse each feature in the data set"
   ]
  },
  {
   "cell_type": "code",
   "execution_count": 6,
   "metadata": {},
   "outputs": [
    {
     "name": "stdout",
     "output_type": "stream",
     "text": [
      "symboling\n",
      "-2     3\n",
      "-1    22\n",
      " 0    67\n",
      " 1    54\n",
      " 2    32\n",
      " 3    27\n",
      "Name: symboling, dtype: int64\n"
     ]
    }
   ],
   "source": [
    "# Analyze symboling\n",
    "carData['symboling'].describe\n",
    "eachValueCount = carData.groupby('symboling').symboling.count()\n",
    "print(eachValueCount)"
   ]
  },
  {
   "cell_type": "code",
   "execution_count": 7,
   "metadata": {},
   "outputs": [],
   "source": [
    "#Count of -2 is too low i.e. 3 compared to the count of other insurance risk ratings\n",
    "# But if we see it as two buckets(<=0 and >0) then the data gets balanced\n",
    "# It is a categorical variable; let's categorize it as safe(<=0) and risky (>0)"
   ]
  },
  {
   "cell_type": "code",
   "execution_count": 8,
   "metadata": {},
   "outputs": [],
   "source": [
    "carData['symboling']= carData['symboling'].apply(lambda x: \"safe\" if x<=0 else \"risky\")                                      "
   ]
  },
  {
   "cell_type": "code",
   "execution_count": 9,
   "metadata": {},
   "outputs": [
    {
     "name": "stdout",
     "output_type": "stream",
     "text": [
      "symboling\n",
      "risky    113\n",
      "safe      92\n",
      "Name: symboling, dtype: int64\n"
     ]
    }
   ],
   "source": [
    "eachValueCount = carData.groupby('symboling').symboling.count()\n",
    "print(eachValueCount)"
   ]
  },
  {
   "cell_type": "code",
   "execution_count": 10,
   "metadata": {},
   "outputs": [
    {
     "data": {
      "text/plain": [
       "0          alfa-romero giulia\n",
       "1         alfa-romero stelvio\n",
       "2    alfa-romero Quadrifoglio\n",
       "3                 audi 100 ls\n",
       "4                  audi 100ls\n",
       "Name: CarName, dtype: object"
      ]
     },
     "execution_count": 10,
     "metadata": {},
     "output_type": "execute_result"
    }
   ],
   "source": [
    "# Analyze carname\n",
    "# CarName has first word as car_company and second word as car model\n",
    "carData['CarName'].head(5)"
   ]
  },
  {
   "cell_type": "code",
   "execution_count": 11,
   "metadata": {},
   "outputs": [
    {
     "data": {
      "text/plain": [
       "0    alfa-romero\n",
       "1    alfa-romero\n",
       "2    alfa-romero\n",
       "3           audi\n",
       "4           audi\n",
       "Name: CompanyName, dtype: object"
      ]
     },
     "execution_count": 11,
     "metadata": {},
     "output_type": "execute_result"
    }
   ],
   "source": [
    "# Split this variable to get company name as an independent variable\n",
    "carData['CompanyName'] = pd.DataFrame(carData.CarName.str.split(' ',expand=False))\n",
    "carData['CompanyName'] = pd.DataFrame(carData.CarName.str.split(' ',expand=True))\n",
    "carData['CompanyName'].head(5)"
   ]
  },
  {
   "cell_type": "code",
   "execution_count": 12,
   "metadata": {},
   "outputs": [
    {
     "name": "stdout",
     "output_type": "stream",
     "text": [
      "CompanyName\n",
      "Nissan          1\n",
      "alfa-romero     3\n",
      "audi            7\n",
      "bmw             8\n",
      "buick           8\n",
      "chevrolet       3\n",
      "dodge           9\n",
      "honda          13\n",
      "isuzu           4\n",
      "jaguar          3\n",
      "maxda           2\n",
      "mazda          15\n",
      "mercury         1\n",
      "mitsubishi     13\n",
      "nissan         17\n",
      "peugeot        11\n",
      "plymouth        7\n",
      "porcshce        1\n",
      "porsche         4\n",
      "renault         2\n",
      "saab            6\n",
      "subaru         12\n",
      "toyota         31\n",
      "toyouta         1\n",
      "vokswagen       1\n",
      "volkswagen      9\n",
      "volvo          11\n",
      "vw              2\n",
      "Name: CompanyName, dtype: int64\n"
     ]
    }
   ],
   "source": [
    "# Let us look at the names of the car company\n",
    "# As it is a string column we need to check the spellings and lower/upper case value\n",
    "# We are performing this step to ensure that the same carcompany does not exist with different names \n",
    "# due to case insensitivity or spelling error \n",
    "eachValueCount = carData.groupby('CompanyName').CompanyName.count()\n",
    "print(eachValueCount)"
   ]
  },
  {
   "cell_type": "code",
   "execution_count": 13,
   "metadata": {},
   "outputs": [],
   "source": [
    "# As we can see there are car company name that are same but appear different due to slight change in\n",
    "# spelling or due to difference in case\n",
    "\n",
    "# Nissan - nissan\n",
    "# maxda - mazda\n",
    "# porcshce - porsche\n",
    "# toyota - toyouta\n",
    "# vokswagen - volkswagen - vw\n",
    "\n",
    "# Not correcting this issue will lead to wrong model creation and hence wrong analysis"
   ]
  },
  {
   "cell_type": "code",
   "execution_count": 14,
   "metadata": {},
   "outputs": [
    {
     "name": "stdout",
     "output_type": "stream",
     "text": [
      "CompanyName\n",
      "alfa-romero     3\n",
      "audi            7\n",
      "bmw             8\n",
      "buick           8\n",
      "chevrolet       3\n",
      "dodge           9\n",
      "honda          13\n",
      "isuzu           4\n",
      "jaguar          3\n",
      "maxda           2\n",
      "mazda          15\n",
      "mercury         1\n",
      "mitsubishi     13\n",
      "nissan         18\n",
      "peugeot        11\n",
      "plymouth        7\n",
      "porcshce        1\n",
      "porsche         4\n",
      "renault         2\n",
      "saab            6\n",
      "subaru         12\n",
      "toyota         31\n",
      "toyouta         1\n",
      "vokswagen       1\n",
      "volkswagen      9\n",
      "volvo          11\n",
      "vw              2\n",
      "Name: CompanyName, dtype: int64\n"
     ]
    }
   ],
   "source": [
    "# Convert all the company names to lower case\n",
    "carData['CompanyName'] = carData['CompanyName'].str.lower()\n",
    "eachValueCount = carData.groupby('CompanyName').CompanyName.count()\n",
    "print(eachValueCount)"
   ]
  },
  {
   "cell_type": "code",
   "execution_count": 15,
   "metadata": {},
   "outputs": [
    {
     "name": "stdout",
     "output_type": "stream",
     "text": [
      "CompanyName\n",
      "alfa-romero     3\n",
      "audi            7\n",
      "bmw             8\n",
      "buick           8\n",
      "chevrolet       3\n",
      "dodge           9\n",
      "honda          13\n",
      "isuzu           4\n",
      "jaguar          3\n",
      "mazda          17\n",
      "mercury         1\n",
      "mitsubishi     13\n",
      "nissan         18\n",
      "peugeot        11\n",
      "plymouth        7\n",
      "porsche         5\n",
      "renault         2\n",
      "saab            6\n",
      "subaru         12\n",
      "toyota         32\n",
      "volkswagen     12\n",
      "volvo          11\n",
      "Name: CompanyName, dtype: int64\n"
     ]
    }
   ],
   "source": [
    "# The above step solved the problem for nissan - Nissan\n",
    "# Let us proceed to make following consistent maxda - mazda porcshce - porsche toyota - toyouta vokswagen - volkswagen - vw\n",
    "carData['CompanyName'] = carData['CompanyName'].replace(to_replace=['maxda','porcshce','toyouta','vokswagen','vw'],value=['mazda','porsche','toyota','volkswagen','volkswagen'])\n",
    "eachValueCount = carData.groupby('CompanyName').CompanyName.count()\n",
    "print(eachValueCount)"
   ]
  },
  {
   "cell_type": "code",
   "execution_count": 16,
   "metadata": {},
   "outputs": [],
   "source": [
    "#Count of mercury, renault, alfa-romero, chevrolet, jaguar is too low compared to the count of data of other companies"
   ]
  },
  {
   "cell_type": "code",
   "execution_count": 17,
   "metadata": {},
   "outputs": [
    {
     "name": "stdout",
     "output_type": "stream",
     "text": [
      "   car_ID symboling fueltype aspiration doornumber      carbody drivewheel  \\\n",
      "0       1     risky      gas        std        two  convertible        rwd   \n",
      "1       2     risky      gas        std        two  convertible        rwd   \n",
      "2       3     risky      gas        std        two    hatchback        rwd   \n",
      "3       4     risky      gas        std       four        sedan        fwd   \n",
      "4       5     risky      gas        std       four        sedan        4wd   \n",
      "\n",
      "  enginelocation  wheelbase  carlength     ...       fuelsystem  boreratio  \\\n",
      "0          front       88.6      168.8     ...             mpfi       3.47   \n",
      "1          front       88.6      168.8     ...             mpfi       3.47   \n",
      "2          front       94.5      171.2     ...             mpfi       2.68   \n",
      "3          front       99.8      176.6     ...             mpfi       3.19   \n",
      "4          front       99.4      176.6     ...             mpfi       3.19   \n",
      "\n",
      "   stroke compressionratio horsepower  peakrpm citympg  highwaympg    price  \\\n",
      "0    2.68              9.0        111     5000      21          27  13495.0   \n",
      "1    2.68              9.0        111     5000      21          27  16500.0   \n",
      "2    3.47              9.0        154     5000      19          26  16500.0   \n",
      "3    3.40             10.0        102     5500      24          30  13950.0   \n",
      "4    3.40              8.0        115     5500      18          22  17450.0   \n",
      "\n",
      "   CompanyName  \n",
      "0  alfa-romero  \n",
      "1  alfa-romero  \n",
      "2  alfa-romero  \n",
      "3         audi  \n",
      "4         audi  \n",
      "\n",
      "[5 rows x 26 columns]\n"
     ]
    }
   ],
   "source": [
    "# Drop CarName as this is not required anymore\n",
    "carData.drop(['CarName'],axis=1,inplace = True)\n",
    "print(carData.head(5))"
   ]
  },
  {
   "cell_type": "code",
   "execution_count": 18,
   "metadata": {},
   "outputs": [
    {
     "name": "stdout",
     "output_type": "stream",
     "text": [
      "fueltype\n",
      "diesel     20\n",
      "gas       185\n",
      "Name: fueltype, dtype: int64\n"
     ]
    }
   ],
   "source": [
    "# Analyze fueltype\n",
    "eachValueCount = carData.groupby('fueltype').fueltype.count()\n",
    "print(eachValueCount)"
   ]
  },
  {
   "cell_type": "code",
   "execution_count": 19,
   "metadata": {},
   "outputs": [],
   "source": [
    "# No change required in fueltype feature as of now because there only two different categories"
   ]
  },
  {
   "cell_type": "code",
   "execution_count": 20,
   "metadata": {},
   "outputs": [
    {
     "name": "stdout",
     "output_type": "stream",
     "text": [
      "aspiration\n",
      "std      168\n",
      "turbo     37\n",
      "Name: aspiration, dtype: int64\n"
     ]
    }
   ],
   "source": [
    "# Analyze aspiration\n",
    "eachValueCount = carData.groupby('aspiration').aspiration.count()\n",
    "print(eachValueCount)"
   ]
  },
  {
   "cell_type": "code",
   "execution_count": 21,
   "metadata": {},
   "outputs": [],
   "source": [
    "# No change required in aspiration feature as of now because there are two different categories"
   ]
  },
  {
   "cell_type": "code",
   "execution_count": 22,
   "metadata": {},
   "outputs": [
    {
     "name": "stdout",
     "output_type": "stream",
     "text": [
      "doornumber\n",
      "four    115\n",
      "two      90\n",
      "Name: doornumber, dtype: int64\n"
     ]
    }
   ],
   "source": [
    "# Analyse doornumber\n",
    "eachValueCount = carData.groupby('doornumber').doornumber.count()\n",
    "print(eachValueCount)"
   ]
  },
  {
   "cell_type": "code",
   "execution_count": 23,
   "metadata": {},
   "outputs": [
    {
     "name": "stdout",
     "output_type": "stream",
     "text": [
      "carbody\n",
      "convertible     6\n",
      "hardtop         8\n",
      "hatchback      70\n",
      "sedan          96\n",
      "wagon          25\n",
      "Name: carbody, dtype: int64\n"
     ]
    }
   ],
   "source": [
    "# Analyse carbody\n",
    "eachValueCount = carData.groupby('carbody').carbody.count()\n",
    "print(eachValueCount)"
   ]
  },
  {
   "cell_type": "markdown",
   "metadata": {},
   "source": [
    "Carbody is a categorical feature: No change required in carbody feature as of now because there are different categories and each value has considerable count.Though count of convertible and hardtop is quite low compared to other but will take all the categories further as we cannot take the decision of removing few carbody types on the basis of their count at this initial stage"
   ]
  },
  {
   "cell_type": "code",
   "execution_count": 24,
   "metadata": {},
   "outputs": [
    {
     "name": "stdout",
     "output_type": "stream",
     "text": [
      "drivewheel\n",
      "4wd      9\n",
      "fwd    120\n",
      "rwd     76\n",
      "Name: drivewheel, dtype: int64\n"
     ]
    }
   ],
   "source": [
    "# Analyse drivewheel\n",
    "eachValueCount = carData.groupby('drivewheel').drivewheel.count()\n",
    "print(eachValueCount)"
   ]
  },
  {
   "cell_type": "markdown",
   "metadata": {},
   "source": [
    "drivewheel is a categorical feature: No change required in drivewheel feature as of now because there only three different categories: 4wd-four-wheel-drive fwd-front-wheel drive rwd-rear-wheel-drive"
   ]
  },
  {
   "cell_type": "code",
   "execution_count": 25,
   "metadata": {},
   "outputs": [
    {
     "name": "stdout",
     "output_type": "stream",
     "text": [
      "enginelocation\n",
      "front    202\n",
      "rear       3\n",
      "Name: enginelocation, dtype: int64\n"
     ]
    }
   ],
   "source": [
    "# Analyse enginelocation\n",
    "eachValueCount = carData.groupby('enginelocation').enginelocation.count()\n",
    "print(eachValueCount)"
   ]
  },
  {
   "cell_type": "markdown",
   "metadata": {},
   "source": [
    "enginelocation is a categorical feature: No change required in enginelocation feature as of now because there only two different categories Count of rear is too low compared to the count of front in our data set"
   ]
  },
  {
   "cell_type": "code",
   "execution_count": 26,
   "metadata": {},
   "outputs": [
    {
     "name": "stdout",
     "output_type": "stream",
     "text": [
      "wheelbase\n",
      "86.6      2\n",
      "88.4      1\n",
      "88.6      2\n",
      "89.5      3\n",
      "91.3      2\n",
      "93.0      1\n",
      "93.1      5\n",
      "93.3      1\n",
      "93.7     20\n",
      "94.3      1\n",
      "94.5     21\n",
      "95.1      1\n",
      "95.3      4\n",
      "95.7     13\n",
      "95.9      5\n",
      "96.0      1\n",
      "96.1      2\n",
      "96.3      6\n",
      "96.5      8\n",
      "96.6      1\n",
      "96.9      2\n",
      "97.0      4\n",
      "97.2      5\n",
      "97.3      7\n",
      "98.4      7\n",
      "98.8      6\n",
      "99.1      6\n",
      "99.2      1\n",
      "99.4      1\n",
      "99.5      1\n",
      "99.8      2\n",
      "100.4     6\n",
      "101.2     4\n",
      "102.0     1\n",
      "102.4     5\n",
      "102.7     1\n",
      "102.9     2\n",
      "103.3     2\n",
      "103.5     3\n",
      "104.3     6\n",
      "104.5     2\n",
      "104.9     2\n",
      "105.8     3\n",
      "106.7     1\n",
      "107.9     6\n",
      "108.0     1\n",
      "109.1     5\n",
      "110.0     3\n",
      "112.0     1\n",
      "113.0     2\n",
      "114.2     4\n",
      "115.6     2\n",
      "120.9     1\n",
      "Name: wheelbase, dtype: int64\n"
     ]
    }
   ],
   "source": [
    "# Analyse wheelbase\n",
    "eachValueCount = carData.groupby('wheelbase').wheelbase.count()\n",
    "print(eachValueCount)"
   ]
  },
  {
   "cell_type": "markdown",
   "metadata": {},
   "source": [
    "wheelbase is a numeric column"
   ]
  },
  {
   "cell_type": "code",
   "execution_count": 27,
   "metadata": {},
   "outputs": [],
   "source": [
    "# Function to return the outliers using interquartile range \n",
    "def outliers(feature):\n",
    "    Q1, Q3 = np.percentile(feature, [25,75])\n",
    "    iqr = Q3 - Q1\n",
    "    lower_bound = Q1 - (iqr * 1.5)\n",
    "    upper_bound = Q3 + (iqr * 1.5)\n",
    "    return np.where((feature < lower_bound)|(feature > upper_bound))"
   ]
  },
  {
   "cell_type": "code",
   "execution_count": 28,
   "metadata": {},
   "outputs": [
    {
     "name": "stdout",
     "output_type": "stream",
     "text": [
      "(array([70, 71, 73], dtype=int64),)\n"
     ]
    }
   ],
   "source": [
    "# Find outliers in wheelbase - use interquartile range to find the outliers\n",
    "outliersInwheelbase = outliers(carData.wheelbase)\n",
    "print(outliersInwheelbase)\n"
   ]
  },
  {
   "cell_type": "markdown",
   "metadata": {},
   "source": [
    "There are 3 outliers in wheelbase"
   ]
  },
  {
   "cell_type": "code",
   "execution_count": 29,
   "metadata": {},
   "outputs": [
    {
     "name": "stdout",
     "output_type": "stream",
     "text": [
      "carlength\n",
      "141.1     1\n",
      "144.6     2\n",
      "150.0     3\n",
      "155.9     3\n",
      "156.9     1\n",
      "157.1     1\n",
      "157.3    15\n",
      "157.9     1\n",
      "158.7     3\n",
      "158.8     1\n",
      "159.1     3\n",
      "159.3     1\n",
      "162.4     1\n",
      "163.4     1\n",
      "165.3     6\n",
      "165.6     1\n",
      "165.7     1\n",
      "166.3     7\n",
      "166.8     2\n",
      "167.3     2\n",
      "167.5     2\n",
      "168.7     4\n",
      "168.8     2\n",
      "168.9     4\n",
      "169.0     4\n",
      "169.1     1\n",
      "169.7     3\n",
      "170.2     2\n",
      "170.7     3\n",
      "171.2     1\n",
      "         ..\n",
      "176.6     2\n",
      "176.8     5\n",
      "177.3     1\n",
      "177.8     6\n",
      "178.2     1\n",
      "178.4     1\n",
      "178.5     1\n",
      "180.2     2\n",
      "180.3     1\n",
      "181.5     1\n",
      "181.7     1\n",
      "183.1     1\n",
      "183.5     2\n",
      "184.6     2\n",
      "186.6     6\n",
      "186.7     7\n",
      "187.5     1\n",
      "187.8     2\n",
      "188.8    11\n",
      "189.0     2\n",
      "190.9     2\n",
      "191.7     1\n",
      "192.7     3\n",
      "193.8     1\n",
      "197.0     1\n",
      "198.9     4\n",
      "199.2     1\n",
      "199.6     2\n",
      "202.6     2\n",
      "208.1     1\n",
      "Name: carlength, Length: 75, dtype: int64\n"
     ]
    }
   ],
   "source": [
    "# Analyse carlength\n",
    "eachValueCount = carData.groupby('carlength').carlength.count()\n",
    "print(eachValueCount)"
   ]
  },
  {
   "cell_type": "markdown",
   "metadata": {},
   "source": [
    "carlength is a numeric column"
   ]
  },
  {
   "cell_type": "code",
   "execution_count": 30,
   "metadata": {},
   "outputs": [
    {
     "name": "stdout",
     "output_type": "stream",
     "text": [
      "(array([18], dtype=int64),)\n"
     ]
    }
   ],
   "source": [
    "# Find outliers in carlength - use interquartile range to find the outliers\n",
    "outliersIncarlength = outliers(carData.carlength)\n",
    "print(outliersIncarlength)"
   ]
  },
  {
   "cell_type": "markdown",
   "metadata": {},
   "source": [
    "Only one outlier in carlength"
   ]
  },
  {
   "cell_type": "code",
   "execution_count": 31,
   "metadata": {},
   "outputs": [
    {
     "name": "stdout",
     "output_type": "stream",
     "text": [
      "carwidth\n",
      "60.3     1\n",
      "61.8     1\n",
      "62.5     1\n",
      "63.4     1\n",
      "63.6    11\n",
      "63.8    24\n",
      "63.9     3\n",
      "64.0     9\n",
      "64.1     2\n",
      "64.2     6\n",
      "64.4    10\n",
      "64.6     2\n",
      "64.8     4\n",
      "65.0     3\n",
      "65.2     7\n",
      "65.4    15\n",
      "65.5     8\n",
      "65.6     6\n",
      "65.7     4\n",
      "66.0     1\n",
      "66.1     2\n",
      "66.2     1\n",
      "66.3     6\n",
      "66.4     1\n",
      "66.5    23\n",
      "66.6     1\n",
      "66.9     5\n",
      "67.2     6\n",
      "67.7     2\n",
      "67.9     5\n",
      "68.0     1\n",
      "68.3     2\n",
      "68.4    10\n",
      "68.8     1\n",
      "68.9     4\n",
      "69.6     2\n",
      "70.3     3\n",
      "70.5     1\n",
      "70.6     1\n",
      "70.9     1\n",
      "71.4     3\n",
      "71.7     3\n",
      "72.0     1\n",
      "72.3     1\n",
      "Name: carwidth, dtype: int64\n"
     ]
    }
   ],
   "source": [
    "#Analyse carwidth\n",
    "eachValueCount = carData.groupby('carwidth').carwidth.count()\n",
    "print(eachValueCount)"
   ]
  },
  {
   "cell_type": "markdown",
   "metadata": {},
   "source": [
    "carwidth is a numeric column"
   ]
  },
  {
   "cell_type": "code",
   "execution_count": 32,
   "metadata": {},
   "outputs": [
    {
     "name": "stdout",
     "output_type": "stream",
     "text": [
      "(array([  6,   7,   8,  70,  71,  73,  74, 129], dtype=int64),)\n"
     ]
    }
   ],
   "source": [
    "# Find outliers in carwidth - use interquartile range to find the outliers\n",
    "outliersIncarwidth = outliers(carData.carwidth)\n",
    "print(outliersIncarwidth)"
   ]
  },
  {
   "cell_type": "markdown",
   "metadata": {},
   "source": [
    "There are 8 outliers in carwidth\n",
    "\n",
    "Note wheelbase also had outlier at 70,71,73"
   ]
  },
  {
   "cell_type": "code",
   "execution_count": 33,
   "metadata": {},
   "outputs": [
    {
     "name": "stdout",
     "output_type": "stream",
     "text": [
      "carheight\n",
      "47.8     1\n",
      "48.8     2\n",
      "49.4     2\n",
      "49.6     4\n",
      "49.7     3\n",
      "50.2     6\n",
      "50.5     2\n",
      "50.6     5\n",
      "50.8    14\n",
      "51.0     1\n",
      "51.4     2\n",
      "51.6     7\n",
      "52.0    12\n",
      "52.4     1\n",
      "52.5     3\n",
      "52.6     7\n",
      "52.8     6\n",
      "53.0     6\n",
      "53.1     1\n",
      "53.2     1\n",
      "53.3     4\n",
      "53.5     3\n",
      "53.7     5\n",
      "53.9     2\n",
      "54.1    10\n",
      "54.3     8\n",
      "54.4     2\n",
      "54.5    10\n",
      "54.7     2\n",
      "54.8     1\n",
      "54.9     6\n",
      "55.1     5\n",
      "55.2     1\n",
      "55.4     1\n",
      "55.5     9\n",
      "55.6     1\n",
      "55.7    12\n",
      "55.9     1\n",
      "56.0     1\n",
      "56.1     7\n",
      "56.2     3\n",
      "56.3     2\n",
      "56.5     2\n",
      "56.7     8\n",
      "57.5     3\n",
      "58.3     1\n",
      "58.7     4\n",
      "59.1     3\n",
      "59.8     2\n",
      "Name: carheight, dtype: int64\n"
     ]
    }
   ],
   "source": [
    "# Analyse carheight\n",
    "eachValueCount = carData.groupby('carheight').carheight.count()\n",
    "print(eachValueCount)"
   ]
  },
  {
   "cell_type": "markdown",
   "metadata": {},
   "source": [
    "car height is a numeric column"
   ]
  },
  {
   "cell_type": "code",
   "execution_count": 34,
   "metadata": {},
   "outputs": [
    {
     "name": "stdout",
     "output_type": "stream",
     "text": [
      "(array([], dtype=int64),)\n"
     ]
    }
   ],
   "source": [
    "# Find outliers in carheight - use interquartile range to find the outliers\n",
    "outliersIncarheight = outliers(carData.carheight)\n",
    "print(outliersIncarheight)"
   ]
  },
  {
   "cell_type": "code",
   "execution_count": 35,
   "metadata": {},
   "outputs": [
    {
     "name": "stdout",
     "output_type": "stream",
     "text": [
      "curbweight\n",
      "1488    1\n",
      "1713    1\n",
      "1819    1\n",
      "1837    1\n",
      "1874    2\n",
      "1876    2\n",
      "1889    1\n",
      "1890    1\n",
      "1900    1\n",
      "1905    1\n",
      "1909    2\n",
      "1918    3\n",
      "1938    1\n",
      "1940    1\n",
      "1944    1\n",
      "1945    1\n",
      "1950    1\n",
      "1951    1\n",
      "1956    1\n",
      "1967    2\n",
      "1971    1\n",
      "1985    1\n",
      "1989    3\n",
      "2004    1\n",
      "2008    1\n",
      "2010    1\n",
      "2015    1\n",
      "2017    1\n",
      "2024    2\n",
      "2028    1\n",
      "       ..\n",
      "3075    2\n",
      "3086    1\n",
      "3095    1\n",
      "3110    1\n",
      "3130    1\n",
      "3131    1\n",
      "3139    2\n",
      "3151    1\n",
      "3157    1\n",
      "3197    1\n",
      "3217    1\n",
      "3230    2\n",
      "3252    2\n",
      "3285    1\n",
      "3296    1\n",
      "3366    1\n",
      "3380    1\n",
      "3430    1\n",
      "3485    1\n",
      "3495    1\n",
      "3505    1\n",
      "3515    1\n",
      "3685    1\n",
      "3715    1\n",
      "3740    1\n",
      "3750    1\n",
      "3770    1\n",
      "3900    1\n",
      "3950    1\n",
      "4066    2\n",
      "Name: curbweight, Length: 171, dtype: int64\n"
     ]
    }
   ],
   "source": [
    "# Analyse curbweight\n",
    "eachValueCount = carData.groupby('curbweight').curbweight.count()\n",
    "print(eachValueCount)"
   ]
  },
  {
   "cell_type": "markdown",
   "metadata": {},
   "source": [
    "curbweight is a numeric column"
   ]
  },
  {
   "cell_type": "code",
   "execution_count": 36,
   "metadata": {},
   "outputs": [
    {
     "name": "stdout",
     "output_type": "stream",
     "text": [
      "(array([], dtype=int64),)\n"
     ]
    }
   ],
   "source": [
    "# Find outliers in curbweight - use interquartile range to find the outliers\n",
    "outliersIncurbweight = outliers(carData.curbweight)\n",
    "print(outliersIncurbweight)"
   ]
  },
  {
   "cell_type": "code",
   "execution_count": 37,
   "metadata": {},
   "outputs": [
    {
     "name": "stdout",
     "output_type": "stream",
     "text": [
      "enginetype\n",
      "dohc      12\n",
      "dohcv      1\n",
      "l         12\n",
      "ohc      148\n",
      "ohcf      15\n",
      "ohcv      13\n",
      "rotor      4\n",
      "Name: enginetype, dtype: int64\n"
     ]
    }
   ],
   "source": [
    "# Analyse enginetype\n",
    "eachValueCount = carData.groupby('enginetype').enginetype.count()\n",
    "print(eachValueCount)"
   ]
  },
  {
   "cell_type": "code",
   "execution_count": 38,
   "metadata": {},
   "outputs": [
    {
     "name": "stdout",
     "output_type": "stream",
     "text": [
      "enginetype\n",
      "dohc      13\n",
      "l         12\n",
      "ohc      176\n",
      "rotor      4\n",
      "Name: enginetype, dtype: int64\n"
     ]
    }
   ],
   "source": [
    "# dohcv is a spelling mistake as no engine of this type exist\n",
    "# also 'c' and 'v' are adjecent keys in keyboard so spelling mistake can happen\n",
    "#replace dohcv with dohc\n",
    "# similarly, replace ohcv and ohcf with ohc\n",
    "carData['enginetype'] = carData['enginetype'].replace(to_replace=['dohcv','ohcv','ohcf'],value=['dohc','ohc','ohc'])\n",
    "\n",
    "eachValueCount = carData.groupby('enginetype').enginetype.count()\n",
    "print(eachValueCount)"
   ]
  },
  {
   "cell_type": "code",
   "execution_count": 39,
   "metadata": {},
   "outputs": [
    {
     "name": "stdout",
     "output_type": "stream",
     "text": [
      "cylindernumber\n",
      "eight       5\n",
      "five       11\n",
      "four      159\n",
      "six        24\n",
      "three       1\n",
      "twelve      1\n",
      "two         4\n",
      "Name: cylindernumber, dtype: int64\n"
     ]
    }
   ],
   "source": [
    "# Analyse cylindernumber\n",
    "eachValueCount = carData.groupby('cylindernumber').cylindernumber.count()\n",
    "print(eachValueCount)"
   ]
  },
  {
   "cell_type": "code",
   "execution_count": 40,
   "metadata": {},
   "outputs": [],
   "source": [
    "# cylindernumber seems to be numeric values like eight(8), five(5) etc but it is not continous and hence, will be used as categorical variable"
   ]
  },
  {
   "cell_type": "code",
   "execution_count": 41,
   "metadata": {},
   "outputs": [
    {
     "name": "stdout",
     "output_type": "stream",
     "text": [
      "enginesize\n",
      "61      1\n",
      "70      3\n",
      "79      1\n",
      "80      1\n",
      "90     12\n",
      "91      5\n",
      "92     15\n",
      "97     14\n",
      "98     14\n",
      "103     1\n",
      "108    13\n",
      "109     8\n",
      "110    12\n",
      "111     1\n",
      "119     1\n",
      "120     7\n",
      "121     6\n",
      "122    15\n",
      "130     4\n",
      "131     2\n",
      "132     2\n",
      "134     2\n",
      "136     5\n",
      "140     2\n",
      "141     7\n",
      "145     1\n",
      "146     6\n",
      "151     1\n",
      "152     6\n",
      "156     5\n",
      "161     1\n",
      "164     3\n",
      "171     3\n",
      "173     1\n",
      "181     6\n",
      "183     4\n",
      "194     3\n",
      "203     1\n",
      "209     3\n",
      "234     2\n",
      "258     2\n",
      "304     1\n",
      "308     1\n",
      "326     1\n",
      "Name: enginesize, dtype: int64\n"
     ]
    }
   ],
   "source": [
    "# Analyze enginesize\n",
    "eachValueCount = carData.groupby('enginesize').enginesize.count()\n",
    "print(eachValueCount)"
   ]
  },
  {
   "cell_type": "code",
   "execution_count": 42,
   "metadata": {},
   "outputs": [
    {
     "name": "stdout",
     "output_type": "stream",
     "text": [
      "(array([15, 16, 17, 47, 48, 49, 71, 72, 73, 74], dtype=int64),)\n"
     ]
    }
   ],
   "source": [
    "# Find outliers in enginesize - use interquartile range to find the outliers\n",
    "outliersInenginesize = outliers(carData.enginesize)\n",
    "print(outliersInenginesize)"
   ]
  },
  {
   "cell_type": "markdown",
   "metadata": {},
   "source": [
    "There are 10 outliers in enginesize\n",
    "Note: wheelbase, carwidht also had outlier at 71 and 73 index"
   ]
  },
  {
   "cell_type": "code",
   "execution_count": 43,
   "metadata": {},
   "outputs": [
    {
     "name": "stdout",
     "output_type": "stream",
     "text": [
      "fuelsystem\n",
      "1bbl    11\n",
      "2bbl    66\n",
      "4bbl     3\n",
      "idi     20\n",
      "mfi      1\n",
      "mpfi    94\n",
      "spdi     9\n",
      "spfi     1\n",
      "Name: fuelsystem, dtype: int64\n"
     ]
    }
   ],
   "source": [
    "#Analyze fuelsystem\n",
    "eachValueCount = carData.groupby('fuelsystem').fuelsystem.count()\n",
    "print(eachValueCount)"
   ]
  },
  {
   "cell_type": "code",
   "execution_count": 44,
   "metadata": {},
   "outputs": [
    {
     "name": "stdout",
     "output_type": "stream",
     "text": [
      "boreratio\n",
      "2.54     1\n",
      "2.68     1\n",
      "2.91     7\n",
      "2.92     1\n",
      "2.97    12\n",
      "2.99     1\n",
      "3.01     5\n",
      "3.03    12\n",
      "3.05     6\n",
      "3.08     1\n",
      "3.13     2\n",
      "3.15    15\n",
      "3.17     3\n",
      "3.19    20\n",
      "3.24     2\n",
      "3.27     7\n",
      "3.31     8\n",
      "3.33     6\n",
      "3.34     1\n",
      "3.35     4\n",
      "3.39     6\n",
      "3.43     8\n",
      "3.46     9\n",
      "3.47     2\n",
      "3.50     2\n",
      "3.54     6\n",
      "3.58     6\n",
      "3.59     3\n",
      "3.60     1\n",
      "3.61     1\n",
      "3.62    23\n",
      "3.63     2\n",
      "3.70     5\n",
      "3.74     3\n",
      "3.76     1\n",
      "3.78     8\n",
      "3.80     2\n",
      "3.94     2\n",
      "Name: boreratio, dtype: int64\n"
     ]
    }
   ],
   "source": [
    "# Analyze boreratio\n",
    "eachValueCount = carData.groupby('boreratio').boreratio.count()\n",
    "print(eachValueCount)"
   ]
  },
  {
   "cell_type": "markdown",
   "metadata": {},
   "source": [
    "boreratio is a numeric column"
   ]
  },
  {
   "cell_type": "code",
   "execution_count": 45,
   "metadata": {},
   "outputs": [
    {
     "name": "stdout",
     "output_type": "stream",
     "text": [
      "(array([], dtype=int64),)\n"
     ]
    }
   ],
   "source": [
    "# Find outliers in boreratio - use interquartile range to find the outliers\n",
    "outliersInboreratio = outliers(carData.boreratio)\n",
    "print(outliersInboreratio)"
   ]
  },
  {
   "cell_type": "code",
   "execution_count": 46,
   "metadata": {},
   "outputs": [
    {
     "name": "stdout",
     "output_type": "stream",
     "text": [
      "stroke\n",
      "2.070     1\n",
      "2.190     2\n",
      "2.360     1\n",
      "2.640    11\n",
      "2.680     2\n",
      "2.760     1\n",
      "2.800     2\n",
      "2.870     1\n",
      "2.900     3\n",
      "3.030    14\n",
      "3.070     6\n",
      "3.080     2\n",
      "3.100     2\n",
      "3.110     6\n",
      "3.120     1\n",
      "3.150    14\n",
      "3.160     1\n",
      "3.190     6\n",
      "3.210     1\n",
      "3.230    14\n",
      "3.255     4\n",
      "3.270     6\n",
      "3.290     9\n",
      "3.350     9\n",
      "3.390    13\n",
      "3.400    20\n",
      "3.410     6\n",
      "3.460     8\n",
      "3.470     4\n",
      "3.500     6\n",
      "3.520     5\n",
      "3.540     4\n",
      "3.580     6\n",
      "3.640     5\n",
      "3.860     4\n",
      "3.900     3\n",
      "4.170     2\n",
      "Name: stroke, dtype: int64\n"
     ]
    }
   ],
   "source": [
    "# Analyze stroke\n",
    "eachValueCount = carData.groupby('stroke').stroke.count()\n",
    "print(eachValueCount)"
   ]
  },
  {
   "cell_type": "code",
   "execution_count": 47,
   "metadata": {},
   "outputs": [
    {
     "name": "stdout",
     "output_type": "stream",
     "text": [
      "(array([ 29,  47,  48, 111, 113, 130, 131, 134, 138, 139, 140, 141, 142,\n",
      "       143, 144, 145, 146, 147, 148, 149], dtype=int64),)\n"
     ]
    }
   ],
   "source": [
    "# Find outliers in stroke - use interquartile range to find the outliers\n",
    "outliersInstroke = outliers(carData.stroke)\n",
    "print(outliersInstroke)"
   ]
  },
  {
   "cell_type": "markdown",
   "metadata": {},
   "source": [
    "There are many outliers in stroke"
   ]
  },
  {
   "cell_type": "code",
   "execution_count": 48,
   "metadata": {},
   "outputs": [
    {
     "name": "stdout",
     "output_type": "stream",
     "text": [
      "compressionratio\n",
      "7.00      7\n",
      "7.50      5\n",
      "7.60      4\n",
      "7.70      2\n",
      "7.80      1\n",
      "8.00      8\n",
      "8.10      2\n",
      "8.30      3\n",
      "8.40      5\n",
      "8.50     14\n",
      "8.60      5\n",
      "8.70      9\n",
      "8.80      3\n",
      "9.00     46\n",
      "9.10      1\n",
      "9.20      8\n",
      "9.30     11\n",
      "9.31      1\n",
      "9.40     26\n",
      "9.41      1\n",
      "9.50     13\n",
      "9.60      5\n",
      "10.00     3\n",
      "10.10     1\n",
      "11.50     1\n",
      "21.00     5\n",
      "21.50     4\n",
      "21.90     1\n",
      "22.00     1\n",
      "22.50     3\n",
      "22.70     1\n",
      "23.00     5\n",
      "Name: compressionratio, dtype: int64\n"
     ]
    }
   ],
   "source": [
    "# Analyze compressionratio\n",
    "eachValueCount = carData.groupby('compressionratio').compressionratio.count()\n",
    "print(eachValueCount)"
   ]
  },
  {
   "cell_type": "code",
   "execution_count": 49,
   "metadata": {},
   "outputs": [
    {
     "name": "stdout",
     "output_type": "stream",
     "text": [
      "(array([  9,  29,  49,  63,  66,  67,  68,  69,  70,  82,  83,  84,  90,\n",
      "       108, 110, 112, 114, 116, 117, 124, 158, 159, 174, 182, 184, 187,\n",
      "       192, 203], dtype=int64),)\n"
     ]
    }
   ],
   "source": [
    "# Find outliers in compressionratio - use interquartile range to find the outliers\n",
    "outliersIncompressionratio = outliers(carData.compressionratio)\n",
    "print(outliersIncompressionratio)"
   ]
  },
  {
   "cell_type": "markdown",
   "metadata": {},
   "source": [
    "There are many outliers in compressionratio"
   ]
  },
  {
   "cell_type": "code",
   "execution_count": 50,
   "metadata": {},
   "outputs": [
    {
     "name": "stdout",
     "output_type": "stream",
     "text": [
      "horsepower\n",
      "48      1\n",
      "52      2\n",
      "55      1\n",
      "56      2\n",
      "58      1\n",
      "60      1\n",
      "62      6\n",
      "64      1\n",
      "68     19\n",
      "69     10\n",
      "70     11\n",
      "72      1\n",
      "73      3\n",
      "76      5\n",
      "78      1\n",
      "82      5\n",
      "84      5\n",
      "85      3\n",
      "86      4\n",
      "88      6\n",
      "90      5\n",
      "92      4\n",
      "94      2\n",
      "95      7\n",
      "97      5\n",
      "100     2\n",
      "101     6\n",
      "102     5\n",
      "106     1\n",
      "110     8\n",
      "111     4\n",
      "112     2\n",
      "114     6\n",
      "115     1\n",
      "116     9\n",
      "120     1\n",
      "121     3\n",
      "123     4\n",
      "134     1\n",
      "135     1\n",
      "140     1\n",
      "142     1\n",
      "143     1\n",
      "145     5\n",
      "152     3\n",
      "154     1\n",
      "155     2\n",
      "156     2\n",
      "160     6\n",
      "161     2\n",
      "162     2\n",
      "175     1\n",
      "176     2\n",
      "182     3\n",
      "184     2\n",
      "200     1\n",
      "207     3\n",
      "262     1\n",
      "288     1\n",
      "Name: horsepower, dtype: int64\n"
     ]
    }
   ],
   "source": [
    "# Analyze horsepower\n",
    "eachValueCount = carData.groupby('horsepower').horsepower.count()\n",
    "print(eachValueCount)"
   ]
  },
  {
   "cell_type": "code",
   "execution_count": 51,
   "metadata": {},
   "outputs": [
    {
     "name": "stdout",
     "output_type": "stream",
     "text": [
      "(array([ 49, 105, 126, 127, 128, 129], dtype=int64),)\n"
     ]
    }
   ],
   "source": [
    "# Find outliers in horsepower - use interquartile range to find the outliers\n",
    "outliersInhorsepower = outliers(carData.horsepower)\n",
    "print(outliersInhorsepower)"
   ]
  },
  {
   "cell_type": "code",
   "execution_count": 52,
   "metadata": {},
   "outputs": [
    {
     "name": "stdout",
     "output_type": "stream",
     "text": [
      "peakrpm\n",
      "4150     5\n",
      "4200     5\n",
      "4250     3\n",
      "4350     4\n",
      "4400     3\n",
      "4500     7\n",
      "4650     1\n",
      "4750     4\n",
      "4800    36\n",
      "4900     1\n",
      "5000    27\n",
      "5100     5\n",
      "5200    23\n",
      "5250     7\n",
      "5300     1\n",
      "5400    13\n",
      "5500    37\n",
      "5600     1\n",
      "5750     1\n",
      "5800     7\n",
      "5900     3\n",
      "6000     9\n",
      "6600     2\n",
      "Name: peakrpm, dtype: int64\n"
     ]
    }
   ],
   "source": [
    "# Analyze peakrpm\n",
    "eachValueCount = carData.groupby('peakrpm').peakrpm.count()\n",
    "print(eachValueCount)"
   ]
  },
  {
   "cell_type": "code",
   "execution_count": 53,
   "metadata": {},
   "outputs": [
    {
     "name": "stdout",
     "output_type": "stream",
     "text": [
      "(array([165, 166], dtype=int64),)\n"
     ]
    }
   ],
   "source": [
    "# Find outliers in peakrpm - use interquartile range to find the outliers\n",
    "outliersInpeakrpm = outliers(carData.peakrpm)\n",
    "print(outliersInpeakrpm)"
   ]
  },
  {
   "cell_type": "code",
   "execution_count": 54,
   "metadata": {},
   "outputs": [
    {
     "name": "stdout",
     "output_type": "stream",
     "text": [
      "citympg\n",
      "13     1\n",
      "14     2\n",
      "15     3\n",
      "16     6\n",
      "17    13\n",
      "18     3\n",
      "19    27\n",
      "20     3\n",
      "21     8\n",
      "22     4\n",
      "23    12\n",
      "24    22\n",
      "25     8\n",
      "26    12\n",
      "27    14\n",
      "28     7\n",
      "29     3\n",
      "30     8\n",
      "31    28\n",
      "32     1\n",
      "33     1\n",
      "34     1\n",
      "35     1\n",
      "36     1\n",
      "37     6\n",
      "38     7\n",
      "45     1\n",
      "47     1\n",
      "49     1\n",
      "Name: citympg, dtype: int64\n"
     ]
    }
   ],
   "source": [
    "# Analyze citympg\n",
    "eachValueCount = carData.groupby('citympg').citympg.count()\n",
    "print(eachValueCount)"
   ]
  },
  {
   "cell_type": "code",
   "execution_count": 55,
   "metadata": {},
   "outputs": [
    {
     "name": "stdout",
     "output_type": "stream",
     "text": [
      "(array([18, 30], dtype=int64),)\n"
     ]
    }
   ],
   "source": [
    "# Find outliers in citympg - use interquartile range to find the outliers\n",
    "outliersIncitympg = outliers(carData.citympg)\n",
    "print(outliersIncitympg)"
   ]
  },
  {
   "cell_type": "code",
   "execution_count": 56,
   "metadata": {},
   "outputs": [
    {
     "name": "stdout",
     "output_type": "stream",
     "text": [
      "highwaympg\n",
      "16     2\n",
      "17     1\n",
      "18     2\n",
      "19     2\n",
      "20     2\n",
      "22     8\n",
      "23     7\n",
      "24    17\n",
      "25    19\n",
      "26     3\n",
      "27     5\n",
      "28    13\n",
      "29    10\n",
      "30    16\n",
      "31     8\n",
      "32    16\n",
      "33     9\n",
      "34    14\n",
      "36     2\n",
      "37    13\n",
      "38    17\n",
      "39     2\n",
      "41     3\n",
      "42     3\n",
      "43     4\n",
      "46     2\n",
      "47     2\n",
      "50     1\n",
      "53     1\n",
      "54     1\n",
      "Name: highwaympg, dtype: int64\n"
     ]
    }
   ],
   "source": [
    "# Analyze highwaympg\n",
    "eachValueCount = carData.groupby('highwaympg').highwaympg.count()\n",
    "print(eachValueCount)"
   ]
  },
  {
   "cell_type": "code",
   "execution_count": 57,
   "metadata": {},
   "outputs": [
    {
     "name": "stdout",
     "output_type": "stream",
     "text": [
      "(array([18, 30, 90], dtype=int64),)\n"
     ]
    }
   ],
   "source": [
    "# Find outliers in highwaympg - use interquartile range to find the outliers\n",
    "outliersInhighwaympg = outliers(carData.highwaympg)\n",
    "print(outliersInhighwaympg)"
   ]
  },
  {
   "cell_type": "code",
   "execution_count": 58,
   "metadata": {},
   "outputs": [
    {
     "name": "stdout",
     "output_type": "stream",
     "text": [
      "price\n",
      "5118.0     1\n",
      "5151.0     1\n",
      "5195.0     1\n",
      "5348.0     1\n",
      "5389.0     1\n",
      "5399.0     1\n",
      "5499.0     1\n",
      "5572.0     2\n",
      "6095.0     1\n",
      "6189.0     1\n",
      "6229.0     2\n",
      "6295.0     1\n",
      "6338.0     1\n",
      "6377.0     1\n",
      "6479.0     1\n",
      "6488.0     1\n",
      "6529.0     1\n",
      "6575.0     1\n",
      "6649.0     1\n",
      "6669.0     1\n",
      "6692.0     2\n",
      "6695.0     1\n",
      "6785.0     1\n",
      "6795.0     1\n",
      "6849.0     1\n",
      "6855.0     1\n",
      "6918.0     1\n",
      "6938.0     1\n",
      "6989.0     1\n",
      "7053.0     1\n",
      "          ..\n",
      "18920.0    1\n",
      "18950.0    1\n",
      "19045.0    1\n",
      "19699.0    1\n",
      "20970.0    1\n",
      "21105.0    1\n",
      "21485.0    1\n",
      "22018.0    1\n",
      "22470.0    1\n",
      "22625.0    1\n",
      "23875.0    1\n",
      "24565.0    1\n",
      "25552.0    1\n",
      "28176.0    1\n",
      "28248.0    1\n",
      "30760.0    1\n",
      "31400.5    1\n",
      "31600.0    1\n",
      "32250.0    1\n",
      "32528.0    1\n",
      "34028.0    1\n",
      "34184.0    1\n",
      "35056.0    1\n",
      "35550.0    1\n",
      "36000.0    1\n",
      "36880.0    1\n",
      "37028.0    1\n",
      "40960.0    1\n",
      "41315.0    1\n",
      "45400.0    1\n",
      "Name: price, Length: 189, dtype: int64\n"
     ]
    }
   ],
   "source": [
    "# Analyze price - Dependent variable\n",
    "eachValueCount = carData.groupby('price').price.count()\n",
    "print(eachValueCount)"
   ]
  },
  {
   "cell_type": "code",
   "execution_count": 59,
   "metadata": {},
   "outputs": [
    {
     "name": "stdout",
     "output_type": "stream",
     "text": [
      "(array([ 15,  16,  17,  47,  48,  49,  70,  71,  72,  73,  74, 126, 127,\n",
      "       128, 129], dtype=int64),)\n"
     ]
    }
   ],
   "source": [
    "# Find outliers in price - use interquartile range to find the outliers\n",
    "outliersInprice = outliers(carData.price)\n",
    "print(outliersInprice)"
   ]
  },
  {
   "cell_type": "markdown",
   "metadata": {},
   "source": [
    "There are many outliers in price\n",
    "\n",
    "Note: index 70, 71, 73 is common as an outlier in many features as well in price also. We should not remove this considering as an outlier because this can be a main factor in determining the results as it is recurring in many features.\n",
    "\n",
    "Other index values in price which are appearing as outlier also have outlier value in other features like index 126, 127, 128, 129 are outliers in horsepower, index 49 is in compression ratio. Hence, it may be showing some pattern and these features can prove to be significant hence, we should not remove outliers at this point. Main reason for this is the size of data set which is very small and making it smaller may lead to wrong results. We also should not impute values in place of outliers because at most positions of the outliers over here are common in independent and dependent variable which can be an information for the model and by replacing it with a metrics like mean etc we may loose the information."
   ]
  },
  {
   "cell_type": "code",
   "execution_count": 60,
   "metadata": {},
   "outputs": [],
   "source": [
    "# The list of outliers is huge; in total their are 66 outliers which means 205 - 66 records will be left. \n",
    "# As the dataset will remain too small we should not perform outlier removal\n",
    "# still to match the models from both dataset let's create another dataframe in parallel named as carDataOutliersFree after normalising the data"
   ]
  },
  {
   "cell_type": "code",
   "execution_count": 61,
   "metadata": {},
   "outputs": [
    {
     "name": "stdout",
     "output_type": "stream",
     "text": [
      "   wheelbase  carlength  carwidth  carheight  curbweight  enginesize  \\\n",
      "0       88.6      168.8      64.1       48.8        2548         130   \n",
      "1       88.6      168.8      64.1       48.8        2548         130   \n",
      "2       94.5      171.2      65.5       52.4        2823         152   \n",
      "3       99.8      176.6      66.2       54.3        2337         109   \n",
      "4       99.4      176.6      66.4       54.3        2824         136   \n",
      "5       99.8      177.3      66.3       53.1        2507         136   \n",
      "6      105.8      192.7      71.4       55.7        2844         136   \n",
      "7      105.8      192.7      71.4       55.7        2954         136   \n",
      "8      105.8      192.7      71.4       55.9        3086         131   \n",
      "9       99.5      178.2      67.9       52.0        3053         131   \n",
      "\n",
      "   boreratio  stroke  compressionratio  horsepower  peakrpm  citympg  \\\n",
      "0       3.47    2.68               9.0         111     5000       21   \n",
      "1       3.47    2.68               9.0         111     5000       21   \n",
      "2       2.68    3.47               9.0         154     5000       19   \n",
      "3       3.19    3.40              10.0         102     5500       24   \n",
      "4       3.19    3.40               8.0         115     5500       18   \n",
      "5       3.19    3.40               8.5         110     5500       19   \n",
      "6       3.19    3.40               8.5         110     5500       19   \n",
      "7       3.19    3.40               8.5         110     5500       19   \n",
      "8       3.13    3.40               8.3         140     5500       17   \n",
      "9       3.13    3.40               7.0         160     5500       16   \n",
      "\n",
      "   highwaympg      price  \n",
      "0          27  13495.000  \n",
      "1          27  16500.000  \n",
      "2          26  16500.000  \n",
      "3          30  13950.000  \n",
      "4          22  17450.000  \n",
      "5          25  15250.000  \n",
      "6          25  17710.000  \n",
      "7          25  18920.000  \n",
      "8          20  23875.000  \n",
      "9          22  17859.167  \n"
     ]
    }
   ],
   "source": [
    "# Lets create a dataframe that has only numerical columns\n",
    "carDataNumeric = carData[['wheelbase','carlength','carwidth', 'carheight', 'curbweight', 'enginesize', 'boreratio', 'stroke', 'compressionratio', 'horsepower', 'peakrpm', 'citympg', 'highwaympg','price']]\n",
    "print(carDataNumeric.head(10))"
   ]
  },
  {
   "cell_type": "code",
   "execution_count": 62,
   "metadata": {},
   "outputs": [
    {
     "data": {
      "text/plain": [
       "(205, 14)"
      ]
     },
     "execution_count": 62,
     "metadata": {},
     "output_type": "execute_result"
    }
   ],
   "source": [
    "carDataNumeric.shape"
   ]
  },
  {
   "cell_type": "code",
   "execution_count": 63,
   "metadata": {},
   "outputs": [
    {
     "data": {
      "text/plain": [
       "<matplotlib.axes._subplots.AxesSubplot at 0x1f91bae87f0>"
      ]
     },
     "execution_count": 63,
     "metadata": {},
     "output_type": "execute_result"
    },
    {
     "data": {
      "image/png": "[encoded data removed]",
      "text/plain": [
       "<matplotlib.figure.Figure at 0x1f91bb9e630>"
      ]
     },
     "metadata": {},
     "output_type": "display_data"
    }
   ],
   "source": [
    "# Find correlation between all the numeric columns including the price i.e. dependent variable\n",
    "plt.figure(figsize = (20,10))        # Size of the figure\n",
    "sns.heatmap(carDataNumeric.corr(),annot = True)"
   ]
  },
  {
   "cell_type": "markdown",
   "metadata": {},
   "source": [
    "From the above plot we can find the following points: Positively correlated variables: wheelbase, carlength, carwidth, carheight, curbweight, enginesize, boreratio,compressionratio,price\n",
    "Negatively correlated variables: most of the variables are negatively correlated with peakrpm, citympg, highwaympg\n",
    "Note correlation doesn't imply causation. Hence, we can still not be sure about the variables that are the main derivatives of car price\n",
    "\n",
    "Correlation may help further if we get stuck at a decision where a variable in presence of another variable seems to be less significant then we can see the correlation of that variable and if the correlation is high then we should have domain knowledge and good reasoning to drop or keep that variable"
   ]
  },
  {
   "cell_type": "markdown",
   "metadata": {},
   "source": [
    "From the above plot we can find the following points: Positively correlated variables: wheelbase, carlength, carwidth, carheight, curbweight, enginesize, boreratio,compressionratio,price Negatively correlated variables: most of the variables are negatively correlated with peakrpm, citympg, highwaympg Note correlation doesn't imply causation. Hence, we can still not be sure about the variables that are the main derivatives of car price\n",
    "\n",
    "Correlation may help further if we get stuck at a decision where a variable in presence of another variable seems to be less significant then we can see the correlation of that variable and if the correlation is high then we should have domain knowledge and good reasoning to drop or keep that variable\n",
    "\n",
    "Also we can refer to the correlation if all a variable seem to be significant but has high VIF then we can refer that what all variables are correlated because of which VIF is high"
   ]
  },
  {
   "cell_type": "code",
   "execution_count": 64,
   "metadata": {},
   "outputs": [
    {
     "name": "stdout",
     "output_type": "stream",
     "text": [
      "  symboling doornumber cylindernumber  CompanyName fueltype aspiration  \\\n",
      "0     risky        two           four  alfa-romero      gas        std   \n",
      "1     risky        two           four  alfa-romero      gas        std   \n",
      "2     risky        two            six  alfa-romero      gas        std   \n",
      "3     risky       four           four         audi      gas        std   \n",
      "4     risky       four           five         audi      gas        std   \n",
      "\n",
      "       carbody drivewheel enginelocation enginetype fuelsystem  \n",
      "0  convertible        rwd          front       dohc       mpfi  \n",
      "1  convertible        rwd          front       dohc       mpfi  \n",
      "2    hatchback        rwd          front        ohc       mpfi  \n",
      "3        sedan        fwd          front        ohc       mpfi  \n",
      "4        sedan        4wd          front        ohc       mpfi  \n"
     ]
    }
   ],
   "source": [
    "# Lets create a dataframe that has only categorical columns \n",
    "carDataCategorical = carData[['symboling','doornumber','cylindernumber','CompanyName','fueltype','aspiration','carbody','drivewheel','enginelocation','enginetype','fuelsystem']]\n",
    "print(carDataCategorical.head(5))"
   ]
  },
  {
   "cell_type": "code",
   "execution_count": 65,
   "metadata": {},
   "outputs": [
    {
     "data": {
      "text/plain": [
       "(205, 11)"
      ]
     },
     "execution_count": 65,
     "metadata": {},
     "output_type": "execute_result"
    }
   ],
   "source": [
    "carDataCategorical.shape"
   ]
  },
  {
   "cell_type": "code",
   "execution_count": 66,
   "metadata": {},
   "outputs": [],
   "source": [
    "# There are in total 11 categorical columns out of which 3 represents category but are assigned numeric value "
   ]
  },
  {
   "cell_type": "code",
   "execution_count": 67,
   "metadata": {},
   "outputs": [
    {
     "data": {
      "image/png": "[encoded data removed]",
      "text/plain": [
       "<matplotlib.figure.Figure at 0x1f91bf6d4e0>"
      ]
     },
     "metadata": {},
     "output_type": "display_data"
    }
   ],
   "source": [
    "# Find the relationship between categorical columns and Dependent variable price\n",
    "# symboling vs price\n",
    "bplot = sns.boxplot(x='symboling',y='price',data=carData,width = 0.5)  \n",
    "plt.xlabel(\"Symboling\")\n",
    "plt.ylabel(\"Price\")\n",
    "plt.xticks(rotation=90)\n",
    "plt.show()"
   ]
  },
  {
   "cell_type": "code",
   "execution_count": 68,
   "metadata": {},
   "outputs": [],
   "source": [
    "# After looking at the box plot symboling does not seem to be a significant variable in determining price becasue when auto is riksy\n",
    "# then also the price is high but we cannot remove it on this basis because if the insurance risk rating is high so that may mean that\n",
    "# it includes that price also. Hence, let's analyse further"
   ]
  },
  {
   "cell_type": "code",
   "execution_count": 69,
   "metadata": {},
   "outputs": [
    {
     "data": {
      "image/png": "[encoded data removed]",
      "text/plain": [
       "<matplotlib.figure.Figure at 0x1f91bfb0b00>"
      ]
     },
     "metadata": {},
     "output_type": "display_data"
    }
   ],
   "source": [
    "# Find the relationship between categorical columns and Dependent variable price\n",
    "# CompanyName vs price\n",
    "bplot = sns.boxplot(x='CompanyName',y='price',data=carData,width = 0.5)  \n",
    "plt.xlabel(\"Company Name\")\n",
    "plt.ylabel(\"Price\")\n",
    "plt.xticks(rotation=90)\n",
    "plt.show()"
   ]
  },
  {
   "cell_type": "code",
   "execution_count": 70,
   "metadata": {},
   "outputs": [],
   "source": [
    "# The graph shows that bmw, buick, jaguar, porsche have quite high price compared to the other car models"
   ]
  },
  {
   "cell_type": "code",
   "execution_count": 71,
   "metadata": {},
   "outputs": [
    {
     "data": {
      "image/png": "[encoded data removed]",
      "text/plain": [
       "<matplotlib.figure.Figure at 0x1f91bb9ee80>"
      ]
     },
     "metadata": {},
     "output_type": "display_data"
    }
   ],
   "source": [
    "# fueltype vs price\n",
    "bplot = sns.boxplot(x='fueltype',y='price',data=carData,width = 0.5)\n",
    "plt.xlabel(\"fueltype\")\n",
    "plt.ylabel(\"Price\")\n",
    "plt.xticks(rotation=90)\n",
    "plt.show()"
   ]
  },
  {
   "cell_type": "code",
   "execution_count": 72,
   "metadata": {},
   "outputs": [],
   "source": [
    "# Fuletype diesel has higher highest, lowest, median, first and third quartile than gas"
   ]
  },
  {
   "cell_type": "code",
   "execution_count": 73,
   "metadata": {},
   "outputs": [
    {
     "data": {
      "image/png": "[encoded data removed]",
      "text/plain": [
       "<matplotlib.figure.Figure at 0x1f91bfc73c8>"
      ]
     },
     "metadata": {},
     "output_type": "display_data"
    }
   ],
   "source": [
    "# aspiration vs price\n",
    "bplot = sns.boxplot(x='aspiration',y='price',data=carData,width = 0.5)\n",
    "plt.xlabel(\"aspiration\")\n",
    "plt.ylabel(\"Price\")\n",
    "plt.xticks(rotation=90)\n",
    "plt.show()"
   ]
  },
  {
   "cell_type": "code",
   "execution_count": 74,
   "metadata": {},
   "outputs": [],
   "source": [
    "# aspiration turbo has higher highest, lowest, median, first and third quartile than std"
   ]
  },
  {
   "cell_type": "code",
   "execution_count": 75,
   "metadata": {},
   "outputs": [
    {
     "data": {
      "image/png": "[encoded data removed]",
      "text/plain": [
       "<matplotlib.figure.Figure at 0x1f91c187828>"
      ]
     },
     "metadata": {},
     "output_type": "display_data"
    }
   ],
   "source": [
    "# doornumber vs price\n",
    "bplot = sns.boxplot(x='doornumber',y='price',data=carData,width = 0.5)\n",
    "plt.xlabel(\"doornumber\")\n",
    "plt.ylabel(\"Price\")\n",
    "plt.xticks(rotation=90)\n",
    "plt.show()"
   ]
  },
  {
   "cell_type": "code",
   "execution_count": 76,
   "metadata": {},
   "outputs": [
    {
     "data": {
      "image/png": "[encoded data removed]",
      "text/plain": [
       "<matplotlib.figure.Figure at 0x1f91c07d470>"
      ]
     },
     "metadata": {},
     "output_type": "display_data"
    }
   ],
   "source": [
    "# carbody vs price\n",
    "bplot = sns.boxplot(x='carbody',y='price',data=carData,width = 0.5)\n",
    "plt.xlabel(\"carbody\")\n",
    "plt.ylabel(\"Price\")\n",
    "plt.xticks(rotation=90)\n",
    "plt.show()"
   ]
  },
  {
   "cell_type": "code",
   "execution_count": 77,
   "metadata": {},
   "outputs": [],
   "source": [
    "# carbody hardtop price varies in a big range where as median of convertible is good compared to hatchback, sedan, wagon \n",
    "# but there is a big difference in it's third and 1st quartile"
   ]
  },
  {
   "cell_type": "code",
   "execution_count": 78,
   "metadata": {},
   "outputs": [
    {
     "data": {
      "image/png": "[encoded data removed]",
      "text/plain": [
       "<matplotlib.figure.Figure at 0x1f91bfc0a20>"
      ]
     },
     "metadata": {},
     "output_type": "display_data"
    }
   ],
   "source": [
    "# drivewheel vs price\n",
    "bplot = sns.boxplot(x='drivewheel',y='price',data=carData,width = 0.5)\n",
    "plt.xlabel(\"drivewheel\")\n",
    "plt.ylabel(\"Price\")\n",
    "plt.xticks(rotation=90)\n",
    "plt.show()"
   ]
  },
  {
   "cell_type": "code",
   "execution_count": 79,
   "metadata": {},
   "outputs": [
    {
     "data": {
      "image/png": "[encoded data removed]",
      "text/plain": [
       "<matplotlib.figure.Figure at 0x1f91c04df60>"
      ]
     },
     "metadata": {},
     "output_type": "display_data"
    }
   ],
   "source": [
    "# enginelocation vs price\n",
    "bplot = sns.boxplot(x='enginelocation',y='price',data=carData,width = 0.5)\n",
    "plt.xlabel(\"enginelocation\")\n",
    "plt.ylabel(\"Price\")\n",
    "plt.xticks(rotation=90)\n",
    "plt.show()"
   ]
  },
  {
   "cell_type": "code",
   "execution_count": 80,
   "metadata": {},
   "outputs": [],
   "source": [
    "# This may be an indication that the dataset of rear enginelocaion is too low"
   ]
  },
  {
   "cell_type": "code",
   "execution_count": 81,
   "metadata": {},
   "outputs": [
    {
     "data": {
      "image/png": "[encoded data removed]",
      "text/plain": [
       "<matplotlib.figure.Figure at 0x1f91c0d3fd0>"
      ]
     },
     "metadata": {},
     "output_type": "display_data"
    }
   ],
   "source": [
    "# enginetype vs price\n",
    "bplot = sns.boxplot(x='enginetype',y='price',data=carData,width = 0.5)\n",
    "plt.xlabel(\"enginetype\")\n",
    "plt.ylabel(\"Price\")\n",
    "plt.xticks(rotation=90)\n",
    "plt.show()"
   ]
  },
  {
   "cell_type": "code",
   "execution_count": 82,
   "metadata": {},
   "outputs": [
    {
     "data": {
      "image/png": "[encoded data removed]",
      "text/plain": [
       "<matplotlib.figure.Figure at 0x1f91c0784a8>"
      ]
     },
     "metadata": {},
     "output_type": "display_data"
    }
   ],
   "source": [
    "# cylindernumber vs price\n",
    "bplot = sns.boxplot(x='cylindernumber',y='price',data=carData,width = 0.5)\n",
    "plt.xlabel(\"cylindernumber\")\n",
    "plt.ylabel(\"Price\")\n",
    "plt.xticks(rotation=90)\n",
    "plt.show()"
   ]
  },
  {
   "cell_type": "code",
   "execution_count": 83,
   "metadata": {},
   "outputs": [],
   "source": [
    "# The box plot shows that the data set for three and twelve is too small and six and five have similar pattern  except highest value\n",
    "# Looking at the pattern cylinder number can have two categories - less than 5 and and gretate than equal to 5\n",
    "carData['cylindernumber'] = carData['cylindernumber'].astype(str)\n",
    "carData['cylindernumber']= carData['cylindernumber'].apply(lambda x: 2 if x=='two' else x)\n",
    "carData['cylindernumber']= carData['cylindernumber'].apply(lambda x: 3 if x=='three' else x)\n",
    "carData['cylindernumber']= carData['cylindernumber'].apply(lambda x: 4 if x=='four' else x)\n",
    "carData['cylindernumber']= carData['cylindernumber'].apply(lambda x: 5 if x=='five' else x)\n",
    "carData['cylindernumber']= carData['cylindernumber'].apply(lambda x: 6 if x=='six' else x)\n",
    "carData['cylindernumber']= carData['cylindernumber'].apply(lambda x: 8 if x=='eight' else x)\n",
    "carData['cylindernumber']= carData['cylindernumber'].apply(lambda x: 12 if x=='twelve' else x)\n",
    "carData['cylindernumber'] = carData['cylindernumber'].astype(int)\n",
    "carData['cylindernumber']= carData['cylindernumber'].apply(lambda x: \"lessThan5\" if x<5 else \"5OrMoreThan5\")\n",
    "carData['cylindernumber'] = carData['cylindernumber'].astype(str)"
   ]
  },
  {
   "cell_type": "code",
   "execution_count": 84,
   "metadata": {},
   "outputs": [
    {
     "data": {
      "image/png": "[encoded data removed]",
      "text/plain": [
       "<matplotlib.figure.Figure at 0x1f91c7a2e80>"
      ]
     },
     "metadata": {},
     "output_type": "display_data"
    }
   ],
   "source": [
    "# Again draw cylindernumber vs price\n",
    "bplot = sns.boxplot(x='cylindernumber',y='price',data=carData,width = 0.5)\n",
    "plt.xlabel(\"cylindernumber\")\n",
    "plt.ylabel(\"Price\")\n",
    "plt.xticks(rotation=90)\n",
    "plt.show()"
   ]
  },
  {
   "cell_type": "code",
   "execution_count": 85,
   "metadata": {},
   "outputs": [
    {
     "data": {
      "image/png": "[encoded data removed]",
      "text/plain": [
       "<matplotlib.figure.Figure at 0x1f91c323b70>"
      ]
     },
     "metadata": {},
     "output_type": "display_data"
    }
   ],
   "source": [
    "# fuelsystem vs price\n",
    "bplot = sns.boxplot(x='fuelsystem',y='price',data=carData,width = 0.5)\n",
    "plt.xlabel(\"fuelsystem\")\n",
    "plt.ylabel(\"Price\")\n",
    "plt.xticks(rotation=90)\n",
    "plt.show()"
   ]
  },
  {
   "cell_type": "code",
   "execution_count": 86,
   "metadata": {},
   "outputs": [],
   "source": [
    "# the above box plots shows that there are few outliers in few categories i.e outliers in terms of price"
   ]
  },
  {
   "cell_type": "markdown",
   "metadata": {},
   "source": [
    "Analyse all the categorical variables of these require dummy variable"
   ]
  },
  {
   "cell_type": "code",
   "execution_count": 87,
   "metadata": {},
   "outputs": [
    {
     "data": {
      "text/html": [
       "<div>\n",
       "<style scoped>\n",
       "    .dataframe tbody tr th:only-of-type {\n",
       "        vertical-align: middle;\n",
       "    }\n",
       "\n",
       "    .dataframe tbody tr th {\n",
       "        vertical-align: top;\n",
       "    }\n",
       "\n",
       "    .dataframe thead th {\n",
       "        text-align: right;\n",
       "    }\n",
       "</style>\n",
       "<table border=\"1\" class=\"dataframe\">\n",
       "  <thead>\n",
       "    <tr style=\"text-align: right;\">\n",
       "      <th></th>\n",
       "      <th>car_ID</th>\n",
       "      <th>symboling</th>\n",
       "      <th>fueltype</th>\n",
       "      <th>aspiration</th>\n",
       "      <th>doornumber</th>\n",
       "      <th>carbody</th>\n",
       "      <th>drivewheel</th>\n",
       "      <th>enginelocation</th>\n",
       "      <th>wheelbase</th>\n",
       "      <th>carlength</th>\n",
       "      <th>...</th>\n",
       "      <th>fuelsystem</th>\n",
       "      <th>boreratio</th>\n",
       "      <th>stroke</th>\n",
       "      <th>compressionratio</th>\n",
       "      <th>horsepower</th>\n",
       "      <th>peakrpm</th>\n",
       "      <th>citympg</th>\n",
       "      <th>highwaympg</th>\n",
       "      <th>price</th>\n",
       "      <th>CompanyName</th>\n",
       "    </tr>\n",
       "  </thead>\n",
       "  <tbody>\n",
       "    <tr>\n",
       "      <th>0</th>\n",
       "      <td>1</td>\n",
       "      <td>risky</td>\n",
       "      <td>gas</td>\n",
       "      <td>std</td>\n",
       "      <td>two</td>\n",
       "      <td>convertible</td>\n",
       "      <td>rwd</td>\n",
       "      <td>front</td>\n",
       "      <td>88.6</td>\n",
       "      <td>168.8</td>\n",
       "      <td>...</td>\n",
       "      <td>mpfi</td>\n",
       "      <td>3.47</td>\n",
       "      <td>2.68</td>\n",
       "      <td>9.0</td>\n",
       "      <td>111</td>\n",
       "      <td>5000</td>\n",
       "      <td>21</td>\n",
       "      <td>27</td>\n",
       "      <td>13495.0</td>\n",
       "      <td>alfa-romero</td>\n",
       "    </tr>\n",
       "    <tr>\n",
       "      <th>1</th>\n",
       "      <td>2</td>\n",
       "      <td>risky</td>\n",
       "      <td>gas</td>\n",
       "      <td>std</td>\n",
       "      <td>two</td>\n",
       "      <td>convertible</td>\n",
       "      <td>rwd</td>\n",
       "      <td>front</td>\n",
       "      <td>88.6</td>\n",
       "      <td>168.8</td>\n",
       "      <td>...</td>\n",
       "      <td>mpfi</td>\n",
       "      <td>3.47</td>\n",
       "      <td>2.68</td>\n",
       "      <td>9.0</td>\n",
       "      <td>111</td>\n",
       "      <td>5000</td>\n",
       "      <td>21</td>\n",
       "      <td>27</td>\n",
       "      <td>16500.0</td>\n",
       "      <td>alfa-romero</td>\n",
       "    </tr>\n",
       "    <tr>\n",
       "      <th>2</th>\n",
       "      <td>3</td>\n",
       "      <td>risky</td>\n",
       "      <td>gas</td>\n",
       "      <td>std</td>\n",
       "      <td>two</td>\n",
       "      <td>hatchback</td>\n",
       "      <td>rwd</td>\n",
       "      <td>front</td>\n",
       "      <td>94.5</td>\n",
       "      <td>171.2</td>\n",
       "      <td>...</td>\n",
       "      <td>mpfi</td>\n",
       "      <td>2.68</td>\n",
       "      <td>3.47</td>\n",
       "      <td>9.0</td>\n",
       "      <td>154</td>\n",
       "      <td>5000</td>\n",
       "      <td>19</td>\n",
       "      <td>26</td>\n",
       "      <td>16500.0</td>\n",
       "      <td>alfa-romero</td>\n",
       "    </tr>\n",
       "    <tr>\n",
       "      <th>3</th>\n",
       "      <td>4</td>\n",
       "      <td>risky</td>\n",
       "      <td>gas</td>\n",
       "      <td>std</td>\n",
       "      <td>four</td>\n",
       "      <td>sedan</td>\n",
       "      <td>fwd</td>\n",
       "      <td>front</td>\n",
       "      <td>99.8</td>\n",
       "      <td>176.6</td>\n",
       "      <td>...</td>\n",
       "      <td>mpfi</td>\n",
       "      <td>3.19</td>\n",
       "      <td>3.40</td>\n",
       "      <td>10.0</td>\n",
       "      <td>102</td>\n",
       "      <td>5500</td>\n",
       "      <td>24</td>\n",
       "      <td>30</td>\n",
       "      <td>13950.0</td>\n",
       "      <td>audi</td>\n",
       "    </tr>\n",
       "    <tr>\n",
       "      <th>4</th>\n",
       "      <td>5</td>\n",
       "      <td>risky</td>\n",
       "      <td>gas</td>\n",
       "      <td>std</td>\n",
       "      <td>four</td>\n",
       "      <td>sedan</td>\n",
       "      <td>4wd</td>\n",
       "      <td>front</td>\n",
       "      <td>99.4</td>\n",
       "      <td>176.6</td>\n",
       "      <td>...</td>\n",
       "      <td>mpfi</td>\n",
       "      <td>3.19</td>\n",
       "      <td>3.40</td>\n",
       "      <td>8.0</td>\n",
       "      <td>115</td>\n",
       "      <td>5500</td>\n",
       "      <td>18</td>\n",
       "      <td>22</td>\n",
       "      <td>17450.0</td>\n",
       "      <td>audi</td>\n",
       "    </tr>\n",
       "  </tbody>\n",
       "</table>\n",
       "<p>5 rows × 26 columns</p>\n",
       "</div>"
      ],
      "text/plain": [
       "   car_ID symboling fueltype aspiration doornumber      carbody drivewheel  \\\n",
       "0       1     risky      gas        std        two  convertible        rwd   \n",
       "1       2     risky      gas        std        two  convertible        rwd   \n",
       "2       3     risky      gas        std        two    hatchback        rwd   \n",
       "3       4     risky      gas        std       four        sedan        fwd   \n",
       "4       5     risky      gas        std       four        sedan        4wd   \n",
       "\n",
       "  enginelocation  wheelbase  carlength     ...       fuelsystem  boreratio  \\\n",
       "0          front       88.6      168.8     ...             mpfi       3.47   \n",
       "1          front       88.6      168.8     ...             mpfi       3.47   \n",
       "2          front       94.5      171.2     ...             mpfi       2.68   \n",
       "3          front       99.8      176.6     ...             mpfi       3.19   \n",
       "4          front       99.4      176.6     ...             mpfi       3.19   \n",
       "\n",
       "   stroke compressionratio horsepower  peakrpm citympg  highwaympg    price  \\\n",
       "0    2.68              9.0        111     5000      21          27  13495.0   \n",
       "1    2.68              9.0        111     5000      21          27  16500.0   \n",
       "2    3.47              9.0        154     5000      19          26  16500.0   \n",
       "3    3.40             10.0        102     5500      24          30  13950.0   \n",
       "4    3.40              8.0        115     5500      18          22  17450.0   \n",
       "\n",
       "   CompanyName  \n",
       "0  alfa-romero  \n",
       "1  alfa-romero  \n",
       "2  alfa-romero  \n",
       "3         audi  \n",
       "4         audi  \n",
       "\n",
       "[5 rows x 26 columns]"
      ]
     },
     "execution_count": 87,
     "metadata": {},
     "output_type": "execute_result"
    }
   ],
   "source": [
    "carData.head(5)"
   ]
  },
  {
   "cell_type": "code",
   "execution_count": 88,
   "metadata": {},
   "outputs": [],
   "source": [
    "# There are few columns which have only two unique values. Convert that to 0 and 1\n",
    "# Enginelocation front to 1 and rear to 0\n",
    "# aspiration     std   to 1 and turbo to 0\n",
    "# fueltype       gas   to 1 and diesel to 0\n",
    "# symboling      safe  to 1 and risky  to 0\n",
    "# doornumber     four to 1 and  two   to 0 \n",
    "# cylindernumber 5OrMoreThan5 to 1 and lessThan5 to 0\n",
    "\n",
    "carData['enginelocation'] = carData['enginelocation'].map({'front':1, 'rear':0})\n",
    "carData['aspiration'] = carData['aspiration'].map({'std':1, 'turbo':0})\n",
    "carData['fueltype'] = carData['fueltype'].map({'gas':1, 'diesel':0})\n",
    "carData['symboling'] = carData['symboling'].map({'safe':1, 'risky':0})\n",
    "carData['doornumber'] = carData['doornumber'].map({'four':1, 'two':0})\n",
    "carData['cylindernumber'] = carData['cylindernumber'].map({'5OrMoreThan5':1, 'lessThan5':0})"
   ]
  },
  {
   "cell_type": "code",
   "execution_count": 89,
   "metadata": {},
   "outputs": [
    {
     "data": {
      "text/html": [
       "<div>\n",
       "<style scoped>\n",
       "    .dataframe tbody tr th:only-of-type {\n",
       "        vertical-align: middle;\n",
       "    }\n",
       "\n",
       "    .dataframe tbody tr th {\n",
       "        vertical-align: top;\n",
       "    }\n",
       "\n",
       "    .dataframe thead th {\n",
       "        text-align: right;\n",
       "    }\n",
       "</style>\n",
       "<table border=\"1\" class=\"dataframe\">\n",
       "  <thead>\n",
       "    <tr style=\"text-align: right;\">\n",
       "      <th></th>\n",
       "      <th>car_ID</th>\n",
       "      <th>symboling</th>\n",
       "      <th>fueltype</th>\n",
       "      <th>aspiration</th>\n",
       "      <th>doornumber</th>\n",
       "      <th>carbody</th>\n",
       "      <th>drivewheel</th>\n",
       "      <th>enginelocation</th>\n",
       "      <th>wheelbase</th>\n",
       "      <th>carlength</th>\n",
       "      <th>...</th>\n",
       "      <th>fuelsystem</th>\n",
       "      <th>boreratio</th>\n",
       "      <th>stroke</th>\n",
       "      <th>compressionratio</th>\n",
       "      <th>horsepower</th>\n",
       "      <th>peakrpm</th>\n",
       "      <th>citympg</th>\n",
       "      <th>highwaympg</th>\n",
       "      <th>price</th>\n",
       "      <th>CompanyName</th>\n",
       "    </tr>\n",
       "  </thead>\n",
       "  <tbody>\n",
       "    <tr>\n",
       "      <th>0</th>\n",
       "      <td>1</td>\n",
       "      <td>0</td>\n",
       "      <td>1</td>\n",
       "      <td>1</td>\n",
       "      <td>0</td>\n",
       "      <td>convertible</td>\n",
       "      <td>rwd</td>\n",
       "      <td>1</td>\n",
       "      <td>88.6</td>\n",
       "      <td>168.8</td>\n",
       "      <td>...</td>\n",
       "      <td>mpfi</td>\n",
       "      <td>3.47</td>\n",
       "      <td>2.68</td>\n",
       "      <td>9.0</td>\n",
       "      <td>111</td>\n",
       "      <td>5000</td>\n",
       "      <td>21</td>\n",
       "      <td>27</td>\n",
       "      <td>13495.0</td>\n",
       "      <td>alfa-romero</td>\n",
       "    </tr>\n",
       "    <tr>\n",
       "      <th>1</th>\n",
       "      <td>2</td>\n",
       "      <td>0</td>\n",
       "      <td>1</td>\n",
       "      <td>1</td>\n",
       "      <td>0</td>\n",
       "      <td>convertible</td>\n",
       "      <td>rwd</td>\n",
       "      <td>1</td>\n",
       "      <td>88.6</td>\n",
       "      <td>168.8</td>\n",
       "      <td>...</td>\n",
       "      <td>mpfi</td>\n",
       "      <td>3.47</td>\n",
       "      <td>2.68</td>\n",
       "      <td>9.0</td>\n",
       "      <td>111</td>\n",
       "      <td>5000</td>\n",
       "      <td>21</td>\n",
       "      <td>27</td>\n",
       "      <td>16500.0</td>\n",
       "      <td>alfa-romero</td>\n",
       "    </tr>\n",
       "    <tr>\n",
       "      <th>2</th>\n",
       "      <td>3</td>\n",
       "      <td>0</td>\n",
       "      <td>1</td>\n",
       "      <td>1</td>\n",
       "      <td>0</td>\n",
       "      <td>hatchback</td>\n",
       "      <td>rwd</td>\n",
       "      <td>1</td>\n",
       "      <td>94.5</td>\n",
       "      <td>171.2</td>\n",
       "      <td>...</td>\n",
       "      <td>mpfi</td>\n",
       "      <td>2.68</td>\n",
       "      <td>3.47</td>\n",
       "      <td>9.0</td>\n",
       "      <td>154</td>\n",
       "      <td>5000</td>\n",
       "      <td>19</td>\n",
       "      <td>26</td>\n",
       "      <td>16500.0</td>\n",
       "      <td>alfa-romero</td>\n",
       "    </tr>\n",
       "    <tr>\n",
       "      <th>3</th>\n",
       "      <td>4</td>\n",
       "      <td>0</td>\n",
       "      <td>1</td>\n",
       "      <td>1</td>\n",
       "      <td>1</td>\n",
       "      <td>sedan</td>\n",
       "      <td>fwd</td>\n",
       "      <td>1</td>\n",
       "      <td>99.8</td>\n",
       "      <td>176.6</td>\n",
       "      <td>...</td>\n",
       "      <td>mpfi</td>\n",
       "      <td>3.19</td>\n",
       "      <td>3.40</td>\n",
       "      <td>10.0</td>\n",
       "      <td>102</td>\n",
       "      <td>5500</td>\n",
       "      <td>24</td>\n",
       "      <td>30</td>\n",
       "      <td>13950.0</td>\n",
       "      <td>audi</td>\n",
       "    </tr>\n",
       "    <tr>\n",
       "      <th>4</th>\n",
       "      <td>5</td>\n",
       "      <td>0</td>\n",
       "      <td>1</td>\n",
       "      <td>1</td>\n",
       "      <td>1</td>\n",
       "      <td>sedan</td>\n",
       "      <td>4wd</td>\n",
       "      <td>1</td>\n",
       "      <td>99.4</td>\n",
       "      <td>176.6</td>\n",
       "      <td>...</td>\n",
       "      <td>mpfi</td>\n",
       "      <td>3.19</td>\n",
       "      <td>3.40</td>\n",
       "      <td>8.0</td>\n",
       "      <td>115</td>\n",
       "      <td>5500</td>\n",
       "      <td>18</td>\n",
       "      <td>22</td>\n",
       "      <td>17450.0</td>\n",
       "      <td>audi</td>\n",
       "    </tr>\n",
       "  </tbody>\n",
       "</table>\n",
       "<p>5 rows × 26 columns</p>\n",
       "</div>"
      ],
      "text/plain": [
       "   car_ID  symboling  fueltype  aspiration  doornumber      carbody  \\\n",
       "0       1          0         1           1           0  convertible   \n",
       "1       2          0         1           1           0  convertible   \n",
       "2       3          0         1           1           0    hatchback   \n",
       "3       4          0         1           1           1        sedan   \n",
       "4       5          0         1           1           1        sedan   \n",
       "\n",
       "  drivewheel  enginelocation  wheelbase  carlength     ...       fuelsystem  \\\n",
       "0        rwd               1       88.6      168.8     ...             mpfi   \n",
       "1        rwd               1       88.6      168.8     ...             mpfi   \n",
       "2        rwd               1       94.5      171.2     ...             mpfi   \n",
       "3        fwd               1       99.8      176.6     ...             mpfi   \n",
       "4        4wd               1       99.4      176.6     ...             mpfi   \n",
       "\n",
       "   boreratio  stroke compressionratio  horsepower  peakrpm citympg  \\\n",
       "0       3.47    2.68              9.0         111     5000      21   \n",
       "1       3.47    2.68              9.0         111     5000      21   \n",
       "2       2.68    3.47              9.0         154     5000      19   \n",
       "3       3.19    3.40             10.0         102     5500      24   \n",
       "4       3.19    3.40              8.0         115     5500      18   \n",
       "\n",
       "   highwaympg    price  CompanyName  \n",
       "0          27  13495.0  alfa-romero  \n",
       "1          27  16500.0  alfa-romero  \n",
       "2          26  16500.0  alfa-romero  \n",
       "3          30  13950.0         audi  \n",
       "4          22  17450.0         audi  \n",
       "\n",
       "[5 rows x 26 columns]"
      ]
     },
     "execution_count": 89,
     "metadata": {},
     "output_type": "execute_result"
    }
   ],
   "source": [
    "carData.head(5)"
   ]
  },
  {
   "cell_type": "code",
   "execution_count": 90,
   "metadata": {},
   "outputs": [
    {
     "data": {
      "text/html": [
       "<div>\n",
       "<style scoped>\n",
       "    .dataframe tbody tr th:only-of-type {\n",
       "        vertical-align: middle;\n",
       "    }\n",
       "\n",
       "    .dataframe tbody tr th {\n",
       "        vertical-align: top;\n",
       "    }\n",
       "\n",
       "    .dataframe thead th {\n",
       "        text-align: right;\n",
       "    }\n",
       "</style>\n",
       "<table border=\"1\" class=\"dataframe\">\n",
       "  <thead>\n",
       "    <tr style=\"text-align: right;\">\n",
       "      <th></th>\n",
       "      <th>alfa-romero</th>\n",
       "      <th>audi</th>\n",
       "      <th>bmw</th>\n",
       "      <th>buick</th>\n",
       "      <th>chevrolet</th>\n",
       "      <th>dodge</th>\n",
       "      <th>honda</th>\n",
       "      <th>isuzu</th>\n",
       "      <th>jaguar</th>\n",
       "      <th>mazda</th>\n",
       "      <th>...</th>\n",
       "      <th>nissan</th>\n",
       "      <th>peugeot</th>\n",
       "      <th>plymouth</th>\n",
       "      <th>porsche</th>\n",
       "      <th>renault</th>\n",
       "      <th>saab</th>\n",
       "      <th>subaru</th>\n",
       "      <th>toyota</th>\n",
       "      <th>volkswagen</th>\n",
       "      <th>volvo</th>\n",
       "    </tr>\n",
       "  </thead>\n",
       "  <tbody>\n",
       "    <tr>\n",
       "      <th>0</th>\n",
       "      <td>1</td>\n",
       "      <td>0</td>\n",
       "      <td>0</td>\n",
       "      <td>0</td>\n",
       "      <td>0</td>\n",
       "      <td>0</td>\n",
       "      <td>0</td>\n",
       "      <td>0</td>\n",
       "      <td>0</td>\n",
       "      <td>0</td>\n",
       "      <td>...</td>\n",
       "      <td>0</td>\n",
       "      <td>0</td>\n",
       "      <td>0</td>\n",
       "      <td>0</td>\n",
       "      <td>0</td>\n",
       "      <td>0</td>\n",
       "      <td>0</td>\n",
       "      <td>0</td>\n",
       "      <td>0</td>\n",
       "      <td>0</td>\n",
       "    </tr>\n",
       "    <tr>\n",
       "      <th>1</th>\n",
       "      <td>1</td>\n",
       "      <td>0</td>\n",
       "      <td>0</td>\n",
       "      <td>0</td>\n",
       "      <td>0</td>\n",
       "      <td>0</td>\n",
       "      <td>0</td>\n",
       "      <td>0</td>\n",
       "      <td>0</td>\n",
       "      <td>0</td>\n",
       "      <td>...</td>\n",
       "      <td>0</td>\n",
       "      <td>0</td>\n",
       "      <td>0</td>\n",
       "      <td>0</td>\n",
       "      <td>0</td>\n",
       "      <td>0</td>\n",
       "      <td>0</td>\n",
       "      <td>0</td>\n",
       "      <td>0</td>\n",
       "      <td>0</td>\n",
       "    </tr>\n",
       "    <tr>\n",
       "      <th>2</th>\n",
       "      <td>1</td>\n",
       "      <td>0</td>\n",
       "      <td>0</td>\n",
       "      <td>0</td>\n",
       "      <td>0</td>\n",
       "      <td>0</td>\n",
       "      <td>0</td>\n",
       "      <td>0</td>\n",
       "      <td>0</td>\n",
       "      <td>0</td>\n",
       "      <td>...</td>\n",
       "      <td>0</td>\n",
       "      <td>0</td>\n",
       "      <td>0</td>\n",
       "      <td>0</td>\n",
       "      <td>0</td>\n",
       "      <td>0</td>\n",
       "      <td>0</td>\n",
       "      <td>0</td>\n",
       "      <td>0</td>\n",
       "      <td>0</td>\n",
       "    </tr>\n",
       "    <tr>\n",
       "      <th>3</th>\n",
       "      <td>0</td>\n",
       "      <td>1</td>\n",
       "      <td>0</td>\n",
       "      <td>0</td>\n",
       "      <td>0</td>\n",
       "      <td>0</td>\n",
       "      <td>0</td>\n",
       "      <td>0</td>\n",
       "      <td>0</td>\n",
       "      <td>0</td>\n",
       "      <td>...</td>\n",
       "      <td>0</td>\n",
       "      <td>0</td>\n",
       "      <td>0</td>\n",
       "      <td>0</td>\n",
       "      <td>0</td>\n",
       "      <td>0</td>\n",
       "      <td>0</td>\n",
       "      <td>0</td>\n",
       "      <td>0</td>\n",
       "      <td>0</td>\n",
       "    </tr>\n",
       "    <tr>\n",
       "      <th>4</th>\n",
       "      <td>0</td>\n",
       "      <td>1</td>\n",
       "      <td>0</td>\n",
       "      <td>0</td>\n",
       "      <td>0</td>\n",
       "      <td>0</td>\n",
       "      <td>0</td>\n",
       "      <td>0</td>\n",
       "      <td>0</td>\n",
       "      <td>0</td>\n",
       "      <td>...</td>\n",
       "      <td>0</td>\n",
       "      <td>0</td>\n",
       "      <td>0</td>\n",
       "      <td>0</td>\n",
       "      <td>0</td>\n",
       "      <td>0</td>\n",
       "      <td>0</td>\n",
       "      <td>0</td>\n",
       "      <td>0</td>\n",
       "      <td>0</td>\n",
       "    </tr>\n",
       "  </tbody>\n",
       "</table>\n",
       "<p>5 rows × 22 columns</p>\n",
       "</div>"
      ],
      "text/plain": [
       "   alfa-romero  audi  bmw  buick  chevrolet  dodge  honda  isuzu  jaguar  \\\n",
       "0            1     0    0      0          0      0      0      0       0   \n",
       "1            1     0    0      0          0      0      0      0       0   \n",
       "2            1     0    0      0          0      0      0      0       0   \n",
       "3            0     1    0      0          0      0      0      0       0   \n",
       "4            0     1    0      0          0      0      0      0       0   \n",
       "\n",
       "   mazda  ...    nissan  peugeot  plymouth  porsche  renault  saab  subaru  \\\n",
       "0      0  ...         0        0         0        0        0     0       0   \n",
       "1      0  ...         0        0         0        0        0     0       0   \n",
       "2      0  ...         0        0         0        0        0     0       0   \n",
       "3      0  ...         0        0         0        0        0     0       0   \n",
       "4      0  ...         0        0         0        0        0     0       0   \n",
       "\n",
       "   toyota  volkswagen  volvo  \n",
       "0       0           0      0  \n",
       "1       0           0      0  \n",
       "2       0           0      0  \n",
       "3       0           0      0  \n",
       "4       0           0      0  \n",
       "\n",
       "[5 rows x 22 columns]"
      ]
     },
     "execution_count": 90,
     "metadata": {},
     "output_type": "execute_result"
    }
   ],
   "source": [
    "#create dummy variables for company name\n",
    "companyName = pd.get_dummies(carData['CompanyName'])\n",
    "companyName.head()"
   ]
  },
  {
   "cell_type": "code",
   "execution_count": 91,
   "metadata": {},
   "outputs": [
    {
     "data": {
      "text/html": [
       "<div>\n",
       "<style scoped>\n",
       "    .dataframe tbody tr th:only-of-type {\n",
       "        vertical-align: middle;\n",
       "    }\n",
       "\n",
       "    .dataframe tbody tr th {\n",
       "        vertical-align: top;\n",
       "    }\n",
       "\n",
       "    .dataframe thead th {\n",
       "        text-align: right;\n",
       "    }\n",
       "</style>\n",
       "<table border=\"1\" class=\"dataframe\">\n",
       "  <thead>\n",
       "    <tr style=\"text-align: right;\">\n",
       "      <th></th>\n",
       "      <th>audi</th>\n",
       "      <th>bmw</th>\n",
       "      <th>buick</th>\n",
       "      <th>chevrolet</th>\n",
       "      <th>dodge</th>\n",
       "      <th>honda</th>\n",
       "      <th>isuzu</th>\n",
       "      <th>jaguar</th>\n",
       "      <th>mazda</th>\n",
       "      <th>mercury</th>\n",
       "      <th>...</th>\n",
       "      <th>nissan</th>\n",
       "      <th>peugeot</th>\n",
       "      <th>plymouth</th>\n",
       "      <th>porsche</th>\n",
       "      <th>renault</th>\n",
       "      <th>saab</th>\n",
       "      <th>subaru</th>\n",
       "      <th>toyota</th>\n",
       "      <th>volkswagen</th>\n",
       "      <th>volvo</th>\n",
       "    </tr>\n",
       "  </thead>\n",
       "  <tbody>\n",
       "    <tr>\n",
       "      <th>0</th>\n",
       "      <td>0</td>\n",
       "      <td>0</td>\n",
       "      <td>0</td>\n",
       "      <td>0</td>\n",
       "      <td>0</td>\n",
       "      <td>0</td>\n",
       "      <td>0</td>\n",
       "      <td>0</td>\n",
       "      <td>0</td>\n",
       "      <td>0</td>\n",
       "      <td>...</td>\n",
       "      <td>0</td>\n",
       "      <td>0</td>\n",
       "      <td>0</td>\n",
       "      <td>0</td>\n",
       "      <td>0</td>\n",
       "      <td>0</td>\n",
       "      <td>0</td>\n",
       "      <td>0</td>\n",
       "      <td>0</td>\n",
       "      <td>0</td>\n",
       "    </tr>\n",
       "    <tr>\n",
       "      <th>1</th>\n",
       "      <td>0</td>\n",
       "      <td>0</td>\n",
       "      <td>0</td>\n",
       "      <td>0</td>\n",
       "      <td>0</td>\n",
       "      <td>0</td>\n",
       "      <td>0</td>\n",
       "      <td>0</td>\n",
       "      <td>0</td>\n",
       "      <td>0</td>\n",
       "      <td>...</td>\n",
       "      <td>0</td>\n",
       "      <td>0</td>\n",
       "      <td>0</td>\n",
       "      <td>0</td>\n",
       "      <td>0</td>\n",
       "      <td>0</td>\n",
       "      <td>0</td>\n",
       "      <td>0</td>\n",
       "      <td>0</td>\n",
       "      <td>0</td>\n",
       "    </tr>\n",
       "    <tr>\n",
       "      <th>2</th>\n",
       "      <td>0</td>\n",
       "      <td>0</td>\n",
       "      <td>0</td>\n",
       "      <td>0</td>\n",
       "      <td>0</td>\n",
       "      <td>0</td>\n",
       "      <td>0</td>\n",
       "      <td>0</td>\n",
       "      <td>0</td>\n",
       "      <td>0</td>\n",
       "      <td>...</td>\n",
       "      <td>0</td>\n",
       "      <td>0</td>\n",
       "      <td>0</td>\n",
       "      <td>0</td>\n",
       "      <td>0</td>\n",
       "      <td>0</td>\n",
       "      <td>0</td>\n",
       "      <td>0</td>\n",
       "      <td>0</td>\n",
       "      <td>0</td>\n",
       "    </tr>\n",
       "    <tr>\n",
       "      <th>3</th>\n",
       "      <td>1</td>\n",
       "      <td>0</td>\n",
       "      <td>0</td>\n",
       "      <td>0</td>\n",
       "      <td>0</td>\n",
       "      <td>0</td>\n",
       "      <td>0</td>\n",
       "      <td>0</td>\n",
       "      <td>0</td>\n",
       "      <td>0</td>\n",
       "      <td>...</td>\n",
       "      <td>0</td>\n",
       "      <td>0</td>\n",
       "      <td>0</td>\n",
       "      <td>0</td>\n",
       "      <td>0</td>\n",
       "      <td>0</td>\n",
       "      <td>0</td>\n",
       "      <td>0</td>\n",
       "      <td>0</td>\n",
       "      <td>0</td>\n",
       "    </tr>\n",
       "    <tr>\n",
       "      <th>4</th>\n",
       "      <td>1</td>\n",
       "      <td>0</td>\n",
       "      <td>0</td>\n",
       "      <td>0</td>\n",
       "      <td>0</td>\n",
       "      <td>0</td>\n",
       "      <td>0</td>\n",
       "      <td>0</td>\n",
       "      <td>0</td>\n",
       "      <td>0</td>\n",
       "      <td>...</td>\n",
       "      <td>0</td>\n",
       "      <td>0</td>\n",
       "      <td>0</td>\n",
       "      <td>0</td>\n",
       "      <td>0</td>\n",
       "      <td>0</td>\n",
       "      <td>0</td>\n",
       "      <td>0</td>\n",
       "      <td>0</td>\n",
       "      <td>0</td>\n",
       "    </tr>\n",
       "  </tbody>\n",
       "</table>\n",
       "<p>5 rows × 21 columns</p>\n",
       "</div>"
      ],
      "text/plain": [
       "   audi  bmw  buick  chevrolet  dodge  honda  isuzu  jaguar  mazda  mercury  \\\n",
       "0     0    0      0          0      0      0      0       0      0        0   \n",
       "1     0    0      0          0      0      0      0       0      0        0   \n",
       "2     0    0      0          0      0      0      0       0      0        0   \n",
       "3     1    0      0          0      0      0      0       0      0        0   \n",
       "4     1    0      0          0      0      0      0       0      0        0   \n",
       "\n",
       "   ...    nissan  peugeot  plymouth  porsche  renault  saab  subaru  toyota  \\\n",
       "0  ...         0        0         0        0        0     0       0       0   \n",
       "1  ...         0        0         0        0        0     0       0       0   \n",
       "2  ...         0        0         0        0        0     0       0       0   \n",
       "3  ...         0        0         0        0        0     0       0       0   \n",
       "4  ...         0        0         0        0        0     0       0       0   \n",
       "\n",
       "   volkswagen  volvo  \n",
       "0           0      0  \n",
       "1           0      0  \n",
       "2           0      0  \n",
       "3           0      0  \n",
       "4           0      0  \n",
       "\n",
       "[5 rows x 21 columns]"
      ]
     },
     "execution_count": 91,
     "metadata": {},
     "output_type": "execute_result"
    }
   ],
   "source": [
    "# We do not need 22 columns we can remove the one column for ease as we need n-1 dummy \n",
    "# but we should iterate each dummy variable and then take the decision on which one to remove\n",
    "# For now let's remove the first and let's look what are the results\n",
    "# columns for n categorical values in a category column\n",
    "companyName = pd.get_dummies(carData['CompanyName'],drop_first = True)\n",
    "companyName.head()"
   ]
  },
  {
   "cell_type": "code",
   "execution_count": 92,
   "metadata": {},
   "outputs": [],
   "source": [
    "# Note for creating dummy variables n-1 will be created for n categories in a column because one can be determined whereever the\n",
    "# others are 0. Drop either the first column but it is better to drop the column or dummy variable that has lesser amount of data\n",
    "# or reiterate again if any dummy column really reduces the R-square then replace it with the dropped one"
   ]
  },
  {
   "cell_type": "code",
   "execution_count": 93,
   "metadata": {},
   "outputs": [
    {
     "data": {
      "text/html": [
       "<div>\n",
       "<style scoped>\n",
       "    .dataframe tbody tr th:only-of-type {\n",
       "        vertical-align: middle;\n",
       "    }\n",
       "\n",
       "    .dataframe tbody tr th {\n",
       "        vertical-align: top;\n",
       "    }\n",
       "\n",
       "    .dataframe thead th {\n",
       "        text-align: right;\n",
       "    }\n",
       "</style>\n",
       "<table border=\"1\" class=\"dataframe\">\n",
       "  <thead>\n",
       "    <tr style=\"text-align: right;\">\n",
       "      <th></th>\n",
       "      <th>hardtop</th>\n",
       "      <th>hatchback</th>\n",
       "      <th>sedan</th>\n",
       "      <th>wagon</th>\n",
       "    </tr>\n",
       "  </thead>\n",
       "  <tbody>\n",
       "    <tr>\n",
       "      <th>0</th>\n",
       "      <td>0</td>\n",
       "      <td>0</td>\n",
       "      <td>0</td>\n",
       "      <td>0</td>\n",
       "    </tr>\n",
       "    <tr>\n",
       "      <th>1</th>\n",
       "      <td>0</td>\n",
       "      <td>0</td>\n",
       "      <td>0</td>\n",
       "      <td>0</td>\n",
       "    </tr>\n",
       "    <tr>\n",
       "      <th>2</th>\n",
       "      <td>0</td>\n",
       "      <td>1</td>\n",
       "      <td>0</td>\n",
       "      <td>0</td>\n",
       "    </tr>\n",
       "    <tr>\n",
       "      <th>3</th>\n",
       "      <td>0</td>\n",
       "      <td>0</td>\n",
       "      <td>1</td>\n",
       "      <td>0</td>\n",
       "    </tr>\n",
       "    <tr>\n",
       "      <th>4</th>\n",
       "      <td>0</td>\n",
       "      <td>0</td>\n",
       "      <td>1</td>\n",
       "      <td>0</td>\n",
       "    </tr>\n",
       "  </tbody>\n",
       "</table>\n",
       "</div>"
      ],
      "text/plain": [
       "   hardtop  hatchback  sedan  wagon\n",
       "0        0          0      0      0\n",
       "1        0          0      0      0\n",
       "2        0          1      0      0\n",
       "3        0          0      1      0\n",
       "4        0          0      1      0"
      ]
     },
     "execution_count": 93,
     "metadata": {},
     "output_type": "execute_result"
    }
   ],
   "source": [
    "#create dummy variables for carbody\n",
    "carBody = pd.get_dummies(carData['carbody'],drop_first=True)\n",
    "carBody.head()"
   ]
  },
  {
   "cell_type": "code",
   "execution_count": 94,
   "metadata": {},
   "outputs": [
    {
     "data": {
      "text/html": [
       "<div>\n",
       "<style scoped>\n",
       "    .dataframe tbody tr th:only-of-type {\n",
       "        vertical-align: middle;\n",
       "    }\n",
       "\n",
       "    .dataframe tbody tr th {\n",
       "        vertical-align: top;\n",
       "    }\n",
       "\n",
       "    .dataframe thead th {\n",
       "        text-align: right;\n",
       "    }\n",
       "</style>\n",
       "<table border=\"1\" class=\"dataframe\">\n",
       "  <thead>\n",
       "    <tr style=\"text-align: right;\">\n",
       "      <th></th>\n",
       "      <th>fwd</th>\n",
       "      <th>rwd</th>\n",
       "    </tr>\n",
       "  </thead>\n",
       "  <tbody>\n",
       "    <tr>\n",
       "      <th>0</th>\n",
       "      <td>0</td>\n",
       "      <td>1</td>\n",
       "    </tr>\n",
       "    <tr>\n",
       "      <th>1</th>\n",
       "      <td>0</td>\n",
       "      <td>1</td>\n",
       "    </tr>\n",
       "    <tr>\n",
       "      <th>2</th>\n",
       "      <td>0</td>\n",
       "      <td>1</td>\n",
       "    </tr>\n",
       "    <tr>\n",
       "      <th>3</th>\n",
       "      <td>1</td>\n",
       "      <td>0</td>\n",
       "    </tr>\n",
       "    <tr>\n",
       "      <th>4</th>\n",
       "      <td>0</td>\n",
       "      <td>0</td>\n",
       "    </tr>\n",
       "  </tbody>\n",
       "</table>\n",
       "</div>"
      ],
      "text/plain": [
       "   fwd  rwd\n",
       "0    0    1\n",
       "1    0    1\n",
       "2    0    1\n",
       "3    1    0\n",
       "4    0    0"
      ]
     },
     "execution_count": 94,
     "metadata": {},
     "output_type": "execute_result"
    }
   ],
   "source": [
    "# Create dummy variables for drivewheel\n",
    "driveWheel = pd.get_dummies(carData['drivewheel'],drop_first=True)\n",
    "driveWheel.head()"
   ]
  },
  {
   "cell_type": "code",
   "execution_count": 95,
   "metadata": {},
   "outputs": [
    {
     "data": {
      "text/html": [
       "<div>\n",
       "<style scoped>\n",
       "    .dataframe tbody tr th:only-of-type {\n",
       "        vertical-align: middle;\n",
       "    }\n",
       "\n",
       "    .dataframe tbody tr th {\n",
       "        vertical-align: top;\n",
       "    }\n",
       "\n",
       "    .dataframe thead th {\n",
       "        text-align: right;\n",
       "    }\n",
       "</style>\n",
       "<table border=\"1\" class=\"dataframe\">\n",
       "  <thead>\n",
       "    <tr style=\"text-align: right;\">\n",
       "      <th></th>\n",
       "      <th>l</th>\n",
       "      <th>ohc</th>\n",
       "      <th>rotor</th>\n",
       "    </tr>\n",
       "  </thead>\n",
       "  <tbody>\n",
       "    <tr>\n",
       "      <th>0</th>\n",
       "      <td>0</td>\n",
       "      <td>0</td>\n",
       "      <td>0</td>\n",
       "    </tr>\n",
       "    <tr>\n",
       "      <th>1</th>\n",
       "      <td>0</td>\n",
       "      <td>0</td>\n",
       "      <td>0</td>\n",
       "    </tr>\n",
       "    <tr>\n",
       "      <th>2</th>\n",
       "      <td>0</td>\n",
       "      <td>1</td>\n",
       "      <td>0</td>\n",
       "    </tr>\n",
       "    <tr>\n",
       "      <th>3</th>\n",
       "      <td>0</td>\n",
       "      <td>1</td>\n",
       "      <td>0</td>\n",
       "    </tr>\n",
       "    <tr>\n",
       "      <th>4</th>\n",
       "      <td>0</td>\n",
       "      <td>1</td>\n",
       "      <td>0</td>\n",
       "    </tr>\n",
       "  </tbody>\n",
       "</table>\n",
       "</div>"
      ],
      "text/plain": [
       "   l  ohc  rotor\n",
       "0  0    0      0\n",
       "1  0    0      0\n",
       "2  0    1      0\n",
       "3  0    1      0\n",
       "4  0    1      0"
      ]
     },
     "execution_count": 95,
     "metadata": {},
     "output_type": "execute_result"
    }
   ],
   "source": [
    "# Create dummy variables for enginetype\n",
    "engineType = pd.get_dummies(carData['enginetype'],drop_first=True)\n",
    "engineType.head()"
   ]
  },
  {
   "cell_type": "code",
   "execution_count": 96,
   "metadata": {},
   "outputs": [
    {
     "data": {
      "text/html": [
       "<div>\n",
       "<style scoped>\n",
       "    .dataframe tbody tr th:only-of-type {\n",
       "        vertical-align: middle;\n",
       "    }\n",
       "\n",
       "    .dataframe tbody tr th {\n",
       "        vertical-align: top;\n",
       "    }\n",
       "\n",
       "    .dataframe thead th {\n",
       "        text-align: right;\n",
       "    }\n",
       "</style>\n",
       "<table border=\"1\" class=\"dataframe\">\n",
       "  <thead>\n",
       "    <tr style=\"text-align: right;\">\n",
       "      <th></th>\n",
       "      <th>2bbl</th>\n",
       "      <th>4bbl</th>\n",
       "      <th>idi</th>\n",
       "      <th>mfi</th>\n",
       "      <th>mpfi</th>\n",
       "      <th>spdi</th>\n",
       "      <th>spfi</th>\n",
       "    </tr>\n",
       "  </thead>\n",
       "  <tbody>\n",
       "    <tr>\n",
       "      <th>0</th>\n",
       "      <td>0</td>\n",
       "      <td>0</td>\n",
       "      <td>0</td>\n",
       "      <td>0</td>\n",
       "      <td>1</td>\n",
       "      <td>0</td>\n",
       "      <td>0</td>\n",
       "    </tr>\n",
       "    <tr>\n",
       "      <th>1</th>\n",
       "      <td>0</td>\n",
       "      <td>0</td>\n",
       "      <td>0</td>\n",
       "      <td>0</td>\n",
       "      <td>1</td>\n",
       "      <td>0</td>\n",
       "      <td>0</td>\n",
       "    </tr>\n",
       "    <tr>\n",
       "      <th>2</th>\n",
       "      <td>0</td>\n",
       "      <td>0</td>\n",
       "      <td>0</td>\n",
       "      <td>0</td>\n",
       "      <td>1</td>\n",
       "      <td>0</td>\n",
       "      <td>0</td>\n",
       "    </tr>\n",
       "    <tr>\n",
       "      <th>3</th>\n",
       "      <td>0</td>\n",
       "      <td>0</td>\n",
       "      <td>0</td>\n",
       "      <td>0</td>\n",
       "      <td>1</td>\n",
       "      <td>0</td>\n",
       "      <td>0</td>\n",
       "    </tr>\n",
       "    <tr>\n",
       "      <th>4</th>\n",
       "      <td>0</td>\n",
       "      <td>0</td>\n",
       "      <td>0</td>\n",
       "      <td>0</td>\n",
       "      <td>1</td>\n",
       "      <td>0</td>\n",
       "      <td>0</td>\n",
       "    </tr>\n",
       "  </tbody>\n",
       "</table>\n",
       "</div>"
      ],
      "text/plain": [
       "   2bbl  4bbl  idi  mfi  mpfi  spdi  spfi\n",
       "0     0     0    0    0     1     0     0\n",
       "1     0     0    0    0     1     0     0\n",
       "2     0     0    0    0     1     0     0\n",
       "3     0     0    0    0     1     0     0\n",
       "4     0     0    0    0     1     0     0"
      ]
     },
     "execution_count": 96,
     "metadata": {},
     "output_type": "execute_result"
    }
   ],
   "source": [
    "# Create dummy variables for fuelsystem\n",
    "fuelSystem = pd.get_dummies(carData['fuelsystem'],drop_first = True)\n",
    "fuelSystem.head()"
   ]
  },
  {
   "cell_type": "code",
   "execution_count": 97,
   "metadata": {},
   "outputs": [
    {
     "data": {
      "text/html": [
       "<div>\n",
       "<style scoped>\n",
       "    .dataframe tbody tr th:only-of-type {\n",
       "        vertical-align: middle;\n",
       "    }\n",
       "\n",
       "    .dataframe tbody tr th {\n",
       "        vertical-align: top;\n",
       "    }\n",
       "\n",
       "    .dataframe thead th {\n",
       "        text-align: right;\n",
       "    }\n",
       "</style>\n",
       "<table border=\"1\" class=\"dataframe\">\n",
       "  <thead>\n",
       "    <tr style=\"text-align: right;\">\n",
       "      <th></th>\n",
       "      <th>symboling</th>\n",
       "      <th>fueltype</th>\n",
       "      <th>aspiration</th>\n",
       "      <th>doornumber</th>\n",
       "      <th>enginelocation</th>\n",
       "      <th>wheelbase</th>\n",
       "      <th>carlength</th>\n",
       "      <th>carwidth</th>\n",
       "      <th>carheight</th>\n",
       "      <th>curbweight</th>\n",
       "      <th>...</th>\n",
       "      <th>l</th>\n",
       "      <th>ohc</th>\n",
       "      <th>rotor</th>\n",
       "      <th>2bbl</th>\n",
       "      <th>4bbl</th>\n",
       "      <th>idi</th>\n",
       "      <th>mfi</th>\n",
       "      <th>mpfi</th>\n",
       "      <th>spdi</th>\n",
       "      <th>spfi</th>\n",
       "    </tr>\n",
       "  </thead>\n",
       "  <tbody>\n",
       "    <tr>\n",
       "      <th>0</th>\n",
       "      <td>0</td>\n",
       "      <td>1</td>\n",
       "      <td>1</td>\n",
       "      <td>0</td>\n",
       "      <td>1</td>\n",
       "      <td>88.6</td>\n",
       "      <td>168.8</td>\n",
       "      <td>64.1</td>\n",
       "      <td>48.8</td>\n",
       "      <td>2548</td>\n",
       "      <td>...</td>\n",
       "      <td>0</td>\n",
       "      <td>0</td>\n",
       "      <td>0</td>\n",
       "      <td>0</td>\n",
       "      <td>0</td>\n",
       "      <td>0</td>\n",
       "      <td>0</td>\n",
       "      <td>1</td>\n",
       "      <td>0</td>\n",
       "      <td>0</td>\n",
       "    </tr>\n",
       "    <tr>\n",
       "      <th>1</th>\n",
       "      <td>0</td>\n",
       "      <td>1</td>\n",
       "      <td>1</td>\n",
       "      <td>0</td>\n",
       "      <td>1</td>\n",
       "      <td>88.6</td>\n",
       "      <td>168.8</td>\n",
       "      <td>64.1</td>\n",
       "      <td>48.8</td>\n",
       "      <td>2548</td>\n",
       "      <td>...</td>\n",
       "      <td>0</td>\n",
       "      <td>0</td>\n",
       "      <td>0</td>\n",
       "      <td>0</td>\n",
       "      <td>0</td>\n",
       "      <td>0</td>\n",
       "      <td>0</td>\n",
       "      <td>1</td>\n",
       "      <td>0</td>\n",
       "      <td>0</td>\n",
       "    </tr>\n",
       "    <tr>\n",
       "      <th>2</th>\n",
       "      <td>0</td>\n",
       "      <td>1</td>\n",
       "      <td>1</td>\n",
       "      <td>0</td>\n",
       "      <td>1</td>\n",
       "      <td>94.5</td>\n",
       "      <td>171.2</td>\n",
       "      <td>65.5</td>\n",
       "      <td>52.4</td>\n",
       "      <td>2823</td>\n",
       "      <td>...</td>\n",
       "      <td>0</td>\n",
       "      <td>1</td>\n",
       "      <td>0</td>\n",
       "      <td>0</td>\n",
       "      <td>0</td>\n",
       "      <td>0</td>\n",
       "      <td>0</td>\n",
       "      <td>1</td>\n",
       "      <td>0</td>\n",
       "      <td>0</td>\n",
       "    </tr>\n",
       "    <tr>\n",
       "      <th>3</th>\n",
       "      <td>0</td>\n",
       "      <td>1</td>\n",
       "      <td>1</td>\n",
       "      <td>1</td>\n",
       "      <td>1</td>\n",
       "      <td>99.8</td>\n",
       "      <td>176.6</td>\n",
       "      <td>66.2</td>\n",
       "      <td>54.3</td>\n",
       "      <td>2337</td>\n",
       "      <td>...</td>\n",
       "      <td>0</td>\n",
       "      <td>1</td>\n",
       "      <td>0</td>\n",
       "      <td>0</td>\n",
       "      <td>0</td>\n",
       "      <td>0</td>\n",
       "      <td>0</td>\n",
       "      <td>1</td>\n",
       "      <td>0</td>\n",
       "      <td>0</td>\n",
       "    </tr>\n",
       "    <tr>\n",
       "      <th>4</th>\n",
       "      <td>0</td>\n",
       "      <td>1</td>\n",
       "      <td>1</td>\n",
       "      <td>1</td>\n",
       "      <td>1</td>\n",
       "      <td>99.4</td>\n",
       "      <td>176.6</td>\n",
       "      <td>66.4</td>\n",
       "      <td>54.3</td>\n",
       "      <td>2824</td>\n",
       "      <td>...</td>\n",
       "      <td>0</td>\n",
       "      <td>1</td>\n",
       "      <td>0</td>\n",
       "      <td>0</td>\n",
       "      <td>0</td>\n",
       "      <td>0</td>\n",
       "      <td>0</td>\n",
       "      <td>1</td>\n",
       "      <td>0</td>\n",
       "      <td>0</td>\n",
       "    </tr>\n",
       "  </tbody>\n",
       "</table>\n",
       "<p>5 rows × 57 columns</p>\n",
       "</div>"
      ],
      "text/plain": [
       "   symboling  fueltype  aspiration  doornumber  enginelocation  wheelbase  \\\n",
       "0          0         1           1           0               1       88.6   \n",
       "1          0         1           1           0               1       88.6   \n",
       "2          0         1           1           0               1       94.5   \n",
       "3          0         1           1           1               1       99.8   \n",
       "4          0         1           1           1               1       99.4   \n",
       "\n",
       "   carlength  carwidth  carheight  curbweight  ...   l  ohc  rotor  2bbl  \\\n",
       "0      168.8      64.1       48.8        2548  ...   0    0      0     0   \n",
       "1      168.8      64.1       48.8        2548  ...   0    0      0     0   \n",
       "2      171.2      65.5       52.4        2823  ...   0    1      0     0   \n",
       "3      176.6      66.2       54.3        2337  ...   0    1      0     0   \n",
       "4      176.6      66.4       54.3        2824  ...   0    1      0     0   \n",
       "\n",
       "   4bbl  idi  mfi  mpfi  spdi  spfi  \n",
       "0     0    0    0     1     0     0  \n",
       "1     0    0    0     1     0     0  \n",
       "2     0    0    0     1     0     0  \n",
       "3     0    0    0     1     0     0  \n",
       "4     0    0    0     1     0     0  \n",
       "\n",
       "[5 rows x 57 columns]"
      ]
     },
     "execution_count": 97,
     "metadata": {},
     "output_type": "execute_result"
    }
   ],
   "source": [
    "# Adding the results to a new dataframe\n",
    "carDataWithDummy = pd.concat([carData,companyName,carBody,driveWheel,engineType,fuelSystem],axis=1)\n",
    "#Drop car_ID as it is not required for analysis\n",
    "carDataWithDummy.drop(['car_ID'],axis=1,inplace=True)\n",
    "# Drop the columns for which dummy variables are created from as these are not required anymore\n",
    "carDataWithDummy.drop(['CompanyName','carbody','drivewheel','enginetype','fuelsystem'],axis=1,inplace=True)\n",
    "carDataWithDummy.head()"
   ]
  },
  {
   "cell_type": "code",
   "execution_count": 98,
   "metadata": {},
   "outputs": [
    {
     "data": {
      "text/plain": [
       "Index(['symboling', 'fueltype', 'aspiration', 'doornumber', 'enginelocation',\n",
       "       'wheelbase', 'carlength', 'carwidth', 'carheight', 'curbweight',\n",
       "       'cylindernumber', 'enginesize', 'boreratio', 'stroke',\n",
       "       'compressionratio', 'horsepower', 'peakrpm', 'citympg', 'highwaympg',\n",
       "       'price', 'audi', 'bmw', 'buick', 'chevrolet', 'dodge', 'honda', 'isuzu',\n",
       "       'jaguar', 'mazda', 'mercury', 'mitsubishi', 'nissan', 'peugeot',\n",
       "       'plymouth', 'porsche', 'renault', 'saab', 'subaru', 'toyota',\n",
       "       'volkswagen', 'volvo', 'carbodyhardtop', 'carbodyhatchback',\n",
       "       'carbodysedan', 'carbodywagon', 'drivewheelfwd', 'drivewheelrwd',\n",
       "       'enginetypel', 'enginetypeohc', 'enginetyperotor', 'fuelsystem2bbl',\n",
       "       'fuelsystem4bbl', 'fuelsystemidi', 'fuelsystemmfi', 'fuelsystemmpfi',\n",
       "       'fuelsystemspdi', 'fuelsystemspfi'],\n",
       "      dtype='object')"
      ]
     },
     "execution_count": 98,
     "metadata": {},
     "output_type": "execute_result"
    }
   ],
   "source": [
    "#Rename the new dummy columns and concatenate the names with the original column name to determine the feature to which dummy feature belongs\n",
    "carDataWithDummy.rename(index=str,columns={'2bbl':'fuelsystem2bbl','4bbl':'fuelsystem4bbl','idi':'fuelsystemidi','mfi':'fuelsystemmfi','mpfi':'fuelsystemmpfi','spdi':'fuelsystemspdi','spfi':'fuelsystemspfi'},inplace=True)\n",
    "carDataWithDummy.rename(index=str,columns={'l':'enginetypel','ohc':'enginetypeohc','rotor':'enginetyperotor'},inplace=True)\n",
    "carDataWithDummy.rename(index=str,columns={'fwd':'drivewheelfwd','rwd':'drivewheelrwd'},inplace=True)\n",
    "carDataWithDummy.rename(index=str,columns={'hardtop':'carbodyhardtop','hatchback':'carbodyhatchback','sedan':'carbodysedan','wagon':'carbodywagon'},inplace=True)\n",
    "carDataWithDummy.columns"
   ]
  },
  {
   "cell_type": "code",
   "execution_count": 99,
   "metadata": {},
   "outputs": [
    {
     "data": {
      "text/html": [
       "<div>\n",
       "<style scoped>\n",
       "    .dataframe tbody tr th:only-of-type {\n",
       "        vertical-align: middle;\n",
       "    }\n",
       "\n",
       "    .dataframe tbody tr th {\n",
       "        vertical-align: top;\n",
       "    }\n",
       "\n",
       "    .dataframe thead th {\n",
       "        text-align: right;\n",
       "    }\n",
       "</style>\n",
       "<table border=\"1\" class=\"dataframe\">\n",
       "  <thead>\n",
       "    <tr style=\"text-align: right;\">\n",
       "      <th></th>\n",
       "      <th>symboling</th>\n",
       "      <th>fueltype</th>\n",
       "      <th>aspiration</th>\n",
       "      <th>doornumber</th>\n",
       "      <th>enginelocation</th>\n",
       "      <th>wheelbase</th>\n",
       "      <th>carlength</th>\n",
       "      <th>carwidth</th>\n",
       "      <th>carheight</th>\n",
       "      <th>curbweight</th>\n",
       "      <th>...</th>\n",
       "      <th>enginetypel</th>\n",
       "      <th>enginetypeohc</th>\n",
       "      <th>enginetyperotor</th>\n",
       "      <th>fuelsystem2bbl</th>\n",
       "      <th>fuelsystem4bbl</th>\n",
       "      <th>fuelsystemidi</th>\n",
       "      <th>fuelsystemmfi</th>\n",
       "      <th>fuelsystemmpfi</th>\n",
       "      <th>fuelsystemspdi</th>\n",
       "      <th>fuelsystemspfi</th>\n",
       "    </tr>\n",
       "  </thead>\n",
       "  <tbody>\n",
       "    <tr>\n",
       "      <th>0</th>\n",
       "      <td>0</td>\n",
       "      <td>1</td>\n",
       "      <td>1</td>\n",
       "      <td>0</td>\n",
       "      <td>1</td>\n",
       "      <td>88.6</td>\n",
       "      <td>168.8</td>\n",
       "      <td>64.1</td>\n",
       "      <td>48.8</td>\n",
       "      <td>2548</td>\n",
       "      <td>...</td>\n",
       "      <td>0</td>\n",
       "      <td>0</td>\n",
       "      <td>0</td>\n",
       "      <td>0</td>\n",
       "      <td>0</td>\n",
       "      <td>0</td>\n",
       "      <td>0</td>\n",
       "      <td>1</td>\n",
       "      <td>0</td>\n",
       "      <td>0</td>\n",
       "    </tr>\n",
       "    <tr>\n",
       "      <th>1</th>\n",
       "      <td>0</td>\n",
       "      <td>1</td>\n",
       "      <td>1</td>\n",
       "      <td>0</td>\n",
       "      <td>1</td>\n",
       "      <td>88.6</td>\n",
       "      <td>168.8</td>\n",
       "      <td>64.1</td>\n",
       "      <td>48.8</td>\n",
       "      <td>2548</td>\n",
       "      <td>...</td>\n",
       "      <td>0</td>\n",
       "      <td>0</td>\n",
       "      <td>0</td>\n",
       "      <td>0</td>\n",
       "      <td>0</td>\n",
       "      <td>0</td>\n",
       "      <td>0</td>\n",
       "      <td>1</td>\n",
       "      <td>0</td>\n",
       "      <td>0</td>\n",
       "    </tr>\n",
       "    <tr>\n",
       "      <th>2</th>\n",
       "      <td>0</td>\n",
       "      <td>1</td>\n",
       "      <td>1</td>\n",
       "      <td>0</td>\n",
       "      <td>1</td>\n",
       "      <td>94.5</td>\n",
       "      <td>171.2</td>\n",
       "      <td>65.5</td>\n",
       "      <td>52.4</td>\n",
       "      <td>2823</td>\n",
       "      <td>...</td>\n",
       "      <td>0</td>\n",
       "      <td>1</td>\n",
       "      <td>0</td>\n",
       "      <td>0</td>\n",
       "      <td>0</td>\n",
       "      <td>0</td>\n",
       "      <td>0</td>\n",
       "      <td>1</td>\n",
       "      <td>0</td>\n",
       "      <td>0</td>\n",
       "    </tr>\n",
       "    <tr>\n",
       "      <th>3</th>\n",
       "      <td>0</td>\n",
       "      <td>1</td>\n",
       "      <td>1</td>\n",
       "      <td>1</td>\n",
       "      <td>1</td>\n",
       "      <td>99.8</td>\n",
       "      <td>176.6</td>\n",
       "      <td>66.2</td>\n",
       "      <td>54.3</td>\n",
       "      <td>2337</td>\n",
       "      <td>...</td>\n",
       "      <td>0</td>\n",
       "      <td>1</td>\n",
       "      <td>0</td>\n",
       "      <td>0</td>\n",
       "      <td>0</td>\n",
       "      <td>0</td>\n",
       "      <td>0</td>\n",
       "      <td>1</td>\n",
       "      <td>0</td>\n",
       "      <td>0</td>\n",
       "    </tr>\n",
       "    <tr>\n",
       "      <th>4</th>\n",
       "      <td>0</td>\n",
       "      <td>1</td>\n",
       "      <td>1</td>\n",
       "      <td>1</td>\n",
       "      <td>1</td>\n",
       "      <td>99.4</td>\n",
       "      <td>176.6</td>\n",
       "      <td>66.4</td>\n",
       "      <td>54.3</td>\n",
       "      <td>2824</td>\n",
       "      <td>...</td>\n",
       "      <td>0</td>\n",
       "      <td>1</td>\n",
       "      <td>0</td>\n",
       "      <td>0</td>\n",
       "      <td>0</td>\n",
       "      <td>0</td>\n",
       "      <td>0</td>\n",
       "      <td>1</td>\n",
       "      <td>0</td>\n",
       "      <td>0</td>\n",
       "    </tr>\n",
       "  </tbody>\n",
       "</table>\n",
       "<p>5 rows × 57 columns</p>\n",
       "</div>"
      ],
      "text/plain": [
       "   symboling  fueltype  aspiration  doornumber  enginelocation  wheelbase  \\\n",
       "0          0         1           1           0               1       88.6   \n",
       "1          0         1           1           0               1       88.6   \n",
       "2          0         1           1           0               1       94.5   \n",
       "3          0         1           1           1               1       99.8   \n",
       "4          0         1           1           1               1       99.4   \n",
       "\n",
       "   carlength  carwidth  carheight  curbweight       ...        enginetypel  \\\n",
       "0      168.8      64.1       48.8        2548       ...                  0   \n",
       "1      168.8      64.1       48.8        2548       ...                  0   \n",
       "2      171.2      65.5       52.4        2823       ...                  0   \n",
       "3      176.6      66.2       54.3        2337       ...                  0   \n",
       "4      176.6      66.4       54.3        2824       ...                  0   \n",
       "\n",
       "   enginetypeohc  enginetyperotor  fuelsystem2bbl  fuelsystem4bbl  \\\n",
       "0              0                0               0               0   \n",
       "1              0                0               0               0   \n",
       "2              1                0               0               0   \n",
       "3              1                0               0               0   \n",
       "4              1                0               0               0   \n",
       "\n",
       "   fuelsystemidi  fuelsystemmfi  fuelsystemmpfi  fuelsystemspdi  \\\n",
       "0              0              0               1               0   \n",
       "1              0              0               1               0   \n",
       "2              0              0               1               0   \n",
       "3              0              0               1               0   \n",
       "4              0              0               1               0   \n",
       "\n",
       "   fuelsystemspfi  \n",
       "0               0  \n",
       "1               0  \n",
       "2               0  \n",
       "3               0  \n",
       "4               0  \n",
       "\n",
       "[5 rows x 57 columns]"
      ]
     },
     "execution_count": 99,
     "metadata": {},
     "output_type": "execute_result"
    }
   ],
   "source": [
    "carDataWithDummy.head()"
   ]
  },
  {
   "cell_type": "code",
   "execution_count": 100,
   "metadata": {},
   "outputs": [],
   "source": [
    "# How did we reach to 57 variables:\n",
    "# initially there were 26 \n",
    "# splitted carname into two which created 27 then removed the carname and kept only carmodel - left with 26\n",
    "# 5 variables used to create dummy variables and then original variables were removed - added dummy variables (21+4+2+3+7-5) = 32 -> total 26 + 32 =  58\n",
    "# remove car_id as it is a key and not required in the analysis -> left 57"
   ]
  },
  {
   "cell_type": "code",
   "execution_count": 101,
   "metadata": {},
   "outputs": [],
   "source": [
    "# Outlierfree dataframe\n",
    "carDataOutliersFree = carDataWithDummy\n",
    "carDataOutliersFree = carDataOutliersFree.drop(carDataOutliersFree.index[203])\n",
    "carDataOutliersFree = carDataOutliersFree.drop(carDataOutliersFree.index[192])\n",
    "carDataOutliersFree = carDataOutliersFree.drop(carDataOutliersFree.index[187])\n",
    "carDataOutliersFree = carDataOutliersFree.drop(carDataOutliersFree.index[184])\n",
    "carDataOutliersFree = carDataOutliersFree.drop(carDataOutliersFree.index[182])\n",
    "carDataOutliersFree = carDataOutliersFree.drop(carDataOutliersFree.index[174])\n",
    "carDataOutliersFree = carDataOutliersFree.drop(carDataOutliersFree.index[166])\n",
    "carDataOutliersFree = carDataOutliersFree.drop(carDataOutliersFree.index[165])\n",
    "carDataOutliersFree = carDataOutliersFree.drop(carDataOutliersFree.index[159])\n",
    "carDataOutliersFree = carDataOutliersFree.drop(carDataOutliersFree.index[158])\n",
    "carDataOutliersFree = carDataOutliersFree.drop(carDataOutliersFree.index[149])\n",
    "carDataOutliersFree = carDataOutliersFree.drop(carDataOutliersFree.index[148])\n",
    "carDataOutliersFree = carDataOutliersFree.drop(carDataOutliersFree.index[147])\n",
    "carDataOutliersFree = carDataOutliersFree.drop(carDataOutliersFree.index[146])\n",
    "carDataOutliersFree = carDataOutliersFree.drop(carDataOutliersFree.index[145])\n",
    "carDataOutliersFree = carDataOutliersFree.drop(carDataOutliersFree.index[144])\n",
    "carDataOutliersFree = carDataOutliersFree.drop(carDataOutliersFree.index[143])\n",
    "carDataOutliersFree = carDataOutliersFree.drop(carDataOutliersFree.index[142])\n",
    "carDataOutliersFree = carDataOutliersFree.drop(carDataOutliersFree.index[141])\n",
    "carDataOutliersFree = carDataOutliersFree.drop(carDataOutliersFree.index[140])\n",
    "carDataOutliersFree = carDataOutliersFree.drop(carDataOutliersFree.index[139])\n",
    "carDataOutliersFree = carDataOutliersFree.drop(carDataOutliersFree.index[138])\n",
    "carDataOutliersFree = carDataOutliersFree.drop(carDataOutliersFree.index[134])\n",
    "carDataOutliersFree = carDataOutliersFree.drop(carDataOutliersFree.index[131])\n",
    "carDataOutliersFree = carDataOutliersFree.drop(carDataOutliersFree.index[130])\n",
    "carDataOutliersFree = carDataOutliersFree.drop(carDataOutliersFree.index[129])\n",
    "carDataOutliersFree = carDataOutliersFree.drop(carDataOutliersFree.index[128])\n",
    "carDataOutliersFree = carDataOutliersFree.drop(carDataOutliersFree.index[127])\n",
    "carDataOutliersFree = carDataOutliersFree.drop(carDataOutliersFree.index[126])\n",
    "carDataOutliersFree = carDataOutliersFree.drop(carDataOutliersFree.index[124])\n",
    "carDataOutliersFree = carDataOutliersFree.drop(carDataOutliersFree.index[117])\n",
    "carDataOutliersFree = carDataOutliersFree.drop(carDataOutliersFree.index[116])\n",
    "carDataOutliersFree = carDataOutliersFree.drop(carDataOutliersFree.index[114])\n",
    "carDataOutliersFree = carDataOutliersFree.drop(carDataOutliersFree.index[112])\n",
    "carDataOutliersFree = carDataOutliersFree.drop(carDataOutliersFree.index[113])\n",
    "carDataOutliersFree = carDataOutliersFree.drop(carDataOutliersFree.index[111])\n",
    "carDataOutliersFree = carDataOutliersFree.drop(carDataOutliersFree.index[110])\n",
    "carDataOutliersFree = carDataOutliersFree.drop(carDataOutliersFree.index[108])\n",
    "carDataOutliersFree = carDataOutliersFree.drop(carDataOutliersFree.index[105])\n",
    "carDataOutliersFree = carDataOutliersFree.drop(carDataOutliersFree.index[90])\n",
    "carDataOutliersFree = carDataOutliersFree.drop(carDataOutliersFree.index[84])\n",
    "carDataOutliersFree = carDataOutliersFree.drop(carDataOutliersFree.index[83])\n",
    "carDataOutliersFree = carDataOutliersFree.drop(carDataOutliersFree.index[82])\n",
    "carDataOutliersFree = carDataOutliersFree.drop(carDataOutliersFree.index[74])\n",
    "carDataOutliersFree = carDataOutliersFree.drop(carDataOutliersFree.index[73])\n",
    "carDataOutliersFree = carDataOutliersFree.drop(carDataOutliersFree.index[72])\n",
    "carDataOutliersFree = carDataOutliersFree.drop(carDataOutliersFree.index[71])\n",
    "carDataOutliersFree = carDataOutliersFree.drop(carDataOutliersFree.index[70])\n",
    "carDataOutliersFree = carDataOutliersFree.drop(carDataOutliersFree.index[69])\n",
    "carDataOutliersFree = carDataOutliersFree.drop(carDataOutliersFree.index[68])\n",
    "carDataOutliersFree = carDataOutliersFree.drop(carDataOutliersFree.index[67])\n",
    "carDataOutliersFree = carDataOutliersFree.drop(carDataOutliersFree.index[66])\n",
    "carDataOutliersFree = carDataOutliersFree.drop(carDataOutliersFree.index[63])\n",
    "carDataOutliersFree = carDataOutliersFree.drop(carDataOutliersFree.index[49])\n",
    "carDataOutliersFree = carDataOutliersFree.drop(carDataOutliersFree.index[48])\n",
    "carDataOutliersFree = carDataOutliersFree.drop(carDataOutliersFree.index[47])\n",
    "carDataOutliersFree = carDataOutliersFree.drop(carDataOutliersFree.index[30])\n",
    "carDataOutliersFree = carDataOutliersFree.drop(carDataOutliersFree.index[29])\n",
    "carDataOutliersFree = carDataOutliersFree.drop(carDataOutliersFree.index[18])\n",
    "carDataOutliersFree = carDataOutliersFree.drop(carDataOutliersFree.index[17])\n",
    "carDataOutliersFree = carDataOutliersFree.drop(carDataOutliersFree.index[16])\n",
    "carDataOutliersFree = carDataOutliersFree.drop(carDataOutliersFree.index[15])\n",
    "carDataOutliersFree = carDataOutliersFree.drop(carDataOutliersFree.index[9])\n",
    "carDataOutliersFree = carDataOutliersFree.drop(carDataOutliersFree.index[8])\n",
    "carDataOutliersFree = carDataOutliersFree.drop(carDataOutliersFree.index[7])\n",
    "carDataOutliersFree = carDataOutliersFree.drop(carDataOutliersFree.index[6])"
   ]
  },
  {
   "cell_type": "code",
   "execution_count": 102,
   "metadata": {},
   "outputs": [
    {
     "data": {
      "text/plain": [
       "(139, 57)"
      ]
     },
     "execution_count": 102,
     "metadata": {},
     "output_type": "execute_result"
    }
   ],
   "source": [
    "carDataOutliersFree.shape"
   ]
  },
  {
   "cell_type": "markdown",
   "metadata": {},
   "source": [
    "# start with the dataframe that has outliers\n",
    "WILL CREATE MODEL WITHOUT OUTLIER ALSO"
   ]
  },
  {
   "cell_type": "code",
   "execution_count": 103,
   "metadata": {},
   "outputs": [],
   "source": [
    "# Let us start with creating models\n",
    "# Split the data into training and testing data\n",
    "# Putting feature variable to X\n",
    "X = carDataWithDummy[['symboling', 'fueltype', 'aspiration', 'doornumber',\n",
    "       'enginelocation', 'wheelbase', 'carlength', 'carwidth', 'carheight',\n",
    "       'curbweight', 'cylindernumber', 'enginesize', 'boreratio', 'stroke',\n",
    "       'compressionratio', 'horsepower', 'peakrpm', 'citympg', 'highwaympg',\n",
    "       'audi', 'bmw', 'buick', 'chevrolet', 'dodge', 'honda', 'isuzu',\n",
    "       'jaguar', 'mazda', 'mercury', 'mitsubishi', 'nissan', 'peugeot',\n",
    "       'plymouth', 'porsche', 'renault', 'saab', 'subaru', 'toyota',\n",
    "       'volkswagen', 'volvo', 'carbodyhardtop', 'carbodyhatchback', 'carbodysedan', 'carbodywagon', 'drivewheelfwd',\n",
    "       'drivewheelrwd', 'enginetypel', 'enginetypeohc', 'enginetyperotor', 'fuelsystem2bbl', 'fuelsystem4bbl',\n",
    "       'fuelsystemidi', 'fuelsystemmfi', 'fuelsystemmpfi', 'fuelsystemspdi', 'fuelsystemspfi']]\n",
    "\n",
    "# Putting response variable to y\n",
    "y = carDataWithDummy['price']"
   ]
  },
  {
   "cell_type": "code",
   "execution_count": 104,
   "metadata": {},
   "outputs": [
    {
     "data": {
      "text/html": [
       "<div>\n",
       "<style scoped>\n",
       "    .dataframe tbody tr th:only-of-type {\n",
       "        vertical-align: middle;\n",
       "    }\n",
       "\n",
       "    .dataframe tbody tr th {\n",
       "        vertical-align: top;\n",
       "    }\n",
       "\n",
       "    .dataframe thead th {\n",
       "        text-align: right;\n",
       "    }\n",
       "</style>\n",
       "<table border=\"1\" class=\"dataframe\">\n",
       "  <thead>\n",
       "    <tr style=\"text-align: right;\">\n",
       "      <th></th>\n",
       "      <th>symboling</th>\n",
       "      <th>fueltype</th>\n",
       "      <th>aspiration</th>\n",
       "      <th>doornumber</th>\n",
       "      <th>enginelocation</th>\n",
       "      <th>wheelbase</th>\n",
       "      <th>carlength</th>\n",
       "      <th>carwidth</th>\n",
       "      <th>carheight</th>\n",
       "      <th>curbweight</th>\n",
       "      <th>...</th>\n",
       "      <th>enginetypel</th>\n",
       "      <th>enginetypeohc</th>\n",
       "      <th>enginetyperotor</th>\n",
       "      <th>fuelsystem2bbl</th>\n",
       "      <th>fuelsystem4bbl</th>\n",
       "      <th>fuelsystemidi</th>\n",
       "      <th>fuelsystemmfi</th>\n",
       "      <th>fuelsystemmpfi</th>\n",
       "      <th>fuelsystemspdi</th>\n",
       "      <th>fuelsystemspfi</th>\n",
       "    </tr>\n",
       "  </thead>\n",
       "  <tbody>\n",
       "    <tr>\n",
       "      <th>0</th>\n",
       "      <td>0</td>\n",
       "      <td>1</td>\n",
       "      <td>1</td>\n",
       "      <td>0</td>\n",
       "      <td>1</td>\n",
       "      <td>88.6</td>\n",
       "      <td>168.8</td>\n",
       "      <td>64.1</td>\n",
       "      <td>48.8</td>\n",
       "      <td>2548</td>\n",
       "      <td>...</td>\n",
       "      <td>0</td>\n",
       "      <td>0</td>\n",
       "      <td>0</td>\n",
       "      <td>0</td>\n",
       "      <td>0</td>\n",
       "      <td>0</td>\n",
       "      <td>0</td>\n",
       "      <td>1</td>\n",
       "      <td>0</td>\n",
       "      <td>0</td>\n",
       "    </tr>\n",
       "    <tr>\n",
       "      <th>1</th>\n",
       "      <td>0</td>\n",
       "      <td>1</td>\n",
       "      <td>1</td>\n",
       "      <td>0</td>\n",
       "      <td>1</td>\n",
       "      <td>88.6</td>\n",
       "      <td>168.8</td>\n",
       "      <td>64.1</td>\n",
       "      <td>48.8</td>\n",
       "      <td>2548</td>\n",
       "      <td>...</td>\n",
       "      <td>0</td>\n",
       "      <td>0</td>\n",
       "      <td>0</td>\n",
       "      <td>0</td>\n",
       "      <td>0</td>\n",
       "      <td>0</td>\n",
       "      <td>0</td>\n",
       "      <td>1</td>\n",
       "      <td>0</td>\n",
       "      <td>0</td>\n",
       "    </tr>\n",
       "    <tr>\n",
       "      <th>2</th>\n",
       "      <td>0</td>\n",
       "      <td>1</td>\n",
       "      <td>1</td>\n",
       "      <td>0</td>\n",
       "      <td>1</td>\n",
       "      <td>94.5</td>\n",
       "      <td>171.2</td>\n",
       "      <td>65.5</td>\n",
       "      <td>52.4</td>\n",
       "      <td>2823</td>\n",
       "      <td>...</td>\n",
       "      <td>0</td>\n",
       "      <td>1</td>\n",
       "      <td>0</td>\n",
       "      <td>0</td>\n",
       "      <td>0</td>\n",
       "      <td>0</td>\n",
       "      <td>0</td>\n",
       "      <td>1</td>\n",
       "      <td>0</td>\n",
       "      <td>0</td>\n",
       "    </tr>\n",
       "    <tr>\n",
       "      <th>3</th>\n",
       "      <td>0</td>\n",
       "      <td>1</td>\n",
       "      <td>1</td>\n",
       "      <td>1</td>\n",
       "      <td>1</td>\n",
       "      <td>99.8</td>\n",
       "      <td>176.6</td>\n",
       "      <td>66.2</td>\n",
       "      <td>54.3</td>\n",
       "      <td>2337</td>\n",
       "      <td>...</td>\n",
       "      <td>0</td>\n",
       "      <td>1</td>\n",
       "      <td>0</td>\n",
       "      <td>0</td>\n",
       "      <td>0</td>\n",
       "      <td>0</td>\n",
       "      <td>0</td>\n",
       "      <td>1</td>\n",
       "      <td>0</td>\n",
       "      <td>0</td>\n",
       "    </tr>\n",
       "    <tr>\n",
       "      <th>4</th>\n",
       "      <td>0</td>\n",
       "      <td>1</td>\n",
       "      <td>1</td>\n",
       "      <td>1</td>\n",
       "      <td>1</td>\n",
       "      <td>99.4</td>\n",
       "      <td>176.6</td>\n",
       "      <td>66.4</td>\n",
       "      <td>54.3</td>\n",
       "      <td>2824</td>\n",
       "      <td>...</td>\n",
       "      <td>0</td>\n",
       "      <td>1</td>\n",
       "      <td>0</td>\n",
       "      <td>0</td>\n",
       "      <td>0</td>\n",
       "      <td>0</td>\n",
       "      <td>0</td>\n",
       "      <td>1</td>\n",
       "      <td>0</td>\n",
       "      <td>0</td>\n",
       "    </tr>\n",
       "  </tbody>\n",
       "</table>\n",
       "<p>5 rows × 56 columns</p>\n",
       "</div>"
      ],
      "text/plain": [
       "   symboling  fueltype  aspiration  doornumber  enginelocation  wheelbase  \\\n",
       "0          0         1           1           0               1       88.6   \n",
       "1          0         1           1           0               1       88.6   \n",
       "2          0         1           1           0               1       94.5   \n",
       "3          0         1           1           1               1       99.8   \n",
       "4          0         1           1           1               1       99.4   \n",
       "\n",
       "   carlength  carwidth  carheight  curbweight       ...        enginetypel  \\\n",
       "0      168.8      64.1       48.8        2548       ...                  0   \n",
       "1      168.8      64.1       48.8        2548       ...                  0   \n",
       "2      171.2      65.5       52.4        2823       ...                  0   \n",
       "3      176.6      66.2       54.3        2337       ...                  0   \n",
       "4      176.6      66.4       54.3        2824       ...                  0   \n",
       "\n",
       "   enginetypeohc  enginetyperotor  fuelsystem2bbl  fuelsystem4bbl  \\\n",
       "0              0                0               0               0   \n",
       "1              0                0               0               0   \n",
       "2              1                0               0               0   \n",
       "3              1                0               0               0   \n",
       "4              1                0               0               0   \n",
       "\n",
       "   fuelsystemidi  fuelsystemmfi  fuelsystemmpfi  fuelsystemspdi  \\\n",
       "0              0              0               1               0   \n",
       "1              0              0               1               0   \n",
       "2              0              0               1               0   \n",
       "3              0              0               1               0   \n",
       "4              0              0               1               0   \n",
       "\n",
       "   fuelsystemspfi  \n",
       "0               0  \n",
       "1               0  \n",
       "2               0  \n",
       "3               0  \n",
       "4               0  \n",
       "\n",
       "[5 rows x 56 columns]"
      ]
     },
     "execution_count": 104,
     "metadata": {},
     "output_type": "execute_result"
    }
   ],
   "source": [
    "X.head(5)"
   ]
  },
  {
   "cell_type": "code",
   "execution_count": 105,
   "metadata": {},
   "outputs": [
    {
     "name": "stderr",
     "output_type": "stream",
     "text": [
      "C:\\Users\\I310541\\AppData\\Local\\Continuum\\anaconda3\\lib\\site-packages\\sklearn\\cross_validation.py:41: DeprecationWarning: This module was deprecated in version 0.18 in favor of the model_selection module into which all the refactored classes and functions are moved. Also note that the interface of the new CV iterators are different from that of this module. This module will be removed in 0.20.\n",
      "  \"This module will be removed in 0.20.\", DeprecationWarning)\n"
     ]
    }
   ],
   "source": [
    "#random_state is used by the random number generator, it can be any integer\n",
    "from sklearn.cross_validation import train_test_split\n",
    "X_train, X_test, y_train, y_test = train_test_split(X, y, train_size=0.7 ,test_size = 0.3, random_state=4)"
   ]
  },
  {
   "cell_type": "code",
   "execution_count": 106,
   "metadata": {},
   "outputs": [],
   "source": [
    "#BUILDING A LINEAR MODEL"
   ]
  },
  {
   "cell_type": "code",
   "execution_count": 107,
   "metadata": {},
   "outputs": [
    {
     "name": "stderr",
     "output_type": "stream",
     "text": [
      "C:\\Users\\I310541\\AppData\\Local\\Continuum\\anaconda3\\lib\\site-packages\\statsmodels\\compat\\pandas.py:56: FutureWarning: The pandas.core.datetools module is deprecated and will be removed in a future version. Please use the pandas.tseries module instead.\n",
      "  from pandas.core import datetools\n"
     ]
    }
   ],
   "source": [
    "import statsmodels.api as sm          # Importing statsmodels\n",
    "#X_train = sm.add_constant(X_train)    # Adding a constant column to our dataframe\n",
    "lm_1 = sm.OLS(y_train,X_train).fit()"
   ]
  },
  {
   "cell_type": "code",
   "execution_count": 108,
   "metadata": {},
   "outputs": [
    {
     "data": {
      "text/plain": [
       "(143, 56)"
      ]
     },
     "execution_count": 108,
     "metadata": {},
     "output_type": "execute_result"
    }
   ],
   "source": [
    "X_train.shape"
   ]
  },
  {
   "cell_type": "code",
   "execution_count": 109,
   "metadata": {},
   "outputs": [
    {
     "name": "stdout",
     "output_type": "stream",
     "text": [
      "                            OLS Regression Results                            \n",
      "==============================================================================\n",
      "Dep. Variable:                  price   R-squared:                       0.977\n",
      "Model:                            OLS   Adj. R-squared:                  0.963\n",
      "Method:                 Least Squares   F-statistic:                     70.89\n",
      "Date:                Sun, 24 Jun 2018   Prob (F-statistic):           7.80e-55\n",
      "Time:                        17:06:15   Log-Likelihood:                -1218.6\n",
      "No. Observations:                 143   AIC:                             2545.\n",
      "Df Residuals:                      89   BIC:                             2705.\n",
      "Df Model:                          53                                         \n",
      "Covariance Type:            nonrobust                                         \n",
      "====================================================================================\n",
      "                       coef    std err          t      P>|t|      [0.025      0.975]\n",
      "------------------------------------------------------------------------------------\n",
      "symboling          -85.1705    596.853     -0.143      0.887   -1271.105    1100.764\n",
      "fueltype         -1.863e+04    1.5e+04     -1.244      0.217   -4.84e+04    1.11e+04\n",
      "aspiration        -925.7341   1006.946     -0.919      0.360   -2926.514    1075.046\n",
      "doornumber        1254.8868    577.658      2.172      0.032     107.092    2402.682\n",
      "enginelocation   -1.104e+04   2312.776     -4.775      0.000   -1.56e+04   -6447.011\n",
      "wheelbase          345.0554     90.378      3.818      0.000     165.476     524.635\n",
      "carlength         -133.0760     52.800     -2.520      0.014    -237.988     -28.164\n",
      "carwidth           729.6186    225.241      3.239      0.002     282.069    1177.169\n",
      "carheight         -169.7590    143.515     -1.183      0.240    -454.920     115.402\n",
      "curbweight           5.2292      1.614      3.240      0.002       2.022       8.436\n",
      "cylindernumber   -5329.0636   1222.397     -4.360      0.000   -7757.940   -2900.187\n",
      "enginesize         120.2295     18.487      6.504      0.000      83.497     156.962\n",
      "boreratio        -9267.2975   1998.638     -4.637      0.000   -1.32e+04   -5296.045\n",
      "stroke           -1626.4122   1477.128     -1.101      0.274   -4561.433    1308.609\n",
      "compressionratio -1222.9489    506.079     -2.417      0.018   -2228.516    -217.381\n",
      "horsepower           2.4248     21.264      0.114      0.909     -39.826      44.676\n",
      "peakrpm              1.7285      0.695      2.486      0.015       0.347       3.110\n",
      "citympg             81.5618    153.291      0.532      0.596    -223.025     386.148\n",
      "highwaympg          38.3850    127.493      0.301      0.764    -214.940     291.710\n",
      "audi              6522.0838   3005.944      2.170      0.033     549.337    1.25e+04\n",
      "bmw               1.065e+04   2867.466      3.716      0.000    4957.020    1.64e+04\n",
      "buick             6115.4451   2854.303      2.143      0.035     444.006    1.18e+04\n",
      "chevrolet         -647.3619   3366.339     -0.192      0.848   -7336.206    6041.482\n",
      "dodge            -1054.2814   2965.777     -0.355      0.723   -6947.217    4838.654\n",
      "honda             2610.5639   3266.749      0.799      0.426   -3880.398    9101.525\n",
      "isuzu             1399.5178   2983.938      0.469      0.640   -4529.503    7328.539\n",
      "jaguar             833.0541   4339.239      0.192      0.848   -7788.921    9455.030\n",
      "mazda             1644.4669   2581.078      0.637      0.526   -3484.080    6773.014\n",
      "mercury           1603.0524   3191.377      0.502      0.617   -4738.146    7944.250\n",
      "mitsubishi        -980.8639   2863.403     -0.343      0.733   -6670.385    4708.657\n",
      "nissan            2090.8519   2801.885      0.746      0.457   -3476.434    7658.138\n",
      "peugeot          -2199.3772   1231.695     -1.786      0.078   -4646.729     247.974\n",
      "plymouth         -1586.3640   2998.452     -0.529      0.598   -7544.225    4371.496\n",
      "porsche           1.087e+04   3090.590      3.518      0.001    4731.926     1.7e+04\n",
      "renault           2006.2400   3171.462      0.633      0.529   -4295.388    8307.868\n",
      "saab              6879.4297   2585.161      2.661      0.009    1742.769     1.2e+04\n",
      "subaru            4184.2792   2403.662      1.741      0.085    -591.747    8960.305\n",
      "toyota             529.9598   2469.064      0.215      0.831   -4376.018    5435.937\n",
      "volkswagen        2091.9892   2798.422      0.748      0.457   -3468.416    7652.395\n",
      "volvo             3138.8015   2771.168      1.133      0.260   -2367.451    8645.054\n",
      "carbodyhardtop   -2653.9635   1252.080     -2.120      0.037   -5141.819    -166.108\n",
      "carbodyhatchback -4506.6476   1224.137     -3.681      0.000   -6938.981   -2074.314\n",
      "carbodysedan     -4756.8599   1340.335     -3.549      0.001   -7420.077   -2093.643\n",
      "carbodywagon     -4988.6887   1444.540     -3.453      0.001   -7858.960   -2118.418\n",
      "drivewheelfwd      209.7154    826.889      0.254      0.800   -1433.295    1852.726\n",
      "drivewheelrwd     2233.6182   1128.782      1.979      0.051      -9.247    4476.483\n",
      "enginetypel      -2199.3772   1231.695     -1.786      0.078   -4646.729     247.974\n",
      "enginetypeohc    -1035.4975   1207.111     -0.858      0.393   -3434.001    1363.006\n",
      "enginetyperotor   6859.4552   2123.537      3.230      0.002    2640.033    1.11e+04\n",
      "fuelsystem2bbl    3000.6428   1401.630      2.141      0.035     215.634    5785.652\n",
      "fuelsystem4bbl     493.7630   2291.461      0.215      0.830   -4059.321    5046.847\n",
      "fuelsystemidi       49.3922   1.76e+04      0.003      0.998   -3.49e+04     3.5e+04\n",
      "fuelsystemmfi     5.345e-13   6.12e-13      0.874      0.385   -6.81e-13    1.75e-12\n",
      "fuelsystemmpfi    2171.7950   1470.857      1.477      0.143    -750.766    5094.356\n",
      "fuelsystemspdi    1619.0901   1777.101      0.911      0.365   -1911.972    5150.152\n",
      "fuelsystemspfi    2306.2735   2563.037      0.900      0.371   -2786.427    7398.974\n",
      "==============================================================================\n",
      "Omnibus:                        4.897   Durbin-Watson:                   1.971\n",
      "Prob(Omnibus):                  0.086   Jarque-Bera (JB):                4.625\n",
      "Skew:                           0.319   Prob(JB):                       0.0990\n",
      "Kurtosis:                       3.607   Cond. No.                     1.36e+16\n",
      "==============================================================================\n",
      "\n",
      "Warnings:\n",
      "[1] Standard Errors assume that the covariance matrix of the errors is correctly specified.\n",
      "[2] The smallest eigenvalue is 2.57e-23. This might indicate that there are\n",
      "strong multicollinearity problems or that the design matrix is singular.\n"
     ]
    }
   ],
   "source": [
    "#Let's see the summary of our first linear model\n",
    "print(lm_1.summary())"
   ]
  },
  {
   "cell_type": "markdown",
   "metadata": {},
   "source": [
    "Model 1: r-rquare is 0.977 adjusted r-square is .963\n",
    "\n",
    "But when we look at the coefficients; the values are somewhere too high and somewhere too low. As some coefficents are too large there is some mistake in the model. Hence, we need to normalize the model"
   ]
  },
  {
   "cell_type": "code",
   "execution_count": 110,
   "metadata": {},
   "outputs": [],
   "source": [
    "#Normalize the model\n",
    "#user defined function to normalise \n",
    "def normalize(x):\n",
    "    return((x-np.mean(x))/(max(x)-min(x)))"
   ]
  },
  {
   "cell_type": "code",
   "execution_count": 111,
   "metadata": {},
   "outputs": [],
   "source": [
    "carDataWithDummy = carDataWithDummy.apply(normalize)"
   ]
  },
  {
   "cell_type": "code",
   "execution_count": 112,
   "metadata": {},
   "outputs": [
    {
     "name": "stdout",
     "output_type": "stream",
     "text": [
      "                            OLS Regression Results                            \n",
      "==============================================================================\n",
      "Dep. Variable:                  price   R-squared:                       0.977\n",
      "Model:                            OLS   Adj. R-squared:                  0.963\n",
      "Method:                 Least Squares   F-statistic:                     70.89\n",
      "Date:                Sun, 24 Jun 2018   Prob (F-statistic):           7.80e-55\n",
      "Time:                        17:06:20   Log-Likelihood:                 297.68\n",
      "No. Observations:                 143   AIC:                            -487.4\n",
      "Df Residuals:                      89   BIC:                            -327.4\n",
      "Df Model:                          53                                         \n",
      "Covariance Type:            nonrobust                                         \n",
      "====================================================================================\n",
      "                       coef    std err          t      P>|t|      [0.025      0.975]\n",
      "------------------------------------------------------------------------------------\n",
      "symboling           -0.0021      0.015     -0.143      0.887      -0.032       0.027\n",
      "fueltype            -0.2318      0.089     -2.613      0.011      -0.408      -0.056\n",
      "aspiration          -0.0230      0.025     -0.919      0.360      -0.073       0.027\n",
      "doornumber           0.0312      0.014      2.172      0.032       0.003       0.060\n",
      "enginelocation      -0.2741      0.057     -4.775      0.000      -0.388      -0.160\n",
      "wheelbase            0.2938      0.077      3.818      0.000       0.141       0.447\n",
      "carlength           -0.2213      0.088     -2.520      0.014      -0.396      -0.047\n",
      "carwidth             0.2174      0.067      3.239      0.002       0.084       0.351\n",
      "carheight           -0.0506      0.043     -1.183      0.240      -0.136       0.034\n",
      "curbweight           0.3347      0.103      3.240      0.002       0.129       0.540\n",
      "cylindernumber      -0.1323      0.030     -4.360      0.000      -0.193      -0.072\n",
      "enginesize           0.7909      0.122      6.504      0.000       0.549       1.033\n",
      "boreratio           -0.3221      0.069     -4.637      0.000      -0.460      -0.184\n",
      "stroke              -0.0848      0.077     -1.101      0.274      -0.238       0.068\n",
      "compressionratio    -0.4858      0.201     -2.417      0.018      -0.885      -0.086\n",
      "horsepower           0.0144      0.127      0.114      0.909      -0.237       0.266\n",
      "peakrpm              0.1051      0.042      2.486      0.015       0.021       0.189\n",
      "citympg              0.0729      0.137      0.532      0.596      -0.199       0.345\n",
      "highwaympg           0.0362      0.120      0.301      0.764      -0.203       0.275\n",
      "audi                 0.1619      0.075      2.170      0.033       0.014       0.310\n",
      "bmw                  0.2645      0.071      3.716      0.000       0.123       0.406\n",
      "buick                0.1518      0.071      2.143      0.035       0.011       0.293\n",
      "chevrolet           -0.0161      0.084     -0.192      0.848      -0.182       0.150\n",
      "dodge               -0.0262      0.074     -0.355      0.723      -0.172       0.120\n",
      "honda                0.0648      0.081      0.799      0.426      -0.096       0.226\n",
      "isuzu                0.0347      0.074      0.469      0.640      -0.112       0.182\n",
      "jaguar               0.0207      0.108      0.192      0.848      -0.193       0.235\n",
      "mazda                0.0408      0.064      0.637      0.526      -0.086       0.168\n",
      "mercury              0.0398      0.079      0.502      0.617      -0.118       0.197\n",
      "mitsubishi          -0.0243      0.071     -0.343      0.733      -0.166       0.117\n",
      "nissan               0.0519      0.070      0.746      0.457      -0.086       0.190\n",
      "peugeot              0.0116      0.237      0.049      0.961      -0.459       0.482\n",
      "plymouth            -0.0394      0.074     -0.529      0.598      -0.187       0.109\n",
      "porsche              0.2699      0.077      3.518      0.001       0.117       0.422\n",
      "renault              0.0498      0.079      0.633      0.529      -0.107       0.206\n",
      "saab                 0.1708      0.064      2.661      0.009       0.043       0.298\n",
      "subaru               0.1039      0.060      1.741      0.085      -0.015       0.222\n",
      "toyota               0.0132      0.061      0.215      0.831      -0.109       0.135\n",
      "volkswagen           0.0519      0.069      0.748      0.457      -0.086       0.190\n",
      "volvo                0.0779      0.069      1.133      0.260      -0.059       0.215\n",
      "carbodyhardtop      -0.0659      0.031     -2.120      0.037      -0.128      -0.004\n",
      "carbodyhatchback    -0.1119      0.030     -3.681      0.000      -0.172      -0.051\n",
      "carbodysedan        -0.1181      0.033     -3.549      0.001      -0.184      -0.052\n",
      "carbodywagon        -0.1238      0.036     -3.453      0.001      -0.195      -0.053\n",
      "drivewheelfwd        0.0052      0.021      0.254      0.800      -0.036       0.046\n",
      "drivewheelrwd        0.0554      0.028      1.979      0.051      -0.000       0.111\n",
      "enginetypel         -0.1208      0.242     -0.499      0.619      -0.602       0.360\n",
      "enginetypeohc       -0.0257      0.030     -0.858      0.393      -0.085       0.034\n",
      "enginetyperotor      0.1703      0.053      3.230      0.002       0.066       0.275\n",
      "fuelsystem2bbl       0.0745      0.035      2.141      0.035       0.005       0.144\n",
      "fuelsystem4bbl       0.0123      0.057      0.215      0.830      -0.101       0.125\n",
      "fuelsystemidi        0.2318      0.089      2.613      0.011       0.056       0.408\n",
      "fuelsystemmfi       -0.1324      0.475     -0.279      0.781      -1.076       0.812\n",
      "fuelsystemmpfi       0.0539      0.037      1.477      0.143      -0.019       0.126\n",
      "fuelsystemspdi       0.0402      0.044      0.911      0.365      -0.047       0.128\n",
      "fuelsystemspfi       0.0573      0.064      0.900      0.371      -0.069       0.184\n",
      "==============================================================================\n",
      "Omnibus:                        4.897   Durbin-Watson:                   1.971\n",
      "Prob(Omnibus):                  0.086   Jarque-Bera (JB):                4.625\n",
      "Skew:                           0.319   Prob(JB):                       0.0990\n",
      "Kurtosis:                       3.607   Cond. No.                     1.70e+16\n",
      "==============================================================================\n",
      "\n",
      "Warnings:\n",
      "[1] Standard Errors assume that the covariance matrix of the errors is correctly specified.\n",
      "[2] The smallest eigenvalue is 4.28e-31. This might indicate that there are\n",
      "strong multicollinearity problems or that the design matrix is singular.\n"
     ]
    }
   ],
   "source": [
    "# Putting feature variable to X\n",
    "X = carDataWithDummy[['symboling', 'fueltype', 'aspiration', 'doornumber',\n",
    "       'enginelocation', 'wheelbase', 'carlength', 'carwidth', 'carheight',\n",
    "       'curbweight', 'cylindernumber', 'enginesize', 'boreratio', 'stroke',\n",
    "       'compressionratio', 'horsepower', 'peakrpm', 'citympg', 'highwaympg',\n",
    "       'audi', 'bmw', 'buick', 'chevrolet', 'dodge', 'honda', 'isuzu',\n",
    "       'jaguar', 'mazda', 'mercury', 'mitsubishi', 'nissan', 'peugeot',\n",
    "       'plymouth', 'porsche', 'renault', 'saab', 'subaru', 'toyota',\n",
    "       'volkswagen', 'volvo', 'carbodyhardtop', 'carbodyhatchback', 'carbodysedan', 'carbodywagon', 'drivewheelfwd',\n",
    "       'drivewheelrwd', 'enginetypel', 'enginetypeohc', 'enginetyperotor', 'fuelsystem2bbl', 'fuelsystem4bbl',\n",
    "       'fuelsystemidi', 'fuelsystemmfi', 'fuelsystemmpfi', 'fuelsystemspdi', 'fuelsystemspfi']]\n",
    "\n",
    "# Putting response variable to y\n",
    "y = carDataWithDummy['price']\n",
    "X_train, X_test, y_train, y_test = train_test_split(X, y, train_size=0.7 ,test_size = 0.3, random_state=4)\n",
    "#X_train = sm.add_constant(X_train)    # Adding a constant column to our dataframe\n",
    "lm_2 = sm.OLS(y_train,X_train).fit()\n",
    "print(lm_2.summary())"
   ]
  },
  {
   "cell_type": "markdown",
   "metadata": {},
   "source": [
    "Now coefficients lie in the same range"
   ]
  },
  {
   "cell_type": "code",
   "execution_count": 113,
   "metadata": {},
   "outputs": [],
   "source": [
    "# Putting feature variable to X\n",
    "X = carDataWithDummy[['symboling', 'fueltype', 'aspiration', 'doornumber',\n",
    "       'enginelocation', 'wheelbase', 'carlength', 'carwidth', 'carheight',\n",
    "       'curbweight', 'cylindernumber', 'enginesize', 'boreratio', 'stroke',\n",
    "       'compressionratio', 'horsepower', 'peakrpm', 'citympg', 'highwaympg',\n",
    "       'audi', 'bmw', 'buick', 'chevrolet', 'dodge', 'honda', 'isuzu',\n",
    "       'jaguar', 'mazda', 'mercury', 'mitsubishi', 'nissan', 'peugeot',\n",
    "       'plymouth', 'porsche', 'renault', 'saab', 'subaru', 'toyota',\n",
    "       'volkswagen', 'volvo', 'carbodyhardtop', 'carbodyhatchback', 'carbodysedan', 'carbodywagon', 'drivewheelfwd',\n",
    "       'drivewheelrwd', 'enginetypel', 'enginetypeohc', 'enginetyperotor', 'fuelsystem2bbl', 'fuelsystem4bbl',\n",
    "       'fuelsystemidi', 'fuelsystemmfi', 'fuelsystemmpfi', 'fuelsystemspdi', 'fuelsystemspfi']]\n",
    "\n",
    "# Putting response variable to y\n",
    "y = carDataWithDummy['price']\n",
    "X_train, X_test, y_train, y_test = train_test_split(X, y, train_size=0.7 ,test_size = 0.3, random_state=4)"
   ]
  },
  {
   "cell_type": "code",
   "execution_count": 114,
   "metadata": {},
   "outputs": [
    {
     "name": "stdout",
     "output_type": "stream",
     "text": [
      "[False  True False False  True  True False  True False  True False  True\n",
      "  True  True  True False  True False False False  True  True False False\n",
      " False False False False False False False False False  True False False\n",
      " False False False False False False False False False False False False\n",
      "  True False False  True False False False False]\n",
      "[42  1 28 34  1  1  5  1 21  1  3  1  1  1  1 36  1 26 13  4  1  1 24 18\n",
      " 31 35 38 29 22 17 19  2 16  1 33  9 14 39 32 10 11  7  8  6 40 15 12 20\n",
      "  1 23 37  1 41 27 30 25]\n"
     ]
    }
   ],
   "source": [
    "# Run RFE to automatically find the sifnificant variables out of 57 variables\n",
    "# Importing RFE and LinearRegression\n",
    "from sklearn.feature_selection import RFE\n",
    "from sklearn.linear_model import LinearRegression\n",
    "\n",
    "# Running RFE with the output number of the variable equal to 15\n",
    "lm3 = LinearRegression()\n",
    "rfe = RFE(lm3, 15)             # running RFE\n",
    "rfe = rfe.fit(X_train, y_train)\n",
    "print(rfe.support_)           # Printing the boolean results\n",
    "print(rfe.ranking_)  "
   ]
  },
  {
   "cell_type": "code",
   "execution_count": 115,
   "metadata": {},
   "outputs": [
    {
     "data": {
      "text/plain": [
       "Index(['fueltype', 'enginelocation', 'wheelbase', 'carwidth', 'curbweight',\n",
       "       'enginesize', 'boreratio', 'stroke', 'compressionratio', 'peakrpm',\n",
       "       'bmw', 'buick', 'porsche', 'enginetyperotor', 'fuelsystemidi'],\n",
       "      dtype='object')"
      ]
     },
     "execution_count": 115,
     "metadata": {},
     "output_type": "execute_result"
    }
   ],
   "source": [
    "col = X_train.columns[rfe.support_]\n",
    "col"
   ]
  },
  {
   "cell_type": "code",
   "execution_count": 116,
   "metadata": {},
   "outputs": [
    {
     "name": "stdout",
     "output_type": "stream",
     "text": [
      "                            OLS Regression Results                            \n",
      "==============================================================================\n",
      "Dep. Variable:                  price   R-squared:                       0.943\n",
      "Model:                            OLS   Adj. R-squared:                  0.937\n",
      "Method:                 Least Squares   F-statistic:                     152.1\n",
      "Date:                Sun, 24 Jun 2018   Prob (F-statistic):           6.42e-73\n",
      "Time:                        17:06:26   Log-Likelihood:                 233.05\n",
      "No. Observations:                 143   AIC:                            -438.1\n",
      "Df Residuals:                     129   BIC:                            -396.6\n",
      "Df Model:                          14                                         \n",
      "Covariance Type:            nonrobust                                         \n",
      "====================================================================================\n",
      "                       coef    std err          t      P>|t|      [0.025      0.975]\n",
      "------------------------------------------------------------------------------------\n",
      "fueltype            -0.0706      0.056     -1.269      0.207      -0.181       0.039\n",
      "enginelocation      -0.2730      0.052     -5.286      0.000      -0.375      -0.171\n",
      "wheelbase            0.0404      0.050      0.801      0.424      -0.059       0.140\n",
      "carwidth             0.2760      0.057      4.840      0.000       0.163       0.389\n",
      "curbweight           0.1970      0.064      3.074      0.003       0.070       0.324\n",
      "enginesize           0.5064      0.068      7.457      0.000       0.372       0.641\n",
      "boreratio           -0.0891      0.038     -2.316      0.022      -0.165      -0.013\n",
      "stroke              -0.1498      0.039     -3.813      0.000      -0.227      -0.072\n",
      "compressionratio    -0.1413      0.125     -1.135      0.259      -0.388       0.105\n",
      "peakrpm              0.1052      0.030      3.539      0.001       0.046       0.164\n",
      "bmw                  0.2012      0.027      7.355      0.000       0.147       0.255\n",
      "buick                0.1711      0.029      5.994      0.000       0.115       0.228\n",
      "porsche              0.1407      0.044      3.202      0.002       0.054       0.228\n",
      "enginetyperotor      0.1106      0.031      3.619      0.000       0.050       0.171\n",
      "fuelsystemidi        0.0706      0.056      1.269      0.207      -0.039       0.181\n",
      "==============================================================================\n",
      "Omnibus:                       12.281   Durbin-Watson:                   1.911\n",
      "Prob(Omnibus):                  0.002   Jarque-Bera (JB):               15.899\n",
      "Skew:                           0.518   Prob(JB):                     0.000353\n",
      "Kurtosis:                       4.263   Cond. No.                     2.91e+16\n",
      "==============================================================================\n",
      "\n",
      "Warnings:\n",
      "[1] Standard Errors assume that the covariance matrix of the errors is correctly specified.\n",
      "[2] The smallest eigenvalue is 4.05e-32. This might indicate that there are\n",
      "strong multicollinearity problems or that the design matrix is singular.\n"
     ]
    }
   ],
   "source": [
    "#Building model using sklearn\n",
    "# Creating X_test dataframe with RFE selected variables\n",
    "X_train_rfe = X_train[col]\n",
    "# Adding a constant variable \n",
    "import statsmodels.api as sm  \n",
    "#X_train_rfe = sm.add_constant(X_train_rfe)\n",
    "lm4 = sm.OLS(y_train,X_train_rfe).fit()   # Running the linear model\n",
    "#Let's see the summary of our linear model\n",
    "print(lm4.summary())"
   ]
  },
  {
   "cell_type": "code",
   "execution_count": 117,
   "metadata": {},
   "outputs": [],
   "source": [
    "carDataAfterRFE = carDataWithDummy.drop(['symboling', 'aspiration', 'doornumber',\n",
    "        'carlength', 'carheight', 'cylindernumber',\n",
    "        'horsepower', 'citympg', 'highwaympg',\n",
    "       'audi', 'chevrolet', 'dodge', 'honda', 'isuzu',\n",
    "       'jaguar', 'mazda', 'mercury', 'mitsubishi', 'nissan', 'peugeot',\n",
    "       'plymouth', 'renault', 'saab', 'subaru', 'toyota',\n",
    "       'volkswagen', 'volvo', 'carbodyhardtop', 'carbodyhatchback', 'carbodysedan', 'carbodywagon', 'drivewheelfwd',\n",
    "       'drivewheelrwd', 'enginetypel', 'enginetypeohc', 'fuelsystem2bbl', 'fuelsystem4bbl',\n",
    "       'fuelsystemmfi', 'fuelsystemmpfi', 'fuelsystemspdi', 'fuelsystemspfi'],axis=1)"
   ]
  },
  {
   "cell_type": "code",
   "execution_count": 118,
   "metadata": {},
   "outputs": [
    {
     "name": "stdout",
     "output_type": "stream",
     "text": [
      "                            OLS Regression Results                            \n",
      "==============================================================================\n",
      "Dep. Variable:                  price   R-squared:                       0.943\n",
      "Model:                            OLS   Adj. R-squared:                  0.937\n",
      "Method:                 Least Squares   F-statistic:                     164.1\n",
      "Date:                Sun, 24 Jun 2018   Prob (F-statistic):           6.74e-74\n",
      "Time:                        17:06:29   Log-Likelihood:                 232.70\n",
      "No. Observations:                 143   AIC:                            -439.4\n",
      "Df Residuals:                     130   BIC:                            -400.9\n",
      "Df Model:                          13                                         \n",
      "Covariance Type:            nonrobust                                         \n",
      "====================================================================================\n",
      "                       coef    std err          t      P>|t|      [0.025      0.975]\n",
      "------------------------------------------------------------------------------------\n",
      "fueltype            -0.0702      0.056     -1.264      0.208      -0.180       0.040\n",
      "enginelocation      -0.2774      0.051     -5.411      0.000      -0.379      -0.176\n",
      "carwidth             0.2954      0.052      5.732      0.000       0.193       0.397\n",
      "curbweight           0.2131      0.061      3.505      0.001       0.093       0.333\n",
      "enginesize           0.4937      0.066      7.488      0.000       0.363       0.624\n",
      "boreratio           -0.0848      0.038     -2.229      0.028      -0.160      -0.010\n",
      "stroke              -0.1461      0.039     -3.751      0.000      -0.223      -0.069\n",
      "compressionratio    -0.1389      0.124     -1.117      0.266      -0.385       0.107\n",
      "peakrpm              0.1023      0.029      3.472      0.001       0.044       0.161\n",
      "bmw                  0.2052      0.027      7.643      0.000       0.152       0.258\n",
      "buick                0.1723      0.028      6.051      0.000       0.116       0.229\n",
      "porsche              0.1290      0.041      3.118      0.002       0.047       0.211\n",
      "enginetyperotor      0.1061      0.030      3.537      0.001       0.047       0.165\n",
      "fuelsystemidi        0.0702      0.056      1.264      0.208      -0.040       0.180\n",
      "==============================================================================\n",
      "Omnibus:                       13.166   Durbin-Watson:                   1.900\n",
      "Prob(Omnibus):                  0.001   Jarque-Bera (JB):               17.102\n",
      "Skew:                           0.551   Prob(JB):                     0.000193\n",
      "Kurtosis:                       4.286   Cond. No.                     2.86e+16\n",
      "==============================================================================\n",
      "\n",
      "Warnings:\n",
      "[1] Standard Errors assume that the covariance matrix of the errors is correctly specified.\n",
      "[2] The smallest eigenvalue is 4.05e-32. This might indicate that there are\n",
      "strong multicollinearity problems or that the design matrix is singular.\n"
     ]
    }
   ],
   "source": [
    "# wheelbase p-value crosses the threshold \n",
    "X_train_rfe = X_train_rfe.drop('wheelbase', 1)\n",
    "\n",
    "# Create a second fitted model\n",
    "lm_5 = sm.OLS(y_train,X_train_rfe).fit()\n",
    "\n",
    "#Let's see the summary of our second linear model\n",
    "print(lm_5.summary())"
   ]
  },
  {
   "cell_type": "code",
   "execution_count": 119,
   "metadata": {},
   "outputs": [
    {
     "name": "stdout",
     "output_type": "stream",
     "text": [
      "                            OLS Regression Results                            \n",
      "==============================================================================\n",
      "Dep. Variable:                  price   R-squared:                       0.942\n",
      "Model:                            OLS   Adj. R-squared:                  0.937\n",
      "Method:                 Least Squares   F-statistic:                     177.4\n",
      "Date:                Sun, 24 Jun 2018   Prob (F-statistic):           9.17e-75\n",
      "Time:                        17:06:30   Log-Likelihood:                 232.01\n",
      "No. Observations:                 143   AIC:                            -440.0\n",
      "Df Residuals:                     131   BIC:                            -404.5\n",
      "Df Model:                          12                                         \n",
      "Covariance Type:            nonrobust                                         \n",
      "===================================================================================\n",
      "                      coef    std err          t      P>|t|      [0.025      0.975]\n",
      "-----------------------------------------------------------------------------------\n",
      "fueltype           -0.0092      0.010     -0.931      0.353      -0.029       0.010\n",
      "enginelocation     -0.2873      0.051     -5.683      0.000      -0.387      -0.187\n",
      "carwidth            0.2952      0.052      5.723      0.000       0.193       0.397\n",
      "curbweight          0.2321      0.058      3.975      0.000       0.117       0.348\n",
      "enginesize          0.4632      0.060      7.711      0.000       0.344       0.582\n",
      "boreratio          -0.0734      0.037     -2.001      0.047      -0.146      -0.001\n",
      "stroke             -0.1302      0.036     -3.588      0.000      -0.202      -0.058\n",
      "peakrpm             0.0990      0.029      3.374      0.001       0.041       0.157\n",
      "bmw                 0.2096      0.027      7.885      0.000       0.157       0.262\n",
      "buick               0.1800      0.028      6.511      0.000       0.125       0.235\n",
      "porsche             0.1196      0.041      2.949      0.004       0.039       0.200\n",
      "enginetyperotor     0.0969      0.029      3.356      0.001       0.040       0.154\n",
      "fuelsystemidi       0.0092      0.010      0.931      0.353      -0.010       0.029\n",
      "==============================================================================\n",
      "Omnibus:                       12.502   Durbin-Watson:                   1.907\n",
      "Prob(Omnibus):                  0.002   Jarque-Bera (JB):               16.120\n",
      "Skew:                           0.529   Prob(JB):                     0.000316\n",
      "Kurtosis:                       4.260   Cond. No.                     2.55e+16\n",
      "==============================================================================\n",
      "\n",
      "Warnings:\n",
      "[1] Standard Errors assume that the covariance matrix of the errors is correctly specified.\n",
      "[2] The smallest eigenvalue is 4.05e-32. This might indicate that there are\n",
      "strong multicollinearity problems or that the design matrix is singular.\n"
     ]
    }
   ],
   "source": [
    "# compression ratio p-value crosses the threshold \n",
    "X_train_rfe = X_train_rfe.drop('compressionratio', 1)\n",
    "\n",
    "# Create a second fitted model\n",
    "lm_6 = sm.OLS(y_train,X_train_rfe).fit()\n",
    "\n",
    "#Let's see the summary of our second linear model\n",
    "print(lm_6.summary())"
   ]
  },
  {
   "cell_type": "markdown",
   "metadata": {},
   "source": [
    "R-square 0.942 Adjusted R-square 0.937"
   ]
  },
  {
   "cell_type": "code",
   "execution_count": 120,
   "metadata": {},
   "outputs": [],
   "source": [
    "# fueltype and fuelsystemidi p-value crosses the threshold \n",
    "# let's check the VIF "
   ]
  },
  {
   "cell_type": "markdown",
   "metadata": {},
   "source": [
    "CHECKING VIF"
   ]
  },
  {
   "cell_type": "code",
   "execution_count": 121,
   "metadata": {},
   "outputs": [],
   "source": [
    "# User Defined function for calculating vif value\n",
    "def vif_cal(input_data, dependent_col):\n",
    "    vif_df = pd.DataFrame( columns = ['Var', 'Vif'])\n",
    "    x_vars=input_data.drop([dependent_col], axis=1)\n",
    "    xvar_names=x_vars.columns\n",
    "    for i in range(0,xvar_names.shape[0]):\n",
    "        y=x_vars[xvar_names[i]] \n",
    "        x=x_vars[xvar_names.drop(xvar_names[i])]\n",
    "        rsq=sm.OLS(y,x).fit().rsquared  \n",
    "        vif=round(1/(1-rsq),2)\n",
    "        vif_df.loc[i] = [xvar_names[i], vif]\n",
    "    return vif_df.sort_values(by = 'Vif', axis=0, ascending=False, inplace=False)"
   ]
  },
  {
   "cell_type": "code",
   "execution_count": 122,
   "metadata": {},
   "outputs": [
    {
     "name": "stderr",
     "output_type": "stream",
     "text": [
      "C:\\Users\\I310541\\AppData\\Local\\Continuum\\anaconda3\\lib\\site-packages\\ipykernel_launcher.py:10: RuntimeWarning: divide by zero encountered in double_scalars\n",
      "  # Remove the CWD from sys.path while we load stuff.\n"
     ]
    },
    {
     "data": {
      "text/html": [
       "<div>\n",
       "<style scoped>\n",
       "    .dataframe tbody tr th:only-of-type {\n",
       "        vertical-align: middle;\n",
       "    }\n",
       "\n",
       "    .dataframe tbody tr th {\n",
       "        vertical-align: top;\n",
       "    }\n",
       "\n",
       "    .dataframe thead th {\n",
       "        text-align: right;\n",
       "    }\n",
       "</style>\n",
       "<table border=\"1\" class=\"dataframe\">\n",
       "  <thead>\n",
       "    <tr style=\"text-align: right;\">\n",
       "      <th></th>\n",
       "      <th>Var</th>\n",
       "      <th>Vif</th>\n",
       "    </tr>\n",
       "  </thead>\n",
       "  <tbody>\n",
       "    <tr>\n",
       "      <th>0</th>\n",
       "      <td>fueltype</td>\n",
       "      <td>inf</td>\n",
       "    </tr>\n",
       "    <tr>\n",
       "      <th>12</th>\n",
       "      <td>fuelsystemidi</td>\n",
       "      <td>inf</td>\n",
       "    </tr>\n",
       "    <tr>\n",
       "      <th>3</th>\n",
       "      <td>curbweight</td>\n",
       "      <td>8.430000</td>\n",
       "    </tr>\n",
       "    <tr>\n",
       "      <th>4</th>\n",
       "      <td>enginesize</td>\n",
       "      <td>6.070000</td>\n",
       "    </tr>\n",
       "    <tr>\n",
       "      <th>2</th>\n",
       "      <td>carwidth</td>\n",
       "      <td>4.890000</td>\n",
       "    </tr>\n",
       "    <tr>\n",
       "      <th>10</th>\n",
       "      <td>porsche</td>\n",
       "      <td>2.960000</td>\n",
       "    </tr>\n",
       "    <tr>\n",
       "      <th>1</th>\n",
       "      <td>enginelocation</td>\n",
       "      <td>2.870000</td>\n",
       "    </tr>\n",
       "    <tr>\n",
       "      <th>5</th>\n",
       "      <td>boreratio</td>\n",
       "      <td>2.170000</td>\n",
       "    </tr>\n",
       "    <tr>\n",
       "      <th>7</th>\n",
       "      <td>peakrpm</td>\n",
       "      <td>1.830000</td>\n",
       "    </tr>\n",
       "    <tr>\n",
       "      <th>9</th>\n",
       "      <td>buick</td>\n",
       "      <td>1.610000</td>\n",
       "    </tr>\n",
       "    <tr>\n",
       "      <th>6</th>\n",
       "      <td>stroke</td>\n",
       "      <td>1.270000</td>\n",
       "    </tr>\n",
       "    <tr>\n",
       "      <th>11</th>\n",
       "      <td>enginetyperotor</td>\n",
       "      <td>1.210000</td>\n",
       "    </tr>\n",
       "    <tr>\n",
       "      <th>8</th>\n",
       "      <td>bmw</td>\n",
       "      <td>1.120000</td>\n",
       "    </tr>\n",
       "  </tbody>\n",
       "</table>\n",
       "</div>"
      ],
      "text/plain": [
       "                Var       Vif\n",
       "0          fueltype       inf\n",
       "12    fuelsystemidi       inf\n",
       "3        curbweight  8.430000\n",
       "4        enginesize  6.070000\n",
       "2          carwidth  4.890000\n",
       "10          porsche  2.960000\n",
       "1    enginelocation  2.870000\n",
       "5         boreratio  2.170000\n",
       "7           peakrpm  1.830000\n",
       "9             buick  1.610000\n",
       "6            stroke  1.270000\n",
       "11  enginetyperotor  1.210000\n",
       "8               bmw  1.120000"
      ]
     },
     "execution_count": 122,
     "metadata": {},
     "output_type": "execute_result"
    }
   ],
   "source": [
    "# Calculating Vif value\n",
    "\n",
    "vif_cal(input_data=carDataWithDummy.drop(['compressionratio','wheelbase','symboling', 'aspiration', 'doornumber',\n",
    "        'carlength', 'carheight', 'cylindernumber',\n",
    "        'horsepower', 'citympg', 'highwaympg',\n",
    "       'audi', 'chevrolet', 'dodge', 'honda', 'isuzu',\n",
    "       'jaguar', 'mazda', 'mercury', 'mitsubishi', 'nissan', 'peugeot',\n",
    "       'plymouth', 'renault', 'saab', 'subaru', 'toyota',\n",
    "       'volkswagen', 'volvo', 'carbodyhardtop', 'carbodyhatchback', 'carbodysedan', 'carbodywagon', 'drivewheelfwd',\n",
    "       'drivewheelrwd', 'enginetypel', 'enginetypeohc', 'fuelsystem2bbl', 'fuelsystem4bbl',\n",
    "       'fuelsystemmfi', 'fuelsystemmpfi', 'fuelsystemspdi', 'fuelsystemspfi'],axis=1), dependent_col=\"price\")"
   ]
  },
  {
   "cell_type": "markdown",
   "metadata": {},
   "source": [
    "Keep on creating a better model till the model has variables with insignificant variables, till multi colinearity exist and till we do not get a good adjusted r-square value and until we do not get small mean root square error."
   ]
  },
  {
   "cell_type": "code",
   "execution_count": 123,
   "metadata": {},
   "outputs": [
    {
     "name": "stdout",
     "output_type": "stream",
     "text": [
      "                            OLS Regression Results                            \n",
      "==============================================================================\n",
      "Dep. Variable:                  price   R-squared:                       0.942\n",
      "Model:                            OLS   Adj. R-squared:                  0.937\n",
      "Method:                 Least Squares   F-statistic:                     177.4\n",
      "Date:                Sun, 24 Jun 2018   Prob (F-statistic):           9.17e-75\n",
      "Time:                        17:06:37   Log-Likelihood:                 232.01\n",
      "No. Observations:                 143   AIC:                            -440.0\n",
      "Df Residuals:                     131   BIC:                            -404.5\n",
      "Df Model:                          12                                         \n",
      "Covariance Type:            nonrobust                                         \n",
      "===================================================================================\n",
      "                      coef    std err          t      P>|t|      [0.025      0.975]\n",
      "-----------------------------------------------------------------------------------\n",
      "enginelocation     -0.2873      0.051     -5.683      0.000      -0.387      -0.187\n",
      "carwidth            0.2952      0.052      5.723      0.000       0.193       0.397\n",
      "curbweight          0.2321      0.058      3.975      0.000       0.117       0.348\n",
      "enginesize          0.4632      0.060      7.711      0.000       0.344       0.582\n",
      "boreratio          -0.0734      0.037     -2.001      0.047      -0.146      -0.001\n",
      "stroke             -0.1302      0.036     -3.588      0.000      -0.202      -0.058\n",
      "peakrpm             0.0990      0.029      3.374      0.001       0.041       0.157\n",
      "bmw                 0.2096      0.027      7.885      0.000       0.157       0.262\n",
      "buick               0.1800      0.028      6.511      0.000       0.125       0.235\n",
      "porsche             0.1196      0.041      2.949      0.004       0.039       0.200\n",
      "enginetyperotor     0.0969      0.029      3.356      0.001       0.040       0.154\n",
      "fuelsystemidi       0.0183      0.020      0.931      0.353      -0.021       0.057\n",
      "==============================================================================\n",
      "Omnibus:                       12.502   Durbin-Watson:                   1.907\n",
      "Prob(Omnibus):                  0.002   Jarque-Bera (JB):               16.120\n",
      "Skew:                           0.529   Prob(JB):                     0.000316\n",
      "Kurtosis:                       4.260   Cond. No.                         6.74\n",
      "==============================================================================\n",
      "\n",
      "Warnings:\n",
      "[1] Standard Errors assume that the covariance matrix of the errors is correctly specified.\n"
     ]
    }
   ],
   "source": [
    "# As fueltype and fuelsystemidi both have high p-value and have inf VIF which means these can be perfectly determined by each other\n",
    "# Let's not remove them together and remove one by one\n",
    "# Remove fueltype\n",
    "X_train_rfe = X_train_rfe.drop('fueltype', 1)\n",
    "\n",
    "# Create a second fitted model\n",
    "lm_7 = sm.OLS(y_train,X_train_rfe).fit()\n",
    "\n",
    "#Let's see the summary of our second linear model\n",
    "print(lm_7.summary())"
   ]
  },
  {
   "cell_type": "code",
   "execution_count": 124,
   "metadata": {},
   "outputs": [
    {
     "data": {
      "text/html": [
       "<div>\n",
       "<style scoped>\n",
       "    .dataframe tbody tr th:only-of-type {\n",
       "        vertical-align: middle;\n",
       "    }\n",
       "\n",
       "    .dataframe tbody tr th {\n",
       "        vertical-align: top;\n",
       "    }\n",
       "\n",
       "    .dataframe thead th {\n",
       "        text-align: right;\n",
       "    }\n",
       "</style>\n",
       "<table border=\"1\" class=\"dataframe\">\n",
       "  <thead>\n",
       "    <tr style=\"text-align: right;\">\n",
       "      <th></th>\n",
       "      <th>Var</th>\n",
       "      <th>Vif</th>\n",
       "    </tr>\n",
       "  </thead>\n",
       "  <tbody>\n",
       "    <tr>\n",
       "      <th>2</th>\n",
       "      <td>curbweight</td>\n",
       "      <td>8.43</td>\n",
       "    </tr>\n",
       "    <tr>\n",
       "      <th>3</th>\n",
       "      <td>enginesize</td>\n",
       "      <td>6.07</td>\n",
       "    </tr>\n",
       "    <tr>\n",
       "      <th>1</th>\n",
       "      <td>carwidth</td>\n",
       "      <td>4.89</td>\n",
       "    </tr>\n",
       "    <tr>\n",
       "      <th>9</th>\n",
       "      <td>porsche</td>\n",
       "      <td>2.96</td>\n",
       "    </tr>\n",
       "    <tr>\n",
       "      <th>0</th>\n",
       "      <td>enginelocation</td>\n",
       "      <td>2.87</td>\n",
       "    </tr>\n",
       "    <tr>\n",
       "      <th>4</th>\n",
       "      <td>boreratio</td>\n",
       "      <td>2.17</td>\n",
       "    </tr>\n",
       "    <tr>\n",
       "      <th>6</th>\n",
       "      <td>peakrpm</td>\n",
       "      <td>1.83</td>\n",
       "    </tr>\n",
       "    <tr>\n",
       "      <th>11</th>\n",
       "      <td>fuelsystemidi</td>\n",
       "      <td>1.76</td>\n",
       "    </tr>\n",
       "    <tr>\n",
       "      <th>8</th>\n",
       "      <td>buick</td>\n",
       "      <td>1.61</td>\n",
       "    </tr>\n",
       "    <tr>\n",
       "      <th>5</th>\n",
       "      <td>stroke</td>\n",
       "      <td>1.27</td>\n",
       "    </tr>\n",
       "    <tr>\n",
       "      <th>10</th>\n",
       "      <td>enginetyperotor</td>\n",
       "      <td>1.21</td>\n",
       "    </tr>\n",
       "    <tr>\n",
       "      <th>7</th>\n",
       "      <td>bmw</td>\n",
       "      <td>1.12</td>\n",
       "    </tr>\n",
       "  </tbody>\n",
       "</table>\n",
       "</div>"
      ],
      "text/plain": [
       "                Var   Vif\n",
       "2        curbweight  8.43\n",
       "3        enginesize  6.07\n",
       "1          carwidth  4.89\n",
       "9           porsche  2.96\n",
       "0    enginelocation  2.87\n",
       "4         boreratio  2.17\n",
       "6           peakrpm  1.83\n",
       "11    fuelsystemidi  1.76\n",
       "8             buick  1.61\n",
       "5            stroke  1.27\n",
       "10  enginetyperotor  1.21\n",
       "7               bmw  1.12"
      ]
     },
     "execution_count": 124,
     "metadata": {},
     "output_type": "execute_result"
    }
   ],
   "source": [
    "# Calculating Vif value\n",
    "\n",
    "vif_cal(input_data=carDataWithDummy.drop(['fueltype','compressionratio','wheelbase','symboling', 'aspiration', 'doornumber',\n",
    "        'carlength', 'carheight', 'cylindernumber',\n",
    "        'horsepower', 'citympg', 'highwaympg',\n",
    "       'audi', 'chevrolet', 'dodge', 'honda', 'isuzu',\n",
    "       'jaguar', 'mazda', 'mercury', 'mitsubishi', 'nissan', 'peugeot',\n",
    "       'plymouth', 'renault', 'saab', 'subaru', 'toyota',\n",
    "       'volkswagen', 'volvo', 'carbodyhardtop', 'carbodyhatchback', 'carbodysedan', 'carbodywagon', 'drivewheelfwd',\n",
    "       'drivewheelrwd', 'enginetypel', 'enginetypeohc', 'fuelsystem2bbl', 'fuelsystem4bbl',\n",
    "       'fuelsystemmfi', 'fuelsystemmpfi', 'fuelsystemspdi', 'fuelsystemspfi'],axis=1), dependent_col=\"price\")"
   ]
  },
  {
   "cell_type": "code",
   "execution_count": 125,
   "metadata": {},
   "outputs": [
    {
     "name": "stdout",
     "output_type": "stream",
     "text": [
      "                            OLS Regression Results                            \n",
      "==============================================================================\n",
      "Dep. Variable:                  price   R-squared:                       0.942\n",
      "Model:                            OLS   Adj. R-squared:                  0.937\n",
      "Method:                 Least Squares   F-statistic:                     193.6\n",
      "Date:                Sun, 24 Jun 2018   Prob (F-statistic):           9.89e-76\n",
      "Time:                        17:06:39   Log-Likelihood:                 231.54\n",
      "No. Observations:                 143   AIC:                            -441.1\n",
      "Df Residuals:                     132   BIC:                            -408.5\n",
      "Df Model:                          11                                         \n",
      "Covariance Type:            nonrobust                                         \n",
      "===================================================================================\n",
      "                      coef    std err          t      P>|t|      [0.025      0.975]\n",
      "-----------------------------------------------------------------------------------\n",
      "enginelocation     -0.2935      0.050     -5.861      0.000      -0.393      -0.194\n",
      "carwidth            0.2998      0.051      5.843      0.000       0.198       0.401\n",
      "curbweight          0.2463      0.056      4.373      0.000       0.135       0.358\n",
      "enginesize          0.4434      0.056      7.894      0.000       0.332       0.555\n",
      "boreratio          -0.0796      0.036     -2.208      0.029      -0.151      -0.008\n",
      "stroke             -0.1228      0.035     -3.470      0.001      -0.193      -0.053\n",
      "peakrpm             0.0863      0.026      3.321      0.001       0.035       0.138\n",
      "bmw                 0.2109      0.027      7.945      0.000       0.158       0.263\n",
      "buick               0.1848      0.027      6.805      0.000       0.131       0.238\n",
      "porsche             0.1234      0.040      3.061      0.003       0.044       0.203\n",
      "enginetyperotor     0.0971      0.029      3.364      0.001       0.040       0.154\n",
      "==============================================================================\n",
      "Omnibus:                       14.964   Durbin-Watson:                   1.918\n",
      "Prob(Omnibus):                  0.001   Jarque-Bera (JB):               21.203\n",
      "Skew:                           0.579   Prob(JB):                     2.49e-05\n",
      "Kurtosis:                       4.489   Cond. No.                         6.17\n",
      "==============================================================================\n",
      "\n",
      "Warnings:\n",
      "[1] Standard Errors assume that the covariance matrix of the errors is correctly specified.\n"
     ]
    }
   ],
   "source": [
    "# Now we can clearly see that fueltype and fuelsystemidi were highly correlated because of removing fueltype the VIF of fuelsystemidi reduced\n",
    "# But still the p-value of fuelsystemidi crosses threshold\n",
    "# Remove fuelsystemidi\n",
    "X_train_rfe = X_train_rfe.drop('fuelsystemidi', 1)\n",
    "\n",
    "# Create a second fitted model\n",
    "lm_8 = sm.OLS(y_train,X_train_rfe).fit()\n",
    "\n",
    "#Let's see the summary of our second linear model\n",
    "print(lm_8.summary())"
   ]
  },
  {
   "cell_type": "code",
   "execution_count": 126,
   "metadata": {},
   "outputs": [
    {
     "data": {
      "text/html": [
       "<div>\n",
       "<style scoped>\n",
       "    .dataframe tbody tr th:only-of-type {\n",
       "        vertical-align: middle;\n",
       "    }\n",
       "\n",
       "    .dataframe tbody tr th {\n",
       "        vertical-align: top;\n",
       "    }\n",
       "\n",
       "    .dataframe thead th {\n",
       "        text-align: right;\n",
       "    }\n",
       "</style>\n",
       "<table border=\"1\" class=\"dataframe\">\n",
       "  <thead>\n",
       "    <tr style=\"text-align: right;\">\n",
       "      <th></th>\n",
       "      <th>Var</th>\n",
       "      <th>Vif</th>\n",
       "    </tr>\n",
       "  </thead>\n",
       "  <tbody>\n",
       "    <tr>\n",
       "      <th>2</th>\n",
       "      <td>curbweight</td>\n",
       "      <td>7.94</td>\n",
       "    </tr>\n",
       "    <tr>\n",
       "      <th>3</th>\n",
       "      <td>enginesize</td>\n",
       "      <td>5.14</td>\n",
       "    </tr>\n",
       "    <tr>\n",
       "      <th>1</th>\n",
       "      <td>carwidth</td>\n",
       "      <td>4.85</td>\n",
       "    </tr>\n",
       "    <tr>\n",
       "      <th>9</th>\n",
       "      <td>porsche</td>\n",
       "      <td>2.93</td>\n",
       "    </tr>\n",
       "    <tr>\n",
       "      <th>0</th>\n",
       "      <td>enginelocation</td>\n",
       "      <td>2.82</td>\n",
       "    </tr>\n",
       "    <tr>\n",
       "      <th>4</th>\n",
       "      <td>boreratio</td>\n",
       "      <td>2.12</td>\n",
       "    </tr>\n",
       "    <tr>\n",
       "      <th>8</th>\n",
       "      <td>buick</td>\n",
       "      <td>1.55</td>\n",
       "    </tr>\n",
       "    <tr>\n",
       "      <th>6</th>\n",
       "      <td>peakrpm</td>\n",
       "      <td>1.37</td>\n",
       "    </tr>\n",
       "    <tr>\n",
       "      <th>10</th>\n",
       "      <td>enginetyperotor</td>\n",
       "      <td>1.21</td>\n",
       "    </tr>\n",
       "    <tr>\n",
       "      <th>5</th>\n",
       "      <td>stroke</td>\n",
       "      <td>1.16</td>\n",
       "    </tr>\n",
       "    <tr>\n",
       "      <th>7</th>\n",
       "      <td>bmw</td>\n",
       "      <td>1.12</td>\n",
       "    </tr>\n",
       "  </tbody>\n",
       "</table>\n",
       "</div>"
      ],
      "text/plain": [
       "                Var   Vif\n",
       "2        curbweight  7.94\n",
       "3        enginesize  5.14\n",
       "1          carwidth  4.85\n",
       "9           porsche  2.93\n",
       "0    enginelocation  2.82\n",
       "4         boreratio  2.12\n",
       "8             buick  1.55\n",
       "6           peakrpm  1.37\n",
       "10  enginetyperotor  1.21\n",
       "5            stroke  1.16\n",
       "7               bmw  1.12"
      ]
     },
     "execution_count": 126,
     "metadata": {},
     "output_type": "execute_result"
    }
   ],
   "source": [
    "# All the p-values are in control\n",
    "# let's check vif\n",
    "vif_cal(input_data=carDataWithDummy.drop(['fuelsystemidi','fueltype','compressionratio','wheelbase','symboling', 'aspiration', 'doornumber',\n",
    "        'carlength', 'carheight', 'cylindernumber',\n",
    "        'horsepower', 'citympg', 'highwaympg',\n",
    "       'audi', 'chevrolet', 'dodge', 'honda', 'isuzu',\n",
    "       'jaguar', 'mazda', 'mercury', 'mitsubishi', 'nissan', 'peugeot',\n",
    "       'plymouth', 'renault', 'saab', 'subaru', 'toyota',\n",
    "       'volkswagen', 'volvo', 'carbodyhardtop', 'carbodyhatchback', 'carbodysedan', 'carbodywagon', 'drivewheelfwd',\n",
    "       'drivewheelrwd', 'enginetypel', 'enginetypeohc', 'fuelsystem2bbl', 'fuelsystem4bbl',\n",
    "       'fuelsystemmfi', 'fuelsystemmpfi', 'fuelsystemspdi', 'fuelsystemspfi'],axis=1), dependent_col=\"price\")"
   ]
  },
  {
   "cell_type": "code",
   "execution_count": 127,
   "metadata": {},
   "outputs": [],
   "source": [
    "# Dropping highly correlated variables and insignificant variables\n",
    "# Step 1: going to the VIF list enginesize, curbweight have high vif\n",
    "# Step 2: Let's look at their p-value\n",
    "# p-value is with in the threshold of 0.05\n",
    "# Step 3: p-value is with in range but VIF is high so, let's look at the correlation between these in the inittialy plotted heat map\n",
    "# for categical varible we can refer to the below heat map"
   ]
  },
  {
   "cell_type": "code",
   "execution_count": 128,
   "metadata": {},
   "outputs": [
    {
     "data": {
      "text/plain": [
       "<matplotlib.axes._subplots.AxesSubplot at 0x1f91d021630>"
      ]
     },
     "execution_count": 128,
     "metadata": {},
     "output_type": "execute_result"
    },
    {
     "data": {
      "image/png": "[encoded data removed]",
      "text/plain": [
       "<matplotlib.figure.Figure at 0x1f91cfc0e48>"
      ]
     },
     "metadata": {},
     "output_type": "display_data"
    }
   ],
   "source": [
    "# Let's see the correlation matrix \n",
    "plt.figure(figsize = (16,10))     # Size of the figure\n",
    "sns.heatmap(carDataAfterRFE.corr(),annot = True)"
   ]
  },
  {
   "cell_type": "markdown",
   "metadata": {},
   "source": [
    "Compare the heat map created initially and after model creation and look at those correlated variables that are common in both\n",
    "There is actually no need to look in the initial heat map becasue if A is correlated to B in intial heat map then B has to be present in second heat map then only it could be considered\n",
    "Purpose of refering to initial heat map is just to verify that the subset result in second heatmap is similar to the first i.e. we are going in the right direction"
   ]
  },
  {
   "cell_type": "code",
   "execution_count": 129,
   "metadata": {},
   "outputs": [
    {
     "name": "stdout",
     "output_type": "stream",
     "text": [
      "                            OLS Regression Results                            \n",
      "==============================================================================\n",
      "Dep. Variable:                  price   R-squared:                       0.933\n",
      "Model:                            OLS   Adj. R-squared:                  0.928\n",
      "Method:                 Least Squares   F-statistic:                     185.8\n",
      "Date:                Sun, 24 Jun 2018   Prob (F-statistic):           5.12e-73\n",
      "Time:                        17:06:45   Log-Likelihood:                 221.87\n",
      "No. Observations:                 143   AIC:                            -423.7\n",
      "Df Residuals:                     133   BIC:                            -394.1\n",
      "Df Model:                          10                                         \n",
      "Covariance Type:            nonrobust                                         \n",
      "===================================================================================\n",
      "                      coef    std err          t      P>|t|      [0.025      0.975]\n",
      "-----------------------------------------------------------------------------------\n",
      "enginelocation     -0.3241      0.053     -6.130      0.000      -0.429      -0.219\n",
      "carwidth            0.4337      0.044      9.876      0.000       0.347       0.521\n",
      "enginesize          0.5548      0.053     10.398      0.000       0.449       0.660\n",
      "boreratio          -0.0299      0.036     -0.819      0.414      -0.102       0.042\n",
      "stroke             -0.1160      0.038     -3.078      0.003      -0.191      -0.041\n",
      "peakrpm             0.0901      0.028      3.255      0.001       0.035       0.145\n",
      "bmw                 0.2151      0.028      7.609      0.000       0.159       0.271\n",
      "buick               0.1839      0.029      6.355      0.000       0.127       0.241\n",
      "porsche             0.0808      0.042      1.937      0.055      -0.002       0.163\n",
      "enginetyperotor     0.1072      0.031      3.495      0.001       0.047       0.168\n",
      "==============================================================================\n",
      "Omnibus:                       15.780   Durbin-Watson:                   1.991\n",
      "Prob(Omnibus):                  0.000   Jarque-Bera (JB):               17.908\n",
      "Skew:                           0.744   Prob(JB):                     0.000129\n",
      "Kurtosis:                       3.888   Cond. No.                         4.75\n",
      "==============================================================================\n",
      "\n",
      "Warnings:\n",
      "[1] Standard Errors assume that the covariance matrix of the errors is correctly specified.\n"
     ]
    }
   ],
   "source": [
    "# At this point curbweight is highly correlated to enginesize and carwidth\n",
    "# Let's remove one of these by looking at the p-value\n",
    "# p-value in control\n",
    "# let's not touch carwidth as it's VIF is smaller compare to other\n",
    "# out of curbweight and engine size remove curbweight because it's coefficient(0.2463) is less than engine size (0.4434)\n",
    "X_train_rfe = X_train_rfe.drop('curbweight', 1)\n",
    "\n",
    "# Create a second fitted model\n",
    "lm_9 = sm.OLS(y_train,X_train_rfe).fit()\n",
    "\n",
    "#Let's see the summary of our second linear model\n",
    "print(lm_9.summary())\n"
   ]
  },
  {
   "cell_type": "markdown",
   "metadata": {},
   "source": [
    "R-square .933 Adjusted R-square .928"
   ]
  },
  {
   "cell_type": "code",
   "execution_count": 130,
   "metadata": {},
   "outputs": [
    {
     "data": {
      "text/html": [
       "<div>\n",
       "<style scoped>\n",
       "    .dataframe tbody tr th:only-of-type {\n",
       "        vertical-align: middle;\n",
       "    }\n",
       "\n",
       "    .dataframe tbody tr th {\n",
       "        vertical-align: top;\n",
       "    }\n",
       "\n",
       "    .dataframe thead th {\n",
       "        text-align: right;\n",
       "    }\n",
       "</style>\n",
       "<table border=\"1\" class=\"dataframe\">\n",
       "  <thead>\n",
       "    <tr style=\"text-align: right;\">\n",
       "      <th></th>\n",
       "      <th>Var</th>\n",
       "      <th>Vif</th>\n",
       "    </tr>\n",
       "  </thead>\n",
       "  <tbody>\n",
       "    <tr>\n",
       "      <th>2</th>\n",
       "      <td>enginesize</td>\n",
       "      <td>3.51</td>\n",
       "    </tr>\n",
       "    <tr>\n",
       "      <th>1</th>\n",
       "      <td>carwidth</td>\n",
       "      <td>2.91</td>\n",
       "    </tr>\n",
       "    <tr>\n",
       "      <th>0</th>\n",
       "      <td>enginelocation</td>\n",
       "      <td>2.79</td>\n",
       "    </tr>\n",
       "    <tr>\n",
       "      <th>8</th>\n",
       "      <td>porsche</td>\n",
       "      <td>2.79</td>\n",
       "    </tr>\n",
       "    <tr>\n",
       "      <th>3</th>\n",
       "      <td>boreratio</td>\n",
       "      <td>1.97</td>\n",
       "    </tr>\n",
       "    <tr>\n",
       "      <th>7</th>\n",
       "      <td>buick</td>\n",
       "      <td>1.53</td>\n",
       "    </tr>\n",
       "    <tr>\n",
       "      <th>5</th>\n",
       "      <td>peakrpm</td>\n",
       "      <td>1.37</td>\n",
       "    </tr>\n",
       "    <tr>\n",
       "      <th>9</th>\n",
       "      <td>enginetyperotor</td>\n",
       "      <td>1.19</td>\n",
       "    </tr>\n",
       "    <tr>\n",
       "      <th>4</th>\n",
       "      <td>stroke</td>\n",
       "      <td>1.16</td>\n",
       "    </tr>\n",
       "    <tr>\n",
       "      <th>6</th>\n",
       "      <td>bmw</td>\n",
       "      <td>1.12</td>\n",
       "    </tr>\n",
       "  </tbody>\n",
       "</table>\n",
       "</div>"
      ],
      "text/plain": [
       "               Var   Vif\n",
       "2       enginesize  3.51\n",
       "1         carwidth  2.91\n",
       "0   enginelocation  2.79\n",
       "8          porsche  2.79\n",
       "3        boreratio  1.97\n",
       "7            buick  1.53\n",
       "5          peakrpm  1.37\n",
       "9  enginetyperotor  1.19\n",
       "4           stroke  1.16\n",
       "6              bmw  1.12"
      ]
     },
     "execution_count": 130,
     "metadata": {},
     "output_type": "execute_result"
    }
   ],
   "source": [
    "# let's check vif\n",
    "vif_cal(input_data=carDataWithDummy.drop(['curbweight','fuelsystemidi','fueltype','compressionratio','wheelbase','symboling', 'aspiration', 'doornumber',\n",
    "        'carlength', 'carheight', 'cylindernumber',\n",
    "        'horsepower', 'citympg', 'highwaympg',\n",
    "       'audi', 'chevrolet', 'dodge', 'honda', 'isuzu',\n",
    "       'jaguar', 'mazda', 'mercury', 'mitsubishi', 'nissan', 'peugeot',\n",
    "       'plymouth', 'renault', 'saab', 'subaru', 'toyota',\n",
    "       'volkswagen', 'volvo', 'carbodyhardtop', 'carbodyhatchback', 'carbodysedan', 'carbodywagon', 'drivewheelfwd',\n",
    "       'drivewheelrwd', 'enginetypel', 'enginetypeohc', 'fuelsystem2bbl', 'fuelsystem4bbl',\n",
    "       'fuelsystemmfi', 'fuelsystemmpfi', 'fuelsystemspdi', 'fuelsystemspfi'],axis=1), dependent_col=\"price\")"
   ]
  },
  {
   "cell_type": "code",
   "execution_count": 131,
   "metadata": {},
   "outputs": [],
   "source": [
    "# VIF for bore ratio is low compared to other varibales\n",
    "# But the p-value for boreratio crosses the threshold\n",
    "\n",
    "# enginesize again seems to have high correlation with someother variable i.e. it has been explained by someother variable also\n",
    "# Let's again look at the heat map to find highly correlated variables\n",
    "# enginesize is higly correlated with carwidth - - p-value in control for both, coefficient of enginesize > carwidth"
   ]
  },
  {
   "cell_type": "markdown",
   "metadata": {},
   "source": [
    "Note: we can try by removing boreratio but remember it was significant in presence of some variable and now has become insignificant. so we should look at two models parellely; one with boreratio and another without boreratio"
   ]
  },
  {
   "cell_type": "code",
   "execution_count": 132,
   "metadata": {},
   "outputs": [
    {
     "name": "stdout",
     "output_type": "stream",
     "text": [
      "                            OLS Regression Results                            \n",
      "==============================================================================\n",
      "Dep. Variable:                  price   R-squared:                       0.884\n",
      "Model:                            OLS   Adj. R-squared:                  0.876\n",
      "Method:                 Least Squares   F-statistic:                     113.7\n",
      "Date:                Sun, 24 Jun 2018   Prob (F-statistic):           2.89e-58\n",
      "Time:                        17:06:50   Log-Likelihood:                 182.54\n",
      "No. Observations:                 143   AIC:                            -347.1\n",
      "Df Residuals:                     134   BIC:                            -320.4\n",
      "Df Model:                           9                                         \n",
      "Covariance Type:            nonrobust                                         \n",
      "===================================================================================\n",
      "                      coef    std err          t      P>|t|      [0.025      0.975]\n",
      "-----------------------------------------------------------------------------------\n",
      "enginelocation     -0.1365      0.065     -2.110      0.037      -0.265      -0.009\n",
      "enginesize          0.8267      0.060     13.790      0.000       0.708       0.945\n",
      "boreratio           0.0700      0.046      1.523      0.130      -0.021       0.161\n",
      "stroke             -0.0282      0.048     -0.588      0.558      -0.123       0.067\n",
      "peakrpm             0.1045      0.036      2.879      0.005       0.033       0.176\n",
      "bmw                 0.1932      0.037      5.225      0.000       0.120       0.266\n",
      "buick               0.2380      0.037      6.385      0.000       0.164       0.312\n",
      "porsche             0.1491      0.054      2.764      0.007       0.042       0.256\n",
      "enginetyperotor     0.1517      0.040      3.815      0.000       0.073       0.230\n",
      "==============================================================================\n",
      "Omnibus:                       33.909   Durbin-Watson:                   1.995\n",
      "Prob(Omnibus):                  0.000   Jarque-Bera (JB):               57.909\n",
      "Skew:                           1.127   Prob(JB):                     2.66e-13\n",
      "Kurtosis:                       5.154   Cond. No.                         3.72\n",
      "==============================================================================\n",
      "\n",
      "Warnings:\n",
      "[1] Standard Errors assume that the covariance matrix of the errors is correctly specified.\n"
     ]
    }
   ],
   "source": [
    "# At this point let's create two models\n",
    "# one with removing carwidth as enginesize and carwidth are highly correlated (lm_9_1)\n",
    "# another by removing bore ratio (lm_9_2)\n",
    "# comparing two let's move forward\n",
    "X_train_rfe1 = X_train_rfe.drop('carwidth', 1)\n",
    "\n",
    "# Create a second fitted model\n",
    "lm_9_1 = sm.OLS(y_train,X_train_rfe1).fit()\n",
    "\n",
    "#Let's see the summary of our second linear model\n",
    "print(lm_9_1.summary())"
   ]
  },
  {
   "cell_type": "code",
   "execution_count": 133,
   "metadata": {},
   "outputs": [
    {
     "data": {
      "text/html": [
       "<div>\n",
       "<style scoped>\n",
       "    .dataframe tbody tr th:only-of-type {\n",
       "        vertical-align: middle;\n",
       "    }\n",
       "\n",
       "    .dataframe tbody tr th {\n",
       "        vertical-align: top;\n",
       "    }\n",
       "\n",
       "    .dataframe thead th {\n",
       "        text-align: right;\n",
       "    }\n",
       "</style>\n",
       "<table border=\"1\" class=\"dataframe\">\n",
       "  <thead>\n",
       "    <tr style=\"text-align: right;\">\n",
       "      <th></th>\n",
       "      <th>Var</th>\n",
       "      <th>Vif</th>\n",
       "    </tr>\n",
       "  </thead>\n",
       "  <tbody>\n",
       "    <tr>\n",
       "      <th>7</th>\n",
       "      <td>porsche</td>\n",
       "      <td>2.74</td>\n",
       "    </tr>\n",
       "    <tr>\n",
       "      <th>0</th>\n",
       "      <td>enginelocation</td>\n",
       "      <td>2.51</td>\n",
       "    </tr>\n",
       "    <tr>\n",
       "      <th>1</th>\n",
       "      <td>enginesize</td>\n",
       "      <td>2.46</td>\n",
       "    </tr>\n",
       "    <tr>\n",
       "      <th>2</th>\n",
       "      <td>boreratio</td>\n",
       "      <td>1.84</td>\n",
       "    </tr>\n",
       "    <tr>\n",
       "      <th>6</th>\n",
       "      <td>buick</td>\n",
       "      <td>1.46</td>\n",
       "    </tr>\n",
       "    <tr>\n",
       "      <th>4</th>\n",
       "      <td>peakrpm</td>\n",
       "      <td>1.36</td>\n",
       "    </tr>\n",
       "    <tr>\n",
       "      <th>3</th>\n",
       "      <td>stroke</td>\n",
       "      <td>1.16</td>\n",
       "    </tr>\n",
       "    <tr>\n",
       "      <th>8</th>\n",
       "      <td>enginetyperotor</td>\n",
       "      <td>1.16</td>\n",
       "    </tr>\n",
       "    <tr>\n",
       "      <th>5</th>\n",
       "      <td>bmw</td>\n",
       "      <td>1.10</td>\n",
       "    </tr>\n",
       "  </tbody>\n",
       "</table>\n",
       "</div>"
      ],
      "text/plain": [
       "               Var   Vif\n",
       "7          porsche  2.74\n",
       "0   enginelocation  2.51\n",
       "1       enginesize  2.46\n",
       "2        boreratio  1.84\n",
       "6            buick  1.46\n",
       "4          peakrpm  1.36\n",
       "3           stroke  1.16\n",
       "8  enginetyperotor  1.16\n",
       "5              bmw  1.10"
      ]
     },
     "execution_count": 133,
     "metadata": {},
     "output_type": "execute_result"
    }
   ],
   "source": [
    "vif_cal(input_data=carDataWithDummy.drop(['carwidth','curbweight','fuelsystemidi','fueltype','compressionratio','wheelbase','symboling', 'aspiration', 'doornumber',\n",
    "        'carlength', 'carheight', 'cylindernumber',\n",
    "        'horsepower', 'citympg', 'highwaympg',\n",
    "       'audi', 'chevrolet', 'dodge', 'honda', 'isuzu',\n",
    "       'jaguar', 'mazda', 'mercury', 'mitsubishi', 'nissan', 'peugeot',\n",
    "       'plymouth', 'renault', 'saab', 'subaru', 'toyota',\n",
    "       'volkswagen', 'volvo', 'carbodyhardtop', 'carbodyhatchback', 'carbodysedan', 'carbodywagon', 'drivewheelfwd',\n",
    "       'drivewheelrwd', 'enginetypel', 'enginetypeohc', 'fuelsystem2bbl', 'fuelsystem4bbl',\n",
    "       'fuelsystemmfi', 'fuelsystemmpfi', 'fuelsystemspdi', 'fuelsystemspfi'],axis=1), dependent_col=\"price\")"
   ]
  },
  {
   "cell_type": "code",
   "execution_count": 134,
   "metadata": {},
   "outputs": [
    {
     "name": "stdout",
     "output_type": "stream",
     "text": [
      "                            OLS Regression Results                            \n",
      "==============================================================================\n",
      "Dep. Variable:                  price   R-squared:                       0.933\n",
      "Model:                            OLS   Adj. R-squared:                  0.928\n",
      "Method:                 Least Squares   F-statistic:                     206.8\n",
      "Date:                Sun, 24 Jun 2018   Prob (F-statistic):           4.82e-74\n",
      "Time:                        17:06:53   Log-Likelihood:                 221.51\n",
      "No. Observations:                 143   AIC:                            -425.0\n",
      "Df Residuals:                     134   BIC:                            -398.4\n",
      "Df Model:                           9                                         \n",
      "Covariance Type:            nonrobust                                         \n",
      "===================================================================================\n",
      "                      coef    std err          t      P>|t|      [0.025      0.975]\n",
      "-----------------------------------------------------------------------------------\n",
      "enginelocation     -0.3251      0.053     -6.158      0.000      -0.429      -0.221\n",
      "carwidth            0.4237      0.042     10.055      0.000       0.340       0.507\n",
      "enginesize          0.5416      0.051     10.662      0.000       0.441       0.642\n",
      "stroke             -0.1055      0.035     -2.980      0.003      -0.176      -0.035\n",
      "peakrpm             0.0967      0.026      3.655      0.000       0.044       0.149\n",
      "bmw                 0.2145      0.028      7.599      0.000       0.159       0.270\n",
      "buick               0.1879      0.029      6.590      0.000       0.131       0.244\n",
      "porsche             0.0733      0.041      1.804      0.074      -0.007       0.154\n",
      "enginetyperotor     0.1019      0.030      3.403      0.001       0.043       0.161\n",
      "==============================================================================\n",
      "Omnibus:                       13.684   Durbin-Watson:                   1.962\n",
      "Prob(Omnibus):                  0.001   Jarque-Bera (JB):               14.897\n",
      "Skew:                           0.688   Prob(JB):                     0.000582\n",
      "Kurtosis:                       3.781   Cond. No.                         4.36\n",
      "==============================================================================\n",
      "\n",
      "Warnings:\n",
      "[1] Standard Errors assume that the covariance matrix of the errors is correctly specified.\n"
     ]
    }
   ],
   "source": [
    "X_train_rfe2 = X_train_rfe.drop('boreratio', 1)\n",
    "\n",
    "# Create a second fitted model\n",
    "lm_9_2 = sm.OLS(y_train,X_train_rfe2).fit()\n",
    "\n",
    "#Let's see the summary of our second linear model\n",
    "print(lm_9_2.summary())"
   ]
  },
  {
   "cell_type": "code",
   "execution_count": 135,
   "metadata": {},
   "outputs": [
    {
     "data": {
      "text/html": [
       "<div>\n",
       "<style scoped>\n",
       "    .dataframe tbody tr th:only-of-type {\n",
       "        vertical-align: middle;\n",
       "    }\n",
       "\n",
       "    .dataframe tbody tr th {\n",
       "        vertical-align: top;\n",
       "    }\n",
       "\n",
       "    .dataframe thead th {\n",
       "        text-align: right;\n",
       "    }\n",
       "</style>\n",
       "<table border=\"1\" class=\"dataframe\">\n",
       "  <thead>\n",
       "    <tr style=\"text-align: right;\">\n",
       "      <th></th>\n",
       "      <th>Var</th>\n",
       "      <th>Vif</th>\n",
       "    </tr>\n",
       "  </thead>\n",
       "  <tbody>\n",
       "    <tr>\n",
       "      <th>2</th>\n",
       "      <td>enginesize</td>\n",
       "      <td>3.21</td>\n",
       "    </tr>\n",
       "    <tr>\n",
       "      <th>0</th>\n",
       "      <td>enginelocation</td>\n",
       "      <td>2.79</td>\n",
       "    </tr>\n",
       "    <tr>\n",
       "      <th>1</th>\n",
       "      <td>carwidth</td>\n",
       "      <td>2.71</td>\n",
       "    </tr>\n",
       "    <tr>\n",
       "      <th>7</th>\n",
       "      <td>porsche</td>\n",
       "      <td>2.71</td>\n",
       "    </tr>\n",
       "    <tr>\n",
       "      <th>6</th>\n",
       "      <td>buick</td>\n",
       "      <td>1.47</td>\n",
       "    </tr>\n",
       "    <tr>\n",
       "      <th>4</th>\n",
       "      <td>peakrpm</td>\n",
       "      <td>1.27</td>\n",
       "    </tr>\n",
       "    <tr>\n",
       "      <th>8</th>\n",
       "      <td>enginetyperotor</td>\n",
       "      <td>1.15</td>\n",
       "    </tr>\n",
       "    <tr>\n",
       "      <th>5</th>\n",
       "      <td>bmw</td>\n",
       "      <td>1.12</td>\n",
       "    </tr>\n",
       "    <tr>\n",
       "      <th>3</th>\n",
       "      <td>stroke</td>\n",
       "      <td>1.11</td>\n",
       "    </tr>\n",
       "  </tbody>\n",
       "</table>\n",
       "</div>"
      ],
      "text/plain": [
       "               Var   Vif\n",
       "2       enginesize  3.21\n",
       "0   enginelocation  2.79\n",
       "1         carwidth  2.71\n",
       "7          porsche  2.71\n",
       "6            buick  1.47\n",
       "4          peakrpm  1.27\n",
       "8  enginetyperotor  1.15\n",
       "5              bmw  1.12\n",
       "3           stroke  1.11"
      ]
     },
     "execution_count": 135,
     "metadata": {},
     "output_type": "execute_result"
    }
   ],
   "source": [
    "vif_cal(input_data=carDataWithDummy.drop(['boreratio','curbweight','fuelsystemidi','fueltype','compressionratio','wheelbase','symboling', 'aspiration', 'doornumber',\n",
    "        'carlength', 'carheight', 'cylindernumber',\n",
    "        'horsepower', 'citympg', 'highwaympg',\n",
    "       'audi', 'chevrolet', 'dodge', 'honda', 'isuzu',\n",
    "       'jaguar', 'mazda', 'mercury', 'mitsubishi', 'nissan', 'peugeot',\n",
    "       'plymouth', 'renault', 'saab', 'subaru', 'toyota',\n",
    "       'volkswagen', 'volvo', 'carbodyhardtop', 'carbodyhatchback', 'carbodysedan', 'carbodywagon', 'drivewheelfwd',\n",
    "       'drivewheelrwd', 'enginetypel', 'enginetypeohc', 'fuelsystem2bbl', 'fuelsystem4bbl',\n",
    "       'fuelsystemmfi', 'fuelsystemmpfi', 'fuelsystemspdi', 'fuelsystemspfi'],axis=1), dependent_col=\"price\")"
   ]
  },
  {
   "cell_type": "code",
   "execution_count": 136,
   "metadata": {},
   "outputs": [
    {
     "name": "stdout",
     "output_type": "stream",
     "text": [
      "                            OLS Regression Results                            \n",
      "==============================================================================\n",
      "Dep. Variable:                  price   R-squared:                       0.882\n",
      "Model:                            OLS   Adj. R-squared:                  0.875\n",
      "Method:                 Least Squares   F-statistic:                     126.4\n",
      "Date:                Sun, 24 Jun 2018   Prob (F-statistic):           7.80e-59\n",
      "Time:                        17:06:56   Log-Likelihood:                 181.31\n",
      "No. Observations:                 143   AIC:                            -346.6\n",
      "Df Residuals:                     135   BIC:                            -322.9\n",
      "Df Model:                           8                                         \n",
      "Covariance Type:            nonrobust                                         \n",
      "===================================================================================\n",
      "                      coef    std err          t      P>|t|      [0.025      0.975]\n",
      "-----------------------------------------------------------------------------------\n",
      "enginelocation     -0.1230      0.064     -1.909      0.058      -0.250       0.004\n",
      "enginesize          0.8762      0.051     17.297      0.000       0.776       0.976\n",
      "stroke             -0.0497      0.046     -1.077      0.284      -0.141       0.042\n",
      "peakrpm             0.0885      0.035      2.536      0.012       0.020       0.158\n",
      "bmw                 0.1934      0.037      5.208      0.000       0.120       0.267\n",
      "buick               0.2312      0.037      6.217      0.000       0.158       0.305\n",
      "porsche             0.1721      0.052      3.308      0.001       0.069       0.275\n",
      "enginetyperotor     0.1677      0.039      4.347      0.000       0.091       0.244\n",
      "==============================================================================\n",
      "Omnibus:                       31.119   Durbin-Watson:                   2.053\n",
      "Prob(Omnibus):                  0.000   Jarque-Bera (JB):               47.036\n",
      "Skew:                           1.115   Prob(JB):                     6.11e-11\n",
      "Kurtosis:                       4.710   Cond. No.                         3.29\n",
      "==============================================================================\n",
      "\n",
      "Warnings:\n",
      "[1] Standard Errors assume that the covariance matrix of the errors is correctly specified.\n"
     ]
    }
   ],
   "source": [
    "# removing boreratio gives all p-values in threshold except porsche let's remove carwidth now from the model where we removed boreratio \n",
    "X_train_rfe = X_train_rfe2.drop('carwidth', 1)\n",
    "\n",
    "# Create a second fitted model\n",
    "lm_10 = sm.OLS(y_train,X_train_rfe).fit()\n",
    "\n",
    "#Let's see the summary of our second linear model\n",
    "print(lm_10.summary())"
   ]
  },
  {
   "cell_type": "code",
   "execution_count": 137,
   "metadata": {},
   "outputs": [
    {
     "data": {
      "text/html": [
       "<div>\n",
       "<style scoped>\n",
       "    .dataframe tbody tr th:only-of-type {\n",
       "        vertical-align: middle;\n",
       "    }\n",
       "\n",
       "    .dataframe tbody tr th {\n",
       "        vertical-align: top;\n",
       "    }\n",
       "\n",
       "    .dataframe thead th {\n",
       "        text-align: right;\n",
       "    }\n",
       "</style>\n",
       "<table border=\"1\" class=\"dataframe\">\n",
       "  <thead>\n",
       "    <tr style=\"text-align: right;\">\n",
       "      <th></th>\n",
       "      <th>Var</th>\n",
       "      <th>Vif</th>\n",
       "    </tr>\n",
       "  </thead>\n",
       "  <tbody>\n",
       "    <tr>\n",
       "      <th>6</th>\n",
       "      <td>porsche</td>\n",
       "      <td>2.61</td>\n",
       "    </tr>\n",
       "    <tr>\n",
       "      <th>0</th>\n",
       "      <td>enginelocation</td>\n",
       "      <td>2.49</td>\n",
       "    </tr>\n",
       "    <tr>\n",
       "      <th>1</th>\n",
       "      <td>enginesize</td>\n",
       "      <td>1.74</td>\n",
       "    </tr>\n",
       "    <tr>\n",
       "      <th>5</th>\n",
       "      <td>buick</td>\n",
       "      <td>1.43</td>\n",
       "    </tr>\n",
       "    <tr>\n",
       "      <th>3</th>\n",
       "      <td>peakrpm</td>\n",
       "      <td>1.27</td>\n",
       "    </tr>\n",
       "    <tr>\n",
       "      <th>2</th>\n",
       "      <td>stroke</td>\n",
       "      <td>1.11</td>\n",
       "    </tr>\n",
       "    <tr>\n",
       "      <th>7</th>\n",
       "      <td>enginetyperotor</td>\n",
       "      <td>1.11</td>\n",
       "    </tr>\n",
       "    <tr>\n",
       "      <th>4</th>\n",
       "      <td>bmw</td>\n",
       "      <td>1.10</td>\n",
       "    </tr>\n",
       "  </tbody>\n",
       "</table>\n",
       "</div>"
      ],
      "text/plain": [
       "               Var   Vif\n",
       "6          porsche  2.61\n",
       "0   enginelocation  2.49\n",
       "1       enginesize  1.74\n",
       "5            buick  1.43\n",
       "3          peakrpm  1.27\n",
       "2           stroke  1.11\n",
       "7  enginetyperotor  1.11\n",
       "4              bmw  1.10"
      ]
     },
     "execution_count": 137,
     "metadata": {},
     "output_type": "execute_result"
    }
   ],
   "source": [
    "vif_cal(input_data=carDataWithDummy.drop(['carwidth','boreratio','curbweight','fuelsystemidi','fueltype','compressionratio','wheelbase','symboling', 'aspiration', 'doornumber',\n",
    "        'carlength', 'carheight', 'cylindernumber',\n",
    "        'horsepower', 'citympg', 'highwaympg',\n",
    "       'audi', 'chevrolet', 'dodge', 'honda', 'isuzu',\n",
    "       'jaguar', 'mazda', 'mercury', 'mitsubishi', 'nissan', 'peugeot',\n",
    "       'plymouth', 'renault', 'saab', 'subaru', 'toyota',\n",
    "       'volkswagen', 'volvo', 'carbodyhardtop', 'carbodyhatchback', 'carbodysedan', 'carbodywagon', 'drivewheelfwd',\n",
    "       'drivewheelrwd', 'enginetypel', 'enginetypeohc', 'fuelsystem2bbl', 'fuelsystem4bbl',\n",
    "       'fuelsystemmfi', 'fuelsystemmpfi', 'fuelsystemspdi', 'fuelsystemspfi'],axis=1), dependent_col=\"price\")"
   ]
  },
  {
   "cell_type": "code",
   "execution_count": 138,
   "metadata": {},
   "outputs": [
    {
     "name": "stdout",
     "output_type": "stream",
     "text": [
      "                            OLS Regression Results                            \n",
      "==============================================================================\n",
      "Dep. Variable:                  price   R-squared:                       0.881\n",
      "Model:                            OLS   Adj. R-squared:                  0.875\n",
      "Method:                 Least Squares   F-statistic:                     144.1\n",
      "Date:                Sun, 24 Jun 2018   Prob (F-statistic):           1.11e-59\n",
      "Time:                        17:06:59   Log-Likelihood:                 180.70\n",
      "No. Observations:                 143   AIC:                            -347.4\n",
      "Df Residuals:                     136   BIC:                            -326.7\n",
      "Df Model:                           7                                         \n",
      "Covariance Type:            nonrobust                                         \n",
      "===================================================================================\n",
      "                      coef    std err          t      P>|t|      [0.025      0.975]\n",
      "-----------------------------------------------------------------------------------\n",
      "enginelocation     -0.1288      0.064     -2.005      0.047      -0.256      -0.002\n",
      "enginesize          0.8703      0.050     17.271      0.000       0.771       0.970\n",
      "peakrpm             0.0847      0.035      2.438      0.016       0.016       0.153\n",
      "bmw                 0.1962      0.037      5.292      0.000       0.123       0.270\n",
      "buick               0.2280      0.037      6.148      0.000       0.155       0.301\n",
      "porsche             0.1776      0.052      3.428      0.001       0.075       0.280\n",
      "enginetyperotor     0.1680      0.039      4.353      0.000       0.092       0.244\n",
      "==============================================================================\n",
      "Omnibus:                       28.215   Durbin-Watson:                   2.047\n",
      "Prob(Omnibus):                  0.000   Jarque-Bera (JB):               40.302\n",
      "Skew:                           1.051   Prob(JB):                     1.77e-09\n",
      "Kurtosis:                       4.530   Cond. No.                         3.27\n",
      "==============================================================================\n",
      "\n",
      "Warnings:\n",
      "[1] Standard Errors assume that the covariance matrix of the errors is correctly specified.\n"
     ]
    }
   ],
   "source": [
    "# Let's remove stroke as it's p-value is exceeding the threshold\n",
    "X_train_rfe = X_train_rfe.drop('stroke', 1)\n",
    "\n",
    "# Create a second fitted model\n",
    "lm_11 = sm.OLS(y_train,X_train_rfe).fit()\n",
    "\n",
    "#Let's see the summary of our second linear model\n",
    "print(lm_11.summary())"
   ]
  },
  {
   "cell_type": "code",
   "execution_count": 139,
   "metadata": {},
   "outputs": [
    {
     "data": {
      "text/html": [
       "<div>\n",
       "<style scoped>\n",
       "    .dataframe tbody tr th:only-of-type {\n",
       "        vertical-align: middle;\n",
       "    }\n",
       "\n",
       "    .dataframe tbody tr th {\n",
       "        vertical-align: top;\n",
       "    }\n",
       "\n",
       "    .dataframe thead th {\n",
       "        text-align: right;\n",
       "    }\n",
       "</style>\n",
       "<table border=\"1\" class=\"dataframe\">\n",
       "  <thead>\n",
       "    <tr style=\"text-align: right;\">\n",
       "      <th></th>\n",
       "      <th>Var</th>\n",
       "      <th>Vif</th>\n",
       "    </tr>\n",
       "  </thead>\n",
       "  <tbody>\n",
       "    <tr>\n",
       "      <th>5</th>\n",
       "      <td>porsche</td>\n",
       "      <td>2.59</td>\n",
       "    </tr>\n",
       "    <tr>\n",
       "      <th>0</th>\n",
       "      <td>enginelocation</td>\n",
       "      <td>2.48</td>\n",
       "    </tr>\n",
       "    <tr>\n",
       "      <th>1</th>\n",
       "      <td>enginesize</td>\n",
       "      <td>1.63</td>\n",
       "    </tr>\n",
       "    <tr>\n",
       "      <th>4</th>\n",
       "      <td>buick</td>\n",
       "      <td>1.43</td>\n",
       "    </tr>\n",
       "    <tr>\n",
       "      <th>2</th>\n",
       "      <td>peakrpm</td>\n",
       "      <td>1.26</td>\n",
       "    </tr>\n",
       "    <tr>\n",
       "      <th>6</th>\n",
       "      <td>enginetyperotor</td>\n",
       "      <td>1.11</td>\n",
       "    </tr>\n",
       "    <tr>\n",
       "      <th>3</th>\n",
       "      <td>bmw</td>\n",
       "      <td>1.08</td>\n",
       "    </tr>\n",
       "  </tbody>\n",
       "</table>\n",
       "</div>"
      ],
      "text/plain": [
       "               Var   Vif\n",
       "5          porsche  2.59\n",
       "0   enginelocation  2.48\n",
       "1       enginesize  1.63\n",
       "4            buick  1.43\n",
       "2          peakrpm  1.26\n",
       "6  enginetyperotor  1.11\n",
       "3              bmw  1.08"
      ]
     },
     "execution_count": 139,
     "metadata": {},
     "output_type": "execute_result"
    }
   ],
   "source": [
    "# All the p-values are within threshold \n",
    "# R-square .881\n",
    "# Adjusted R-square .875\n",
    "# let's look at VIF\n",
    "vif_cal(input_data=carDataWithDummy.drop(['stroke','carwidth','boreratio','curbweight','fuelsystemidi','fueltype','compressionratio','wheelbase','symboling', 'aspiration', 'doornumber',\n",
    "        'carlength', 'carheight', 'cylindernumber',\n",
    "        'horsepower', 'citympg', 'highwaympg',\n",
    "       'audi', 'chevrolet', 'dodge', 'honda', 'isuzu',\n",
    "       'jaguar', 'mazda', 'mercury', 'mitsubishi', 'nissan', 'peugeot',\n",
    "       'plymouth', 'renault', 'saab', 'subaru', 'toyota',\n",
    "       'volkswagen', 'volvo', 'carbodyhardtop', 'carbodyhatchback', 'carbodysedan', 'carbodywagon', 'drivewheelfwd',\n",
    "       'drivewheelrwd', 'enginetypel', 'enginetypeohc', 'fuelsystem2bbl', 'fuelsystem4bbl',\n",
    "       'fuelsystemmfi', 'fuelsystemmpfi', 'fuelsystemspdi', 'fuelsystemspfi'],axis=1), dependent_col=\"price\")"
   ]
  },
  {
   "cell_type": "code",
   "execution_count": 140,
   "metadata": {},
   "outputs": [
    {
     "name": "stdout",
     "output_type": "stream",
     "text": [
      "                            OLS Regression Results                            \n",
      "==============================================================================\n",
      "Dep. Variable:                  price   R-squared:                       0.871\n",
      "Model:                            OLS   Adj. R-squared:                  0.865\n",
      "Method:                 Least Squares   F-statistic:                     154.0\n",
      "Date:                Sun, 24 Jun 2018   Prob (F-statistic):           2.33e-58\n",
      "Time:                        17:07:02   Log-Likelihood:                 174.77\n",
      "No. Observations:                 143   AIC:                            -337.5\n",
      "Df Residuals:                     137   BIC:                            -319.8\n",
      "Df Model:                           6                                         \n",
      "Covariance Type:            nonrobust                                         \n",
      "===================================================================================\n",
      "                      coef    std err          t      P>|t|      [0.025      0.975]\n",
      "-----------------------------------------------------------------------------------\n",
      "enginelocation     -0.2868      0.046     -6.178      0.000      -0.379      -0.195\n",
      "enginesize          0.9089      0.051     17.820      0.000       0.808       1.010\n",
      "peakrpm             0.1038      0.036      2.913      0.004       0.033       0.174\n",
      "bmw                 0.1845      0.038      4.813      0.000       0.109       0.260\n",
      "buick               0.2138      0.038      5.586      0.000       0.138       0.289\n",
      "enginetyperotor     0.1654      0.040      4.128      0.000       0.086       0.245\n",
      "==============================================================================\n",
      "Omnibus:                       22.060   Durbin-Watson:                   2.073\n",
      "Prob(Omnibus):                  0.000   Jarque-Bera (JB):               27.719\n",
      "Skew:                           0.922   Prob(JB):                     9.57e-07\n",
      "Kurtosis:                       4.120   Cond. No.                         2.53\n",
      "==============================================================================\n",
      "\n",
      "Warnings:\n",
      "[1] Standard Errors assume that the covariance matrix of the errors is correctly specified.\n"
     ]
    }
   ],
   "source": [
    "#porsche has high VIF\n",
    "# let's create a model without porsche\n",
    "# Let's remove posche as it's VIF is high\n",
    "X_train_rfe = X_train_rfe.drop('porsche', 1)\n",
    "\n",
    "# Create a second fitted model\n",
    "lm_12 = sm.OLS(y_train,X_train_rfe).fit()\n",
    "\n",
    "#Let's see the summary of our second linear model\n",
    "print(lm_12.summary())"
   ]
  },
  {
   "cell_type": "code",
   "execution_count": 141,
   "metadata": {},
   "outputs": [
    {
     "data": {
      "text/html": [
       "<div>\n",
       "<style scoped>\n",
       "    .dataframe tbody tr th:only-of-type {\n",
       "        vertical-align: middle;\n",
       "    }\n",
       "\n",
       "    .dataframe tbody tr th {\n",
       "        vertical-align: top;\n",
       "    }\n",
       "\n",
       "    .dataframe thead th {\n",
       "        text-align: right;\n",
       "    }\n",
       "</style>\n",
       "<table border=\"1\" class=\"dataframe\">\n",
       "  <thead>\n",
       "    <tr style=\"text-align: right;\">\n",
       "      <th></th>\n",
       "      <th>Var</th>\n",
       "      <th>Vif</th>\n",
       "    </tr>\n",
       "  </thead>\n",
       "  <tbody>\n",
       "    <tr>\n",
       "      <th>1</th>\n",
       "      <td>enginesize</td>\n",
       "      <td>1.57</td>\n",
       "    </tr>\n",
       "    <tr>\n",
       "      <th>4</th>\n",
       "      <td>buick</td>\n",
       "      <td>1.42</td>\n",
       "    </tr>\n",
       "    <tr>\n",
       "      <th>2</th>\n",
       "      <td>peakrpm</td>\n",
       "      <td>1.24</td>\n",
       "    </tr>\n",
       "    <tr>\n",
       "      <th>0</th>\n",
       "      <td>enginelocation</td>\n",
       "      <td>1.14</td>\n",
       "    </tr>\n",
       "    <tr>\n",
       "      <th>5</th>\n",
       "      <td>enginetyperotor</td>\n",
       "      <td>1.11</td>\n",
       "    </tr>\n",
       "    <tr>\n",
       "      <th>3</th>\n",
       "      <td>bmw</td>\n",
       "      <td>1.07</td>\n",
       "    </tr>\n",
       "  </tbody>\n",
       "</table>\n",
       "</div>"
      ],
      "text/plain": [
       "               Var   Vif\n",
       "1       enginesize  1.57\n",
       "4            buick  1.42\n",
       "2          peakrpm  1.24\n",
       "0   enginelocation  1.14\n",
       "5  enginetyperotor  1.11\n",
       "3              bmw  1.07"
      ]
     },
     "execution_count": 141,
     "metadata": {},
     "output_type": "execute_result"
    }
   ],
   "source": [
    "# All the p-values are in range\n",
    "# R-square .871\n",
    "# Adjusted R-square .865\n",
    "# let's look at VIF\n",
    "vif_cal(input_data=carDataWithDummy.drop(['porsche','stroke','carwidth','boreratio','curbweight','fuelsystemidi','fueltype','compressionratio','wheelbase','symboling', 'aspiration', 'doornumber',\n",
    "        'carlength', 'carheight', 'cylindernumber',\n",
    "        'horsepower', 'citympg', 'highwaympg',\n",
    "       'audi', 'chevrolet', 'dodge', 'honda', 'isuzu',\n",
    "       'jaguar', 'mazda', 'mercury', 'mitsubishi', 'nissan', 'peugeot',\n",
    "       'plymouth', 'renault', 'saab', 'subaru', 'toyota',\n",
    "       'volkswagen', 'volvo', 'carbodyhardtop', 'carbodyhatchback', 'carbodysedan', 'carbodywagon', 'drivewheelfwd',\n",
    "       'drivewheelrwd', 'enginetypel', 'enginetypeohc', 'fuelsystem2bbl', 'fuelsystem4bbl',\n",
    "       'fuelsystemmfi', 'fuelsystemmpfi', 'fuelsystemspdi', 'fuelsystemspfi'],axis=1), dependent_col=\"price\")"
   ]
  },
  {
   "cell_type": "code",
   "execution_count": 142,
   "metadata": {},
   "outputs": [
    {
     "name": "stdout",
     "output_type": "stream",
     "text": [
      "                            OLS Regression Results                            \n",
      "==============================================================================\n",
      "Dep. Variable:                  price   R-squared:                       0.877\n",
      "Model:                            OLS   Adj. R-squared:                  0.871\n",
      "Method:                 Least Squares   F-statistic:                     138.9\n",
      "Date:                Sun, 24 Jun 2018   Prob (F-statistic):           9.91e-59\n",
      "Time:                        17:07:05   Log-Likelihood:                 178.39\n",
      "No. Observations:                 143   AIC:                            -342.8\n",
      "Df Residuals:                     136   BIC:                            -322.0\n",
      "Df Model:                           7                                         \n",
      "Covariance Type:            nonrobust                                         \n",
      "===================================================================================\n",
      "                      coef    std err          t      P>|t|      [0.025      0.975]\n",
      "-----------------------------------------------------------------------------------\n",
      "enginelocation     -0.2680      0.046     -5.828      0.000      -0.359      -0.177\n",
      "enginesize          0.8237      0.059     13.877      0.000       0.706       0.941\n",
      "peakrpm             0.1279      0.036      3.550      0.001       0.057       0.199\n",
      "bmw                 0.1848      0.038      4.926      0.000       0.111       0.259\n",
      "buick               0.2304      0.038      6.068      0.000       0.155       0.306\n",
      "enginetyperotor     0.1399      0.040      3.465      0.001       0.060       0.220\n",
      "boreratio           0.1139      0.043      2.655      0.009       0.029       0.199\n",
      "==============================================================================\n",
      "Omnibus:                       27.997   Durbin-Watson:                   1.988\n",
      "Prob(Omnibus):                  0.000   Jarque-Bera (JB):               43.923\n",
      "Skew:                           0.978   Prob(JB):                     2.90e-10\n",
      "Kurtosis:                       4.883   Cond. No.                         3.18\n",
      "==============================================================================\n",
      "\n",
      "Warnings:\n",
      "[1] Standard Errors assume that the covariance matrix of the errors is correctly specified.\n"
     ]
    }
   ],
   "source": [
    "# Note: all the features in model 12 are within the threshold of p-value and VIF \n",
    "# R-square .871\n",
    "# Adjusted R-square .865\n",
    "# let's try to change a model a bit\n",
    "# As for all the models the bore ratio was coming fine but we had to remove because at one step it's p-value changed \n",
    "# Therefore, let's see after adding it if the model improves\n",
    "\n",
    "X_train_rfe['boreratio'] = carDataWithDummy['boreratio']\n",
    "# Create a second fitted model\n",
    "lm_13 = sm.OLS(y_train,X_train_rfe).fit()\n",
    "\n",
    "#Let's see the summary of our second linear model\n",
    "print(lm_13.summary())\n"
   ]
  },
  {
   "cell_type": "code",
   "execution_count": 143,
   "metadata": {},
   "outputs": [
    {
     "data": {
      "text/html": [
       "<div>\n",
       "<style scoped>\n",
       "    .dataframe tbody tr th:only-of-type {\n",
       "        vertical-align: middle;\n",
       "    }\n",
       "\n",
       "    .dataframe tbody tr th {\n",
       "        vertical-align: top;\n",
       "    }\n",
       "\n",
       "    .dataframe thead th {\n",
       "        text-align: right;\n",
       "    }\n",
       "</style>\n",
       "<table border=\"1\" class=\"dataframe\">\n",
       "  <thead>\n",
       "    <tr style=\"text-align: right;\">\n",
       "      <th></th>\n",
       "      <th>Var</th>\n",
       "      <th>Vif</th>\n",
       "    </tr>\n",
       "  </thead>\n",
       "  <tbody>\n",
       "    <tr>\n",
       "      <th>1</th>\n",
       "      <td>enginesize</td>\n",
       "      <td>2.20</td>\n",
       "    </tr>\n",
       "    <tr>\n",
       "      <th>2</th>\n",
       "      <td>boreratio</td>\n",
       "      <td>1.67</td>\n",
       "    </tr>\n",
       "    <tr>\n",
       "      <th>5</th>\n",
       "      <td>buick</td>\n",
       "      <td>1.45</td>\n",
       "    </tr>\n",
       "    <tr>\n",
       "      <th>3</th>\n",
       "      <td>peakrpm</td>\n",
       "      <td>1.31</td>\n",
       "    </tr>\n",
       "    <tr>\n",
       "      <th>0</th>\n",
       "      <td>enginelocation</td>\n",
       "      <td>1.15</td>\n",
       "    </tr>\n",
       "    <tr>\n",
       "      <th>6</th>\n",
       "      <td>enginetyperotor</td>\n",
       "      <td>1.15</td>\n",
       "    </tr>\n",
       "    <tr>\n",
       "      <th>4</th>\n",
       "      <td>bmw</td>\n",
       "      <td>1.07</td>\n",
       "    </tr>\n",
       "  </tbody>\n",
       "</table>\n",
       "</div>"
      ],
      "text/plain": [
       "               Var   Vif\n",
       "1       enginesize  2.20\n",
       "2        boreratio  1.67\n",
       "5            buick  1.45\n",
       "3          peakrpm  1.31\n",
       "0   enginelocation  1.15\n",
       "6  enginetyperotor  1.15\n",
       "4              bmw  1.07"
      ]
     },
     "execution_count": 143,
     "metadata": {},
     "output_type": "execute_result"
    }
   ],
   "source": [
    "# Adjusted R-square and R-squre improved a bit and all the p-values are within the threshold of 0.05\n",
    "# let's look at VIF\n",
    "vif_cal(input_data=carDataWithDummy.drop(['porsche','stroke','carwidth','curbweight','fuelsystemidi','fueltype','compressionratio','wheelbase','symboling', 'aspiration', 'doornumber',\n",
    "        'carlength', 'carheight', 'cylindernumber',\n",
    "        'horsepower', 'citympg', 'highwaympg',\n",
    "       'audi', 'chevrolet', 'dodge', 'honda', 'isuzu',\n",
    "       'jaguar', 'mazda', 'mercury', 'mitsubishi', 'nissan', 'peugeot',\n",
    "       'plymouth', 'renault', 'saab', 'subaru', 'toyota',\n",
    "       'volkswagen', 'volvo', 'carbodyhardtop', 'carbodyhatchback', 'carbodysedan', 'carbodywagon', 'drivewheelfwd',\n",
    "       'drivewheelrwd', 'enginetypel', 'enginetypeohc', 'fuelsystem2bbl', 'fuelsystem4bbl',\n",
    "       'fuelsystemmfi', 'fuelsystemmpfi', 'fuelsystemspdi', 'fuelsystemspfi'],axis=1), dependent_col=\"price\")"
   ]
  },
  {
   "cell_type": "code",
   "execution_count": 144,
   "metadata": {},
   "outputs": [],
   "source": [
    "# VIF is also fine; heat map shows that enginesize and boreration are correlated by .58\n",
    "# Now we need to take the decision out of model 12 and model 13"
   ]
  },
  {
   "cell_type": "markdown",
   "metadata": {},
   "source": [
    "# Prediction with Model 12"
   ]
  },
  {
   "cell_type": "code",
   "execution_count": 145,
   "metadata": {},
   "outputs": [
    {
     "data": {
      "text/html": [
       "<div>\n",
       "<style scoped>\n",
       "    .dataframe tbody tr th:only-of-type {\n",
       "        vertical-align: middle;\n",
       "    }\n",
       "\n",
       "    .dataframe tbody tr th {\n",
       "        vertical-align: top;\n",
       "    }\n",
       "\n",
       "    .dataframe thead th {\n",
       "        text-align: right;\n",
       "    }\n",
       "</style>\n",
       "<table border=\"1\" class=\"dataframe\">\n",
       "  <thead>\n",
       "    <tr style=\"text-align: right;\">\n",
       "      <th></th>\n",
       "      <th>symboling</th>\n",
       "      <th>fueltype</th>\n",
       "      <th>aspiration</th>\n",
       "      <th>doornumber</th>\n",
       "      <th>enginelocation</th>\n",
       "      <th>wheelbase</th>\n",
       "      <th>carlength</th>\n",
       "      <th>carwidth</th>\n",
       "      <th>carheight</th>\n",
       "      <th>curbweight</th>\n",
       "      <th>...</th>\n",
       "      <th>enginetypel</th>\n",
       "      <th>enginetypeohc</th>\n",
       "      <th>enginetyperotor</th>\n",
       "      <th>fuelsystem2bbl</th>\n",
       "      <th>fuelsystem4bbl</th>\n",
       "      <th>fuelsystemidi</th>\n",
       "      <th>fuelsystemmfi</th>\n",
       "      <th>fuelsystemmpfi</th>\n",
       "      <th>fuelsystemspdi</th>\n",
       "      <th>fuelsystemspfi</th>\n",
       "    </tr>\n",
       "  </thead>\n",
       "  <tbody>\n",
       "    <tr>\n",
       "      <th>1</th>\n",
       "      <td>-0.44878</td>\n",
       "      <td>0.097561</td>\n",
       "      <td>0.180488</td>\n",
       "      <td>-0.560976</td>\n",
       "      <td>0.014634</td>\n",
       "      <td>-0.296110</td>\n",
       "      <td>-0.078347</td>\n",
       "      <td>-0.150650</td>\n",
       "      <td>-0.410407</td>\n",
       "      <td>-0.002935</td>\n",
       "      <td>...</td>\n",
       "      <td>-0.058537</td>\n",
       "      <td>-0.858537</td>\n",
       "      <td>-0.019512</td>\n",
       "      <td>-0.321951</td>\n",
       "      <td>-0.014634</td>\n",
       "      <td>-0.097561</td>\n",
       "      <td>-0.004878</td>\n",
       "      <td>0.541463</td>\n",
       "      <td>-0.043902</td>\n",
       "      <td>-0.004878</td>\n",
       "    </tr>\n",
       "    <tr>\n",
       "      <th>82</th>\n",
       "      <td>-0.44878</td>\n",
       "      <td>0.097561</td>\n",
       "      <td>-0.819512</td>\n",
       "      <td>-0.560976</td>\n",
       "      <td>0.014634</td>\n",
       "      <td>-0.083282</td>\n",
       "      <td>-0.012676</td>\n",
       "      <td>0.032683</td>\n",
       "      <td>-0.293740</td>\n",
       "      <td>0.107616</td>\n",
       "      <td>...</td>\n",
       "      <td>-0.058537</td>\n",
       "      <td>0.141463</td>\n",
       "      <td>-0.019512</td>\n",
       "      <td>-0.321951</td>\n",
       "      <td>-0.014634</td>\n",
       "      <td>-0.097561</td>\n",
       "      <td>-0.004878</td>\n",
       "      <td>-0.458537</td>\n",
       "      <td>0.956098</td>\n",
       "      <td>-0.004878</td>\n",
       "    </tr>\n",
       "    <tr>\n",
       "      <th>76</th>\n",
       "      <td>-0.44878</td>\n",
       "      <td>0.097561</td>\n",
       "      <td>0.180488</td>\n",
       "      <td>-0.560976</td>\n",
       "      <td>0.014634</td>\n",
       "      <td>-0.147422</td>\n",
       "      <td>-0.249989</td>\n",
       "      <td>-0.125650</td>\n",
       "      <td>-0.243740</td>\n",
       "      <td>-0.247310</td>\n",
       "      <td>...</td>\n",
       "      <td>-0.058537</td>\n",
       "      <td>0.141463</td>\n",
       "      <td>-0.019512</td>\n",
       "      <td>0.678049</td>\n",
       "      <td>-0.014634</td>\n",
       "      <td>-0.097561</td>\n",
       "      <td>-0.004878</td>\n",
       "      <td>-0.458537</td>\n",
       "      <td>-0.043902</td>\n",
       "      <td>-0.004878</td>\n",
       "    </tr>\n",
       "    <tr>\n",
       "      <th>102</th>\n",
       "      <td>0.55122</td>\n",
       "      <td>0.097561</td>\n",
       "      <td>0.180488</td>\n",
       "      <td>0.439024</td>\n",
       "      <td>0.014634</td>\n",
       "      <td>0.047913</td>\n",
       "      <td>0.157474</td>\n",
       "      <td>0.049350</td>\n",
       "      <td>0.197927</td>\n",
       "      <td>0.287213</td>\n",
       "      <td>...</td>\n",
       "      <td>-0.058537</td>\n",
       "      <td>0.141463</td>\n",
       "      <td>-0.019512</td>\n",
       "      <td>-0.321951</td>\n",
       "      <td>-0.014634</td>\n",
       "      <td>-0.097561</td>\n",
       "      <td>-0.004878</td>\n",
       "      <td>0.541463</td>\n",
       "      <td>-0.043902</td>\n",
       "      <td>-0.004878</td>\n",
       "    </tr>\n",
       "    <tr>\n",
       "      <th>71</th>\n",
       "      <td>0.55122</td>\n",
       "      <td>0.097561</td>\n",
       "      <td>0.180488</td>\n",
       "      <td>0.439024</td>\n",
       "      <td>0.014634</td>\n",
       "      <td>0.491062</td>\n",
       "      <td>0.426130</td>\n",
       "      <td>0.482683</td>\n",
       "      <td>0.231260</td>\n",
       "      <td>0.459439</td>\n",
       "      <td>...</td>\n",
       "      <td>-0.058537</td>\n",
       "      <td>0.141463</td>\n",
       "      <td>-0.019512</td>\n",
       "      <td>-0.321951</td>\n",
       "      <td>-0.014634</td>\n",
       "      <td>-0.097561</td>\n",
       "      <td>-0.004878</td>\n",
       "      <td>0.541463</td>\n",
       "      <td>-0.043902</td>\n",
       "      <td>-0.004878</td>\n",
       "    </tr>\n",
       "  </tbody>\n",
       "</table>\n",
       "<p>5 rows × 56 columns</p>\n",
       "</div>"
      ],
      "text/plain": [
       "     symboling  fueltype  aspiration  doornumber  enginelocation  wheelbase  \\\n",
       "1     -0.44878  0.097561    0.180488   -0.560976        0.014634  -0.296110   \n",
       "82    -0.44878  0.097561   -0.819512   -0.560976        0.014634  -0.083282   \n",
       "76    -0.44878  0.097561    0.180488   -0.560976        0.014634  -0.147422   \n",
       "102    0.55122  0.097561    0.180488    0.439024        0.014634   0.047913   \n",
       "71     0.55122  0.097561    0.180488    0.439024        0.014634   0.491062   \n",
       "\n",
       "     carlength  carwidth  carheight  curbweight       ...        enginetypel  \\\n",
       "1    -0.078347 -0.150650  -0.410407   -0.002935       ...          -0.058537   \n",
       "82   -0.012676  0.032683  -0.293740    0.107616       ...          -0.058537   \n",
       "76   -0.249989 -0.125650  -0.243740   -0.247310       ...          -0.058537   \n",
       "102   0.157474  0.049350   0.197927    0.287213       ...          -0.058537   \n",
       "71    0.426130  0.482683   0.231260    0.459439       ...          -0.058537   \n",
       "\n",
       "     enginetypeohc  enginetyperotor  fuelsystem2bbl  fuelsystem4bbl  \\\n",
       "1        -0.858537        -0.019512       -0.321951       -0.014634   \n",
       "82        0.141463        -0.019512       -0.321951       -0.014634   \n",
       "76        0.141463        -0.019512        0.678049       -0.014634   \n",
       "102       0.141463        -0.019512       -0.321951       -0.014634   \n",
       "71        0.141463        -0.019512       -0.321951       -0.014634   \n",
       "\n",
       "     fuelsystemidi  fuelsystemmfi  fuelsystemmpfi  fuelsystemspdi  \\\n",
       "1        -0.097561      -0.004878        0.541463       -0.043902   \n",
       "82       -0.097561      -0.004878       -0.458537        0.956098   \n",
       "76       -0.097561      -0.004878       -0.458537       -0.043902   \n",
       "102      -0.097561      -0.004878        0.541463       -0.043902   \n",
       "71       -0.097561      -0.004878        0.541463       -0.043902   \n",
       "\n",
       "     fuelsystemspfi  \n",
       "1         -0.004878  \n",
       "82        -0.004878  \n",
       "76        -0.004878  \n",
       "102       -0.004878  \n",
       "71        -0.004878  \n",
       "\n",
       "[5 rows x 56 columns]"
      ]
     },
     "execution_count": 145,
     "metadata": {},
     "output_type": "execute_result"
    }
   ],
   "source": [
    "X_test.head(5)"
   ]
  },
  {
   "cell_type": "code",
   "execution_count": 146,
   "metadata": {},
   "outputs": [],
   "source": [
    "# Adding  constant variable to test dataframe\n",
    "#X_test = sm.add_constant(X_test)\n",
    "#X_test_m12 = sm.add_constant(X_test)\n",
    "# Creating X_test_m12 dataframe by dropping variables from X_test_m12\n",
    "X_test_m12 = X_test.drop(['porsche','stroke','carwidth','boreratio','curbweight','fuelsystemidi','fueltype','compressionratio','wheelbase','symboling', 'aspiration', 'doornumber',\n",
    "        'carlength', 'carheight', 'cylindernumber',\n",
    "        'horsepower', 'citympg', 'highwaympg',\n",
    "       'audi', 'chevrolet', 'dodge', 'honda', 'isuzu',\n",
    "       'jaguar', 'mazda', 'mercury', 'mitsubishi', 'nissan', 'peugeot',\n",
    "       'plymouth', 'renault', 'saab', 'subaru', 'toyota',\n",
    "       'volkswagen', 'volvo', 'carbodyhardtop', 'carbodyhatchback', 'carbodysedan', 'carbodywagon', 'drivewheelfwd',\n",
    "       'drivewheelrwd', 'enginetypel', 'enginetypeohc', 'fuelsystem2bbl', 'fuelsystem4bbl',\n",
    "       'fuelsystemmfi', 'fuelsystemmpfi', 'fuelsystemspdi', 'fuelsystemspfi'], axis=1)"
   ]
  },
  {
   "cell_type": "code",
   "execution_count": 147,
   "metadata": {},
   "outputs": [
    {
     "data": {
      "text/plain": [
       "(143, 1)"
      ]
     },
     "execution_count": 147,
     "metadata": {},
     "output_type": "execute_result"
    }
   ],
   "source": [
    "y_train.shape\n",
    "y_train = y_train[:,np.newaxis]\n",
    "y_train.shape"
   ]
  },
  {
   "cell_type": "code",
   "execution_count": 148,
   "metadata": {},
   "outputs": [
    {
     "data": {
      "text/plain": [
       "(62, 6)"
      ]
     },
     "execution_count": 148,
     "metadata": {},
     "output_type": "execute_result"
    }
   ],
   "source": [
    "X_test_m12.shape"
   ]
  },
  {
   "cell_type": "code",
   "execution_count": 149,
   "metadata": {},
   "outputs": [],
   "source": [
    "y_pred_m12 = lm_12.predict(X_test_m12)"
   ]
  },
  {
   "cell_type": "markdown",
   "metadata": {},
   "source": [
    "# Model Evaluation"
   ]
  },
  {
   "cell_type": "code",
   "execution_count": 150,
   "metadata": {},
   "outputs": [
    {
     "data": {
      "text/plain": [
       "Text(0,0.5,'Car Price')"
      ]
     },
     "execution_count": 150,
     "metadata": {},
     "output_type": "execute_result"
    },
    {
     "data": {
      "image/png": "[encoded data removed]",
      "text/plain": [
       "<matplotlib.figure.Figure at 0x1f91e246160>"
      ]
     },
     "metadata": {},
     "output_type": "display_data"
    }
   ],
   "source": [
    "# Actual vs Predicted\n",
    "c = [i for i in range(1,63,1)]\n",
    "fig = plt.figure()\n",
    "plt.plot(c,y_test, color=\"blue\", linewidth=2.5, linestyle=\"-\")     #Plotting Actual\n",
    "plt.plot(c,y_pred_m12, color=\"red\",  linewidth=2.5, linestyle=\"-\")  #Plotting predicted\n",
    "fig.suptitle('Actual and Predicted', fontsize=20)              # Plot heading \n",
    "plt.xlabel('Index', fontsize=18)                               # X-label\n",
    "plt.ylabel('Car Price', fontsize=16)                       # Y-label"
   ]
  },
  {
   "cell_type": "code",
   "execution_count": 151,
   "metadata": {},
   "outputs": [
    {
     "data": {
      "text/plain": [
       "Text(0,0.5,'y_pred')"
      ]
     },
     "execution_count": 151,
     "metadata": {},
     "output_type": "execute_result"
    },
    {
     "data": {
      "image/png": "[encoded data removed]",
      "text/plain": [
       "<matplotlib.figure.Figure at 0x1f91e239128>"
      ]
     },
     "metadata": {},
     "output_type": "display_data"
    }
   ],
   "source": [
    "# Plotting y_test and y_pred to understand the spread.\n",
    "fig = plt.figure()\n",
    "plt.scatter(y_test,y_pred_m12)\n",
    "fig.suptitle('y_test vs y_pred', fontsize=20)              # Plot heading \n",
    "plt.xlabel('y_test', fontsize=18)                          # X-label\n",
    "plt.ylabel('y_pred', fontsize=16)                          # Y-label"
   ]
  },
  {
   "cell_type": "code",
   "execution_count": 152,
   "metadata": {},
   "outputs": [
    {
     "data": {
      "text/plain": [
       "Text(0,0.5,'ytest-ypred')"
      ]
     },
     "execution_count": 152,
     "metadata": {},
     "output_type": "execute_result"
    },
    {
     "data": {
      "image/png": "[encoded data removed]",
      "text/plain": [
       "<matplotlib.figure.Figure at 0x1f91cd63240>"
      ]
     },
     "metadata": {},
     "output_type": "display_data"
    }
   ],
   "source": [
    "# Error terms\n",
    "fig = plt.figure()\n",
    "c = [i for i in range(1,63,1)]\n",
    "plt.plot(c,y_test-y_pred_m12, color=\"blue\", linewidth=2.5, linestyle=\"-\")\n",
    "fig.suptitle('Error Terms', fontsize=20)              # Plot heading \n",
    "plt.xlabel('Index', fontsize=18)                      # X-label\n",
    "plt.ylabel('ytest-ypred', fontsize=16)                # Y-label"
   ]
  },
  {
   "cell_type": "code",
   "execution_count": 153,
   "metadata": {},
   "outputs": [
    {
     "data": {
      "text/plain": [
       "Text(0,0.5,'Index')"
      ]
     },
     "execution_count": 153,
     "metadata": {},
     "output_type": "execute_result"
    },
    {
     "data": {
      "image/png": "[encoded data removed]",
      "text/plain": [
       "<matplotlib.figure.Figure at 0x1f91e2c2550>"
      ]
     },
     "metadata": {},
     "output_type": "display_data"
    }
   ],
   "source": [
    "# Plotting the error terms to understand the distribution.\n",
    "fig = plt.figure()\n",
    "sns.distplot((y_test-y_pred_m12),bins=50)\n",
    "fig.suptitle('Error Terms', fontsize=20)                  # Plot heading \n",
    "plt.xlabel('y_test-y_pred', fontsize=18)                  # X-label\n",
    "plt.ylabel('Index', fontsize=16)                          # Y-label"
   ]
  },
  {
   "cell_type": "code",
   "execution_count": 154,
   "metadata": {},
   "outputs": [
    {
     "name": "stdout",
     "output_type": "stream",
     "text": [
      "RMSE : 0.07348469006224213\n"
     ]
    }
   ],
   "source": [
    "import numpy as np\n",
    "from sklearn import metrics\n",
    "print('RMSE :', np.sqrt(metrics.mean_squared_error(y_test, y_pred_m12)))"
   ]
  },
  {
   "cell_type": "code",
   "execution_count": 155,
   "metadata": {},
   "outputs": [],
   "source": [
    "# Let's predic using model 13 also where we have kept bore ratio\n",
    "X_test_m13 = X_test.drop(['porsche','stroke','carwidth','curbweight','fuelsystemidi','fueltype','compressionratio','wheelbase','symboling', 'aspiration', 'doornumber',\n",
    "        'carlength', 'carheight', 'cylindernumber',\n",
    "        'horsepower', 'citympg', 'highwaympg',\n",
    "       'audi', 'chevrolet', 'dodge', 'honda', 'isuzu',\n",
    "       'jaguar', 'mazda', 'mercury', 'mitsubishi', 'nissan', 'peugeot',\n",
    "       'plymouth', 'renault', 'saab', 'subaru', 'toyota',\n",
    "       'volkswagen', 'volvo', 'carbodyhardtop', 'carbodyhatchback', 'carbodysedan', 'carbodywagon', 'drivewheelfwd',\n",
    "       'drivewheelrwd', 'enginetypel', 'enginetypeohc', 'fuelsystem2bbl', 'fuelsystem4bbl',\n",
    "       'fuelsystemmfi', 'fuelsystemmpfi', 'fuelsystemspdi', 'fuelsystemspfi'], axis=1)"
   ]
  },
  {
   "cell_type": "code",
   "execution_count": 156,
   "metadata": {},
   "outputs": [],
   "source": [
    "y_pred_m13 = lm_13.predict(X_test_m13)"
   ]
  },
  {
   "cell_type": "code",
   "execution_count": 157,
   "metadata": {},
   "outputs": [
    {
     "data": {
      "text/plain": [
       "Text(0,0.5,'Car Price')"
      ]
     },
     "execution_count": 157,
     "metadata": {},
     "output_type": "execute_result"
    },
    {
     "data": {
      "image/png": "[encoded data removed]",
      "text/plain": [
       "<matplotlib.figure.Figure at 0x1f91cd1c5f8>"
      ]
     },
     "metadata": {},
     "output_type": "display_data"
    }
   ],
   "source": [
    "# Actual vs Predicted\n",
    "c = [i for i in range(1,63,1)]\n",
    "fig = plt.figure()\n",
    "plt.plot(c,y_test, color=\"blue\", linewidth=2.5, linestyle=\"-\")     #Plotting Actual\n",
    "plt.plot(c,y_pred_m13, color=\"red\",  linewidth=2.5, linestyle=\"-\")  #Plotting predicted\n",
    "fig.suptitle('Actual and Predicted', fontsize=20)              # Plot heading \n",
    "plt.xlabel('Index', fontsize=18)                               # X-label\n",
    "plt.ylabel('Car Price', fontsize=16)                       # Y-label"
   ]
  },
  {
   "cell_type": "code",
   "execution_count": 158,
   "metadata": {},
   "outputs": [
    {
     "data": {
      "text/plain": [
       "Text(0,0.5,'y_pred')"
      ]
     },
     "execution_count": 158,
     "metadata": {},
     "output_type": "execute_result"
    },
    {
     "data": {
      "image/png": "[encoded data removed]",
      "text/plain": [
       "<matplotlib.figure.Figure at 0x1f91e330f98>"
      ]
     },
     "metadata": {},
     "output_type": "display_data"
    }
   ],
   "source": [
    "# Plotting y_test and y_pred to understand the spread.\n",
    "fig = plt.figure()\n",
    "plt.scatter(y_test,y_pred_m13)\n",
    "fig.suptitle('y_test vs y_pred', fontsize=20)              # Plot heading \n",
    "plt.xlabel('y_test', fontsize=18)                          # X-label\n",
    "plt.ylabel('y_pred', fontsize=16)                          # Y-label"
   ]
  },
  {
   "cell_type": "code",
   "execution_count": 159,
   "metadata": {},
   "outputs": [
    {
     "data": {
      "text/plain": [
       "Text(0,0.5,'ytest-ypred')"
      ]
     },
     "execution_count": 159,
     "metadata": {},
     "output_type": "execute_result"
    },
    {
     "data": {
      "image/png": "[encoded data removed]",
      "text/plain": [
       "<matplotlib.figure.Figure at 0x1f91e43f550>"
      ]
     },
     "metadata": {},
     "output_type": "display_data"
    }
   ],
   "source": [
    "# Error terms\n",
    "fig = plt.figure()\n",
    "c = [i for i in range(1,63,1)]\n",
    "plt.plot(c,y_test-y_pred_m13, color=\"blue\", linewidth=2.5, linestyle=\"-\")\n",
    "fig.suptitle('Error Terms', fontsize=20)              # Plot heading \n",
    "plt.xlabel('Index', fontsize=18)                      # X-label\n",
    "plt.ylabel('ytest-ypred', fontsize=16)                # Y-label"
   ]
  },
  {
   "cell_type": "code",
   "execution_count": 160,
   "metadata": {},
   "outputs": [
    {
     "data": {
      "text/plain": [
       "Text(0,0.5,'Index')"
      ]
     },
     "execution_count": 160,
     "metadata": {},
     "output_type": "execute_result"
    },
    {
     "data": {
      "image/png": "[encoded data removed]",
      "text/plain": [
       "<matplotlib.figure.Figure at 0x1f91e4bdba8>"
      ]
     },
     "metadata": {},
     "output_type": "display_data"
    }
   ],
   "source": [
    "# Plotting the error terms to understand the distribution.\n",
    "fig = plt.figure()\n",
    "sns.distplot((y_test-y_pred_m13),bins=50)\n",
    "fig.suptitle('Error Terms', fontsize=20)                  # Plot heading \n",
    "plt.xlabel('y_test-y_pred', fontsize=18)                  # X-label\n",
    "plt.ylabel('Index', fontsize=16)                          # Y-label"
   ]
  },
  {
   "cell_type": "code",
   "execution_count": 161,
   "metadata": {},
   "outputs": [
    {
     "name": "stdout",
     "output_type": "stream",
     "text": [
      "RMSE : 0.07871788158449279\n"
     ]
    }
   ],
   "source": [
    "import numpy as np\n",
    "from sklearn import metrics\n",
    "print('RMSE :', np.sqrt(metrics.mean_squared_error(y_test, y_pred_m13)))"
   ]
  },
  {
   "cell_type": "code",
   "execution_count": 162,
   "metadata": {},
   "outputs": [],
   "source": [
    "# RMSE is less in model 12 hence, that is better than model 13"
   ]
  },
  {
   "cell_type": "code",
   "execution_count": 165,
   "metadata": {},
   "outputs": [
    {
     "name": "stdout",
     "output_type": "stream",
     "text": [
      "                            OLS Regression Results                            \n",
      "==============================================================================\n",
      "Dep. Variable:                      y   R-squared:                       0.863\n",
      "Model:                            OLS   Adj. R-squared:                  0.858\n",
      "Method:                 Least Squares   F-statistic:                     173.7\n",
      "Date:                Sun, 24 Jun 2018   Prob (F-statistic):           1.01e-57\n",
      "Time:                        17:15:49   Log-Likelihood:                 170.48\n",
      "No. Observations:                 143   AIC:                            -331.0\n",
      "Df Residuals:                     138   BIC:                            -316.1\n",
      "Df Model:                           5                                         \n",
      "Covariance Type:            nonrobust                                         \n",
      "===================================================================================\n",
      "                      coef    std err          t      P>|t|      [0.025      0.975]\n",
      "-----------------------------------------------------------------------------------\n",
      "enginelocation     -0.3222      0.046     -7.000      0.000      -0.413      -0.231\n",
      "enginesize          0.9025      0.052     17.249      0.000       0.799       1.006\n",
      "bmw                 0.1906      0.039      4.848      0.000       0.113       0.268\n",
      "buick               0.1894      0.038      4.940      0.000       0.114       0.265\n",
      "enginetyperotor     0.2020      0.039      5.171      0.000       0.125       0.279\n",
      "==============================================================================\n",
      "Omnibus:                       23.638   Durbin-Watson:                   2.046\n",
      "Prob(Omnibus):                  0.000   Jarque-Bera (JB):               30.818\n",
      "Skew:                           0.951   Prob(JB):                     2.03e-07\n",
      "Kurtosis:                       4.246   Cond. No.                         2.34\n",
      "==============================================================================\n",
      "\n",
      "Warnings:\n",
      "[1] Standard Errors assume that the covariance matrix of the errors is correctly specified.\n"
     ]
    }
   ],
   "source": [
    "# The there was a fluctuation in the p-value of peakrpm though it was in range but compared to other variables it fluctuated\n",
    "# also the error term is not perfect\n",
    "# Let's try removing peakrpm\n",
    "X_train_rfe = X_train_rfe.drop('boreratio', 1) # boreratio was added just to see the other model let's remove it\n",
    "X_train_rfe = X_train_rfe.drop('peakrpm', 1)\n",
    "\n",
    "# Create a second fitted model\n",
    "lm_15 = sm.OLS(y_train,X_train_rfe).fit()\n",
    "\n",
    "#Let's see the summary of our second linear model\n",
    "print(lm_15.summary())\n"
   ]
  },
  {
   "cell_type": "code",
   "execution_count": 166,
   "metadata": {},
   "outputs": [],
   "source": [
    "X_test_m15 = X_test.drop(['peakrpm','boreratio','porsche','stroke','carwidth','curbweight','fuelsystemidi','fueltype','compressionratio','wheelbase','symboling', 'aspiration', 'doornumber',\n",
    "        'carlength', 'carheight', 'cylindernumber',\n",
    "        'horsepower', 'citympg', 'highwaympg',\n",
    "       'audi', 'chevrolet', 'dodge', 'honda', 'isuzu',\n",
    "       'jaguar', 'mazda', 'mercury', 'mitsubishi', 'nissan', 'peugeot',\n",
    "       'plymouth', 'renault', 'saab', 'subaru', 'toyota',\n",
    "       'volkswagen', 'volvo', 'carbodyhardtop', 'carbodyhatchback', 'carbodysedan', 'carbodywagon', 'drivewheelfwd',\n",
    "       'drivewheelrwd', 'enginetypel', 'enginetypeohc', 'fuelsystem2bbl', 'fuelsystem4bbl',\n",
    "       'fuelsystemmfi', 'fuelsystemmpfi', 'fuelsystemspdi', 'fuelsystemspfi'], axis=1)\n"
   ]
  },
  {
   "cell_type": "code",
   "execution_count": 167,
   "metadata": {},
   "outputs": [],
   "source": [
    "y_pred_m15 = lm_15.predict(X_test_m15)"
   ]
  },
  {
   "cell_type": "code",
   "execution_count": 168,
   "metadata": {},
   "outputs": [
    {
     "data": {
      "text/plain": [
       "Text(0,0.5,'Index')"
      ]
     },
     "execution_count": 168,
     "metadata": {},
     "output_type": "execute_result"
    },
    {
     "data": {
      "image/png": "[encoded data removed]",
      "text/plain": [
       "<matplotlib.figure.Figure at 0x1f91f8cc7f0>"
      ]
     },
     "metadata": {},
     "output_type": "display_data"
    }
   ],
   "source": [
    "# Plotting the error terms to understand the distribution.\n",
    "fig = plt.figure()\n",
    "sns.distplot((y_test-y_pred_m15),bins=50)\n",
    "fig.suptitle('Error Terms', fontsize=20)                  # Plot heading \n",
    "plt.xlabel('y_test-y_pred', fontsize=18)                  # X-label\n",
    "plt.ylabel('Index', fontsize=16)  "
   ]
  },
  {
   "cell_type": "code",
   "execution_count": 169,
   "metadata": {},
   "outputs": [
    {
     "name": "stdout",
     "output_type": "stream",
     "text": [
      "RMSE : 0.0734119141101837\n"
     ]
    }
   ],
   "source": [
    "print('RMSE :', np.sqrt(metrics.mean_squared_error(y_test, y_pred_m15)))"
   ]
  },
  {
   "cell_type": "markdown",
   "metadata": {},
   "source": [
    "# To be on a safer side let's create a model with the dataset that does not contain outliers"
   ]
  },
  {
   "cell_type": "code",
   "execution_count": 115,
   "metadata": {},
   "outputs": [
    {
     "name": "stdout",
     "output_type": "stream",
     "text": [
      "[False False  True False False False False False False False  True False\n",
      "  True False False False False False False  True  True False False False\n",
      "  True False False False False False False False False  True False False\n",
      " False False  True  True  True  True  True  True False False False  True\n",
      " False False False False False False False  True]\n",
      "[14 34  1 24 35 26 32 22 25 33  1 30  1 12 29 31 36 27 28  1  1 37  6  4\n",
      "  1 20 40  2 10  9 11 19  5  1 38  3 39  8  1  1  1  1  1  1 23 13  7  1\n",
      " 18 16 21 42 41 15 17  1]\n"
     ]
    }
   ],
   "source": [
    "# Putting feature variable to X\n",
    "X = carDataOutliersFree[['symboling', 'fueltype', 'aspiration', 'doornumber',\n",
    "       'enginelocation', 'wheelbase', 'carlength', 'carwidth', 'carheight',\n",
    "       'curbweight', 'cylindernumber', 'enginesize', 'boreratio', 'stroke',\n",
    "       'compressionratio', 'horsepower', 'peakrpm', 'citympg', 'highwaympg',\n",
    "       'audi', 'bmw', 'buick', 'chevrolet', 'dodge', 'honda', 'isuzu',\n",
    "       'jaguar', 'mazda', 'mercury', 'mitsubishi', 'nissan', 'peugeot',\n",
    "       'plymouth', 'porsche', 'renault', 'saab', 'subaru', 'toyota',\n",
    "       'volkswagen', 'volvo', 'carbodyhardtop', 'carbodyhatchback', 'carbodysedan', 'carbodywagon', 'drivewheelfwd',\n",
    "       'drivewheelrwd', 'enginetypel', 'enginetypeohc', 'enginetyperotor', 'fuelsystem2bbl', 'fuelsystem4bbl',\n",
    "       'fuelsystemidi', 'fuelsystemmfi', 'fuelsystemmpfi', 'fuelsystemspdi', 'fuelsystemspfi']]\n",
    "\n",
    "# Putting response variable to y\n",
    "y = carDataOutliersFree['price']\n",
    "\n",
    "from sklearn.feature_selection import RFE\n",
    "from sklearn.linear_model import LinearRegression\n",
    "X_train, X_test, y_train, y_test = train_test_split(X, y, train_size=0.7 ,test_size = 0.3, random_state=4)\n",
    "lm_14 = LinearRegression()\n",
    "rfe = RFE(lm_14, 15)             # running RFE\n",
    "rfe = rfe.fit(X_train, y_train)\n",
    "print(rfe.support_)           # Printing the boolean results\n",
    "print(rfe.ranking_)  "
   ]
  },
  {
   "cell_type": "code",
   "execution_count": 116,
   "metadata": {},
   "outputs": [
    {
     "data": {
      "text/plain": [
       "Index(['aspiration', 'cylindernumber', 'boreratio', 'audi', 'bmw', 'honda',\n",
       "       'porsche', 'volkswagen', 'volvo', 'carbodyhardtop', 'carbodyhatchback',\n",
       "       'carbodysedan', 'carbodywagon', 'enginetypeohc', 'fuelsystemspfi'],\n",
       "      dtype='object')"
      ]
     },
     "execution_count": 116,
     "metadata": {},
     "output_type": "execute_result"
    }
   ],
   "source": [
    "col = X_train.columns[rfe.support_]\n",
    "col"
   ]
  },
  {
   "cell_type": "markdown",
   "metadata": {},
   "source": [
    "Model 14 without outliers returned almost all the car model names which suggest it majorly depends only on the carmodel\n",
    "which cannot be true hence, let's analyse on the basis of our previous model on original dataset."
   ]
  },
  {
   "cell_type": "markdown",
   "metadata": {},
   "source": [
    "Model 12 has following features that are the driving factors in determining the price:\n",
    "1) enginelocation\n",
    "2) enginesize\n",
    "3) enginetyperotor i.e. engine of type rotor\n",
    "4) peakrpm\n",
    "5) car model bmw\n",
    "6) car model buick \n",
    "\n",
    "Another model when determined with other combinations included below variables also \n",
    "1) car model audi\n",
    "2) car model volvo\n",
    "and did not include\n",
    "1) peakrpm\n",
    "\n",
    "So, final decision when looking at the graphs also\n",
    "Major factors:\n",
    "1) enginesize\n",
    "2) enginelocation\n",
    "3) enginetyperotor \n",
    "4) carmodel\n"
   ]
  },
  {
   "cell_type": "markdown",
   "metadata": {},
   "source": [
    "Note: There is a reason befind not dropping the car models that seem to be significant i.e. have low p-value and do not have multicollinearity i.e. have low VIF. A thought might come that what will Gelly Auto do with the names of the car model as it would only need to know the desired factors that determine price so it can use those factors in it's cars and to earn more profit in American market and it cannot keep these model name the why to not remove the model names: The answer is the price really depends on the name of the model for example, it's high when the model name is BMW and removing it will mislead the other variables. It helps in estimating impact of other variables. Removing it will overestimate the impact of other variables."
   ]
  },
  {
   "cell_type": "markdown",
   "metadata": {},
   "source": [
    "Though the data available for enginelocation rear has only 3 records but as we saw earlier our training data included rear for training also\n",
    "Engine size is one of the main factor in determining the price and so is car width. We have not taken carwidth in the model because as we saw enginesize and carwidth were correlated hence, one can determine the other. Also bigger the engine is bigger the size of car is required. It has a coefficient of 0.9089\n",
    "Enginetype rotor has a coefficient of .1654 which means on an increase of "
   ]
  },
  {
   "cell_type": "markdown",
   "metadata": {},
   "source": [
    "# Assessing the model build"
   ]
  },
  {
   "cell_type": "markdown",
   "metadata": {},
   "source": [
    "Below are the metrics \n",
    "\n",
    "found R-square = .877 Adjusted R-square = .871 \n",
    "\n",
    "Note: not much difference in R-square and adjusted R-sqaure which is good and .871 describes that we are able to explain 87.1% of the variation in data which is also very good\n",
    "\n",
    "RMSE = 0.073 which means the error is very small i.e. the difference between predicted and actual is very less\n",
    "Below are the metrics found\n",
    "R-square = .877\n",
    "Adjusted R-square = .871\n",
    "Note: not much difference in R-square and adjusted R-sqaure which is good\n",
    "and .871 describes that we are able to explain 87.1% of the variation in data which is also very good\n",
    "\n",
    "RMSE = 0.073 which means the error is very small i.e. the difference between predicted and actual is very less\n",
    "\n",
    "![image.png](attachment:image.png) \n",
    "\n",
    "Y-predict vs. Y-test graph shows that there is not much difference i.e. randomness in the error term exists. \n",
    "\n",
    "Also, actual and predicted are higly overlaping model is predicting pretty well.\n",
    "\n",
    "Now we know what variables are important for Geely Auto but how much should it spend on which variable to have a correct and good price is also important. The coefficients define that \n",
    "hence, using linear regression y = mx+c \n",
    "price = m1*x1 + m2*x2 +m3*x3 +m4*x4 + m5*x5 \n",
    "price = m1*('enginelocation') + m2*('enginesize') + m3*('enginetyperotor') +  m4*(BMW) + m5*(buick) + intercept\n",
    "\n",
    "Here, enginetyperotor i.e. x3 = 1 if a car has engine type = rotor else x3 = 0\n",
    "similar for car model also i.e. if the car_model is out of the 2 in model then x4 or x5 is 1 else 0.\n",
    "\n",
    "here m1, m2, m3, m4, m5 are the slopes which determine how much will be the change in price on change of x.\n",
    "\n",
    "So, if the brand is BMW the price increases by .1845. But as Geely Auto does not have to do with brand/model name hence, other than car models are the important factors for Geely Auto. Why can't we ignore car models is explained above.\n"
   ]
  }
 ],
 "metadata": {
  "kernelspec": {
   "display_name": "Python 3",
   "language": "python",
   "name": "python3"
  },
  "language_info": {
   "codemirror_mode": {
    "name": "ipython",
    "version": 3
   },
   "file_extension": ".py",
   "mimetype": "text/x-python",
   "name": "python",
   "nbconvert_exporter": "python",
   "pygments_lexer": "ipython3",
   "version": "3.6.4"
  }
 },
 "nbformat": 4,
 "nbformat_minor": 2
}
